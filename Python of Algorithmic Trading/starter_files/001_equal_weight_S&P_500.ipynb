{
 "cells": [
  {
   "cell_type": "code",
   "execution_count": 6,
   "metadata": {},
   "outputs": [
    {
     "name": "stdout",
     "output_type": "stream",
     "text": [
      "[main 0dfaed1] fmp platform looks promising\n",
      " 3 files changed, 143 insertions(+), 31 deletions(-)\n",
      " rewrite Python of Algorithmic Trading/starter_files/__pycache__/secrets_0x01.cpython-39.pyc (98%)\n"
     ]
    },
    {
     "name": "stderr",
     "output_type": "stream",
     "text": [
      "To github.com:joethesaint/my-algo-trading-projects.git\n",
      "   d7290d8..0dfaed1  main -> main\n"
     ]
    }
   ],
   "source": [
    "# GitHub update\n",
    "!git add . && git commit -m \"fmp platform looks promising\" && git push"
   ]
  },
  {
   "cell_type": "markdown",
   "metadata": {},
   "source": [
    "# Equal-Weight S&P 500 Index Fund\n",
    "\n",
    "## Introduction & Library Imports\n",
    "\n",
    "The S&P 500 is the world's most popular stock market index. The largest fund that is benchmarked to this index is the SPDR® S&P 500® ETF Trust. It has more than US$250 billion of assets under management.\n",
    "\n",
    "The goal of this section of the course is to create a Python script that will accept the value of your portfolio and tell you how many shares of each S&P 500 constituent you should purchase to get an equal-weight version of the index fund.\n",
    "\n",
    "## Library Imports\n",
    "\n",
    "The first thing we need to do is import the open-source software libraries that we'll be using in this tutorial."
   ]
  },
  {
   "cell_type": "code",
   "execution_count": 2,
   "metadata": {},
   "outputs": [],
   "source": [
    "# %pip install -r requirements.txt\n",
    "\n",
    "import numpy as np\n",
    "import pandas as pd\n",
    "import requests  # HTTP Requests for API interaction\n",
    "import xlsxwriter\n",
    "import math"
   ]
  },
  {
   "cell_type": "markdown",
   "metadata": {},
   "source": [
    "So apparently, the tutorial is outdated due to IEX Cloud data provider having to change their policies over the years\n",
    "and it is affecting the continuation of the course\n",
    "\n",
    "To all those who are referring the course in 2024, following might help :\n",
    "\n",
    "\n",
    "instead of IEX we can use yfinance library \n",
    "\n",
    "\n",
    "```\n",
    "import yfinance as yf\n",
    "tickerSymbol = 'AAPL'\n",
    "tickerData = yf.Ticker(tickerSymbol)\n",
    "\n",
    "# Get the historical prices for this ticker\n",
    "tickerDf = tickerData.history(period='1d', start='2024-05-09', end='2024-05-10')\n",
    "marketCap= tickerData.info['marketCap']\n",
    "\n",
    "\n",
    "price= tickerDf['Open']\n",
    "\n",
    "and also these prices are the live market value prices.\n",
    "```"
   ]
  },
  {
   "cell_type": "code",
   "execution_count": 69,
   "metadata": {},
   "outputs": [],
   "source": [
    "import yfinance as yf\n",
    "from datetime import datetime, timedelta"
   ]
  },
  {
   "cell_type": "markdown",
   "metadata": {},
   "source": [
    "**Now I am using Alpaca markets after realizing Yahoo Finance is flawed.**"
   ]
  },
  {
   "cell_type": "code",
   "execution_count": 4,
   "metadata": {},
   "outputs": [],
   "source": [
    "# Please change the following to your own PAPER api key and secret\n",
    "# You can get them from https://alpaca.markets/\n",
    "\n",
    "API_KEY = \"PKG7SD9KTL4HB4RO7XUL\"\n",
    "SECRET_KEY = \"v7jS6ceubcTBqGdkA13IuYyeUVCSGVe2a2JF2Zkh\"\n",
    "\n",
    "#### We use paper environment for this example ####\n",
    "paper = True # Please do not modify this. This example is for paper trading only.\n",
    "####\n",
    "\n",
    "# Below are the variables for development this documents\n",
    "# Please do not change these variables\n",
    "trade_api_url = None\n",
    "trade_api_wss = None\n",
    "data_api_url = None\n",
    "stream_data_wss = None"
   ]
  },
  {
   "cell_type": "code",
   "execution_count": 3,
   "metadata": {},
   "outputs": [],
   "source": [
    "import json\n",
    "from datetime import datetime, timedelta\n",
    "from zoneinfo import ZoneInfo\n",
    "\n",
    "import alpaca\n",
    "from alpaca.data.live.stock import *\n",
    "from alpaca.data.historical.stock import *\n",
    "from alpaca.data.requests import *\n",
    "from alpaca.data.timeframe import *\n",
    "from alpaca.trading.client import *\n",
    "from alpaca.trading.stream import *\n",
    "from alpaca.trading.requests import *\n",
    "from alpaca.trading.enums import *\n",
    "from alpaca.common.exceptions import APIError"
   ]
  },
  {
   "cell_type": "code",
   "execution_count": 25,
   "metadata": {},
   "outputs": [],
   "source": [
    "# to run async code in jupyter notebook\n",
    "import nest_asyncio\n",
    "nest_asyncio.apply()"
   ]
  },
  {
   "cell_type": "code",
   "execution_count": 26,
   "metadata": {},
   "outputs": [
    {
     "data": {
      "text/plain": [
       "'0.26.1'"
      ]
     },
     "execution_count": 26,
     "metadata": {},
     "output_type": "execute_result"
    }
   ],
   "source": [
    "# check version of alpaca-py\n",
    "alpaca.__version__"
   ]
  },
  {
   "cell_type": "markdown",
   "metadata": {},
   "source": [
    "#### Market Data (Historical)"
   ]
  },
  {
   "cell_type": "code",
   "execution_count": 28,
   "metadata": {},
   "outputs": [
    {
     "data": {
      "text/plain": [
       "True"
      ]
     },
     "execution_count": 28,
     "metadata": {},
     "output_type": "execute_result"
    }
   ],
   "source": [
    "import websocket, json\n",
    "\n",
    "def on_open(ws):\n",
    "    print(\"opened\")\n",
    "    auth_data = {\n",
    "        \"action\": \"authenticate\",\n",
    "        \"data\": {\"key_id\": secrets_0x01.API_KEY, \"secret_key\": secrets_0x01.SECRET_KEY}\n",
    "    }\n",
    "\n",
    "    ws.send(json.dumps(auth_data))\n",
    "\n",
    "    listen_message = {\"action\": \"listen\", \"data\": {\"streams\": [\"AM.TSLA\"]}}\n",
    "\n",
    "    ws.send(json.dumps(listen_message))\n",
    "\n",
    "\n",
    "def on_message(ws, message):\n",
    "    print(\"received a message\")\n",
    "    print(message)\n",
    "\n",
    "def on_close(ws):\n",
    "    print(\"closed connection\")\n",
    "\n",
    "socket = \"wss://data.alpaca.markets/stream\"\n",
    "\n",
    "ws = websocket.WebSocketApp(socket, on_open=on_open, on_message=on_message, on_close=on_close)\n",
    "ws.run_forever()"
   ]
  },
  {
   "cell_type": "code",
   "execution_count": 52,
   "metadata": {},
   "outputs": [],
   "source": [
    "symbol = \"TSLA\""
   ]
  },
  {
   "cell_type": "code",
   "execution_count": 53,
   "metadata": {},
   "outputs": [
    {
     "name": "stdout",
     "output_type": "stream",
     "text": [
      "{\"auctions\":{},\"next_page_token\":null}\n"
     ]
    }
   ],
   "source": [
    "# This is to test your Alpaca\n",
    "\n",
    "import requests\n",
    "\n",
    "url = \"https://data.alpaca.markets/v2/stocks/auctions?symbols=AAPL%2CTSLA&limit=1000&sort=asc\"\n",
    "\n",
    "headers = {\n",
    "    \"accept\": \"application/json\",\n",
    "    \"APCA-API-KEY-ID\": \"PKG7SD9KTL4HB4RO7XUL\",\n",
    "    \"APCA-API-SECRET-KEY\": \"v7jS6ceubcTBqGdkA13IuYyeUVCSGVe2a2JF2Zkh\"\n",
    "}\n",
    "\n",
    "response = requests.get(url, headers=headers)\n",
    "\n",
    "print(response.text)"
   ]
  },
  {
   "cell_type": "code",
   "execution_count": null,
   "metadata": {},
   "outputs": [],
   "source": []
  },
  {
   "cell_type": "code",
   "execution_count": 54,
   "metadata": {
    "collapsed": true
   },
   "outputs": [
    {
     "name": "stdout",
     "output_type": "stream",
     "text": [
      "                                     open     high      low    close  \\\n",
      "symbol timestamp                                                       \n",
      "TSLA   2023-01-03 05:00:00+00:00  118.280  118.800  104.660  108.045   \n",
      "       2023-01-04 05:00:00+00:00  109.150  114.570  107.620  113.660   \n",
      "       2023-01-05 05:00:00+00:00  110.240  111.710  107.180  110.360   \n",
      "       2023-01-06 05:00:00+00:00  102.900  114.380  101.870  113.010   \n",
      "       2023-01-09 05:00:00+00:00  118.980  123.500  117.150  119.790   \n",
      "...                                   ...      ...      ...      ...   \n",
      "       2023-09-25 04:00:00+00:00  243.540  247.080  238.510  247.050   \n",
      "       2023-09-26 04:00:00+00:00  242.955  249.510  241.735  244.240   \n",
      "       2023-09-27 04:00:00+00:00  244.430  245.250  234.690  240.580   \n",
      "       2023-09-28 04:00:00+00:00  240.240  247.450  238.750  246.335   \n",
      "       2023-09-29 04:00:00+00:00  250.050  254.655  246.460  250.220   \n",
      "\n",
      "                                     volume  trade_count        vwap  \n",
      "symbol timestamp                                                      \n",
      "TSLA   2023-01-03 05:00:00+00:00  2387826.0      18697.0  109.280066  \n",
      "       2023-01-04 05:00:00+00:00  1347852.0      14601.0  111.564262  \n",
      "       2023-01-05 05:00:00+00:00  1129742.0      12441.0  109.643358  \n",
      "       2023-01-06 05:00:00+00:00  2237225.0      22296.0  109.004633  \n",
      "       2023-01-09 05:00:00+00:00  1832023.0      16708.0  120.971484  \n",
      "...                                     ...          ...         ...  \n",
      "       2023-09-25 04:00:00+00:00   509466.0       8280.0  244.224772  \n",
      "       2023-09-26 04:00:00+00:00   552394.0       8387.0  245.227397  \n",
      "       2023-09-27 04:00:00+00:00   764488.0      10814.0  240.543205  \n",
      "       2023-09-28 04:00:00+00:00   464359.0       8236.0  243.860290  \n",
      "       2023-09-29 04:00:00+00:00   673690.0       8837.0  251.033486  \n",
      "\n",
      "[187 rows x 7 columns]\n"
     ]
    }
   ],
   "source": [
    "from alpaca.data.timeframe import TimeFrame\n",
    "from alpaca.data.requests import StockBarsRequest\n",
    "from alpaca.data.historical import StockHistoricalDataClient# Create stock historical data client\n",
    "\n",
    "client = StockHistoricalDataClient(API_KEY, SECRET_KEY)\n",
    "request_params = StockBarsRequest(\n",
    "                        symbol_or_symbols=[\"TSLA\"],\n",
    "                        timeframe=TimeFrame.Day,\n",
    "                        start=\"2023-01-01 00:00:00\",\n",
    "                        end=\"2023-10-01 00:00:00\",\n",
    "                        feed=DataFeed.IEX,\n",
    "                 )\n",
    "bars = client.get_stock_bars(request_params)\n",
    "bars_df = bars.df\n",
    "print(bars_df)"
   ]
  },
  {
   "cell_type": "code",
   "execution_count": null,
   "metadata": {},
   "outputs": [],
   "source": []
  },
  {
   "cell_type": "code",
   "execution_count": 47,
   "metadata": {},
   "outputs": [],
   "source": [
    "# setup stock historical data client\n",
    "stock_historical_data_client = StockHistoricalDataClient(API_KEY, SECRET_KEY, url_override = data_api_url)"
   ]
  },
  {
   "cell_type": "code",
   "execution_count": 55,
   "metadata": {},
   "outputs": [
    {
     "data": {
      "text/html": [
       "<div>\n",
       "<style scoped>\n",
       "    .dataframe tbody tr th:only-of-type {\n",
       "        vertical-align: middle;\n",
       "    }\n",
       "\n",
       "    .dataframe tbody tr th {\n",
       "        vertical-align: top;\n",
       "    }\n",
       "\n",
       "    .dataframe thead th {\n",
       "        text-align: right;\n",
       "    }\n",
       "</style>\n",
       "<table border=\"1\" class=\"dataframe\">\n",
       "  <thead>\n",
       "    <tr style=\"text-align: right;\">\n",
       "      <th></th>\n",
       "      <th></th>\n",
       "      <th>open</th>\n",
       "      <th>high</th>\n",
       "      <th>low</th>\n",
       "      <th>close</th>\n",
       "      <th>volume</th>\n",
       "      <th>trade_count</th>\n",
       "      <th>vwap</th>\n",
       "    </tr>\n",
       "    <tr>\n",
       "      <th>symbol</th>\n",
       "      <th>timestamp</th>\n",
       "      <th></th>\n",
       "      <th></th>\n",
       "      <th></th>\n",
       "      <th></th>\n",
       "      <th></th>\n",
       "      <th></th>\n",
       "      <th></th>\n",
       "    </tr>\n",
       "  </thead>\n",
       "  <tbody>\n",
       "    <tr>\n",
       "      <th rowspan=\"2\" valign=\"top\">TSLA</th>\n",
       "      <th>2024-06-24 13:00:00+00:00</th>\n",
       "      <td>183.900</td>\n",
       "      <td>188.80</td>\n",
       "      <td>183.88</td>\n",
       "      <td>187.7300</td>\n",
       "      <td>15387079.0</td>\n",
       "      <td>163461.0</td>\n",
       "      <td>186.955926</td>\n",
       "    </tr>\n",
       "    <tr>\n",
       "      <th>2024-06-24 14:00:00+00:00</th>\n",
       "      <td>187.725</td>\n",
       "      <td>188.29</td>\n",
       "      <td>182.60</td>\n",
       "      <td>183.8614</td>\n",
       "      <td>15560327.0</td>\n",
       "      <td>212919.0</td>\n",
       "      <td>185.053644</td>\n",
       "    </tr>\n",
       "  </tbody>\n",
       "</table>\n",
       "</div>"
      ],
      "text/plain": [
       "                                     open    high     low     close  \\\n",
       "symbol timestamp                                                      \n",
       "TSLA   2024-06-24 13:00:00+00:00  183.900  188.80  183.88  187.7300   \n",
       "       2024-06-24 14:00:00+00:00  187.725  188.29  182.60  183.8614   \n",
       "\n",
       "                                      volume  trade_count        vwap  \n",
       "symbol timestamp                                                       \n",
       "TSLA   2024-06-24 13:00:00+00:00  15387079.0     163461.0  186.955926  \n",
       "       2024-06-24 14:00:00+00:00  15560327.0     212919.0  185.053644  "
      ]
     },
     "execution_count": 55,
     "metadata": {},
     "output_type": "execute_result"
    }
   ],
   "source": [
    "# get historical bars by symbol\n",
    "# ref. https://docs.alpaca.markets/reference/stockbars-1\n",
    "now = datetime.now(ZoneInfo(\"America/New_York\"))\n",
    "req = StockBarsRequest(\n",
    "    symbol_or_symbols = [symbol],\n",
    "    timeframe=TimeFrame(amount = 1, unit = TimeFrameUnit.Hour), # specify timeframe\n",
    "    start = now - timedelta(days = 5),                          # specify start datetime, default=the beginning of the current day.\n",
    "    # end_date=None,                                        # specify end datetime, default=now\n",
    "    limit = 2,                                               # specify limit\n",
    ")\n",
    "stock_historical_data_client.get_stock_bars(req).df"
   ]
  },
  {
   "cell_type": "code",
   "execution_count": 58,
   "metadata": {},
   "outputs": [
    {
     "data": {
      "text/html": [
       "<div>\n",
       "<style scoped>\n",
       "    .dataframe tbody tr th:only-of-type {\n",
       "        vertical-align: middle;\n",
       "    }\n",
       "\n",
       "    .dataframe tbody tr th {\n",
       "        vertical-align: top;\n",
       "    }\n",
       "\n",
       "    .dataframe thead th {\n",
       "        text-align: right;\n",
       "    }\n",
       "</style>\n",
       "<table border=\"1\" class=\"dataframe\">\n",
       "  <thead>\n",
       "    <tr style=\"text-align: right;\">\n",
       "      <th></th>\n",
       "      <th></th>\n",
       "      <th>exchange</th>\n",
       "      <th>price</th>\n",
       "      <th>size</th>\n",
       "      <th>id</th>\n",
       "      <th>conditions</th>\n",
       "      <th>tape</th>\n",
       "    </tr>\n",
       "    <tr>\n",
       "      <th>symbol</th>\n",
       "      <th>timestamp</th>\n",
       "      <th></th>\n",
       "      <th></th>\n",
       "      <th></th>\n",
       "      <th></th>\n",
       "      <th></th>\n",
       "      <th></th>\n",
       "    </tr>\n",
       "  </thead>\n",
       "  <tbody>\n",
       "    <tr>\n",
       "      <th rowspan=\"2\" valign=\"top\">TSLA</th>\n",
       "      <th>2024-06-24 12:27:06.504934+00:00</th>\n",
       "      <td>D</td>\n",
       "      <td>184.00</td>\n",
       "      <td>25.0</td>\n",
       "      <td>1648</td>\n",
       "      <td>[@, T, I]</td>\n",
       "      <td>C</td>\n",
       "    </tr>\n",
       "    <tr>\n",
       "      <th>2024-06-24 12:27:07.218015+00:00</th>\n",
       "      <td>K</td>\n",
       "      <td>184.02</td>\n",
       "      <td>1.0</td>\n",
       "      <td>4054</td>\n",
       "      <td>[@, F, T, I]</td>\n",
       "      <td>C</td>\n",
       "    </tr>\n",
       "  </tbody>\n",
       "</table>\n",
       "</div>"
      ],
      "text/plain": [
       "                                        exchange   price  size    id  \\\n",
       "symbol timestamp                                                       \n",
       "TSLA   2024-06-24 12:27:06.504934+00:00        D  184.00  25.0  1648   \n",
       "       2024-06-24 12:27:07.218015+00:00        K  184.02   1.0  4054   \n",
       "\n",
       "                                           conditions tape  \n",
       "symbol timestamp                                            \n",
       "TSLA   2024-06-24 12:27:06.504934+00:00     [@, T, I]    C  \n",
       "       2024-06-24 12:27:07.218015+00:00  [@, F, T, I]    C  "
      ]
     },
     "execution_count": 58,
     "metadata": {},
     "output_type": "execute_result"
    }
   ],
   "source": [
    "# get historical trades by symbol\n",
    "req = StockTradesRequest(\n",
    "    symbol_or_symbols = [symbol],\n",
    "    start = now - timedelta(days = 5),                          # specify start datetime, default=the beginning of the current day.\n",
    "    # end=None,                                             # specify end datetime, default=now\n",
    "    limit = 2,                                                # specify limit\n",
    ")\n",
    "stock_historical_data_client.get_stock_trades(req).df"
   ]
  },
  {
   "cell_type": "code",
   "execution_count": 57,
   "metadata": {},
   "outputs": [
    {
     "data": {
      "text/plain": [
       "{'TSLA': {   'ask_exchange': 'V',\n",
       "     'ask_price': 198.88,\n",
       "     'ask_size': 1.0,\n",
       "     'bid_exchange': 'V',\n",
       "     'bid_price': 197.96,\n",
       "     'bid_size': 2.0,\n",
       "     'conditions': ['R'],\n",
       "     'symbol': 'TSLA',\n",
       "     'tape': 'C',\n",
       "     'timestamp': datetime.datetime(2024, 6, 28, 19, 59, 59, 953084, tzinfo=TzInfo(UTC))}}"
      ]
     },
     "execution_count": 57,
     "metadata": {},
     "output_type": "execute_result"
    }
   ],
   "source": [
    "# get latest quotes by symbol\n",
    "req = StockQuotesRequest(\n",
    "    symbol_or_symbols = [symbol],\n",
    ")\n",
    "res = stock_historical_data_client.get_stock_latest_quote(req)\n",
    "res"
   ]
  },
  {
   "cell_type": "code",
   "execution_count": 49,
   "metadata": {
    "collapsed": true
   },
   "outputs": [
    {
     "name": "stdout",
     "output_type": "stream",
     "text": [
      "keyboard interrupt, bye\n"
     ]
    },
    {
     "ename": "TimeoutError",
     "evalue": "",
     "output_type": "error",
     "traceback": [
      "\u001b[1;31m---------------------------------------------------------------------------\u001b[0m",
      "\u001b[1;31mTimeoutError\u001b[0m                              Traceback (most recent call last)",
      "Cell \u001b[1;32mIn[49], line 11\u001b[0m\n\u001b[0;32m      8\u001b[0m stock_data_stream_client\u001b[38;5;241m.\u001b[39msubscribe_quotes(stock_data_stream_handler, \u001b[38;5;241m*\u001b[39msymbols) \n\u001b[0;32m      9\u001b[0m stock_data_stream_client\u001b[38;5;241m.\u001b[39msubscribe_trades(stock_data_stream_handler, \u001b[38;5;241m*\u001b[39msymbols)\n\u001b[1;32m---> 11\u001b[0m \u001b[43mstock_data_stream_client\u001b[49m\u001b[38;5;241;43m.\u001b[39;49m\u001b[43mrun\u001b[49m\u001b[43m(\u001b[49m\u001b[43m)\u001b[49m\n",
      "File \u001b[1;32m~\\AppData\\Local\\Programs\\Python\\Python39\\lib\\site-packages\\alpaca\\common\\websocket.py:452\u001b[0m, in \u001b[0;36mBaseStream.run\u001b[1;34m(self)\u001b[0m\n\u001b[0;32m    450\u001b[0m     \u001b[38;5;28;01mpass\u001b[39;00m\n\u001b[0;32m    451\u001b[0m \u001b[38;5;28;01mfinally\u001b[39;00m:\n\u001b[1;32m--> 452\u001b[0m     \u001b[38;5;28;43mself\u001b[39;49m\u001b[38;5;241;43m.\u001b[39;49m\u001b[43mstop\u001b[49m\u001b[43m(\u001b[49m\u001b[43m)\u001b[49m\n",
      "File \u001b[1;32m~\\AppData\\Local\\Programs\\Python\\Python39\\lib\\site-packages\\alpaca\\common\\websocket.py:457\u001b[0m, in \u001b[0;36mBaseStream.stop\u001b[1;34m(self)\u001b[0m\n\u001b[0;32m    455\u001b[0m \u001b[38;5;250m\u001b[39m\u001b[38;5;124;03m\"\"\"Stops the websocket connection.\"\"\"\u001b[39;00m\n\u001b[0;32m    456\u001b[0m \u001b[38;5;28;01mif\u001b[39;00m \u001b[38;5;28mself\u001b[39m\u001b[38;5;241m.\u001b[39m_loop\u001b[38;5;241m.\u001b[39mis_running():\n\u001b[1;32m--> 457\u001b[0m     \u001b[43masyncio\u001b[49m\u001b[38;5;241;43m.\u001b[39;49m\u001b[43mrun_coroutine_threadsafe\u001b[49m\u001b[43m(\u001b[49m\u001b[38;5;28;43mself\u001b[39;49m\u001b[38;5;241;43m.\u001b[39;49m\u001b[43mstop_ws\u001b[49m\u001b[43m(\u001b[49m\u001b[43m)\u001b[49m\u001b[43m,\u001b[49m\u001b[43m \u001b[49m\u001b[38;5;28;43mself\u001b[39;49m\u001b[38;5;241;43m.\u001b[39;49m\u001b[43m_loop\u001b[49m\u001b[43m)\u001b[49m\u001b[38;5;241;43m.\u001b[39;49m\u001b[43mresult\u001b[49m\u001b[43m(\u001b[49m\n\u001b[0;32m    458\u001b[0m \u001b[43m        \u001b[49m\u001b[43mtimeout\u001b[49m\u001b[38;5;241;43m=\u001b[39;49m\u001b[38;5;241;43m5\u001b[39;49m\n\u001b[0;32m    459\u001b[0m \u001b[43m    \u001b[49m\u001b[43m)\u001b[49m\n",
      "File \u001b[1;32m~\\AppData\\Local\\Programs\\Python\\Python39\\lib\\concurrent\\futures\\_base.py:442\u001b[0m, in \u001b[0;36mFuture.result\u001b[1;34m(self, timeout)\u001b[0m\n\u001b[0;32m    440\u001b[0m     \u001b[38;5;28;01mreturn\u001b[39;00m \u001b[38;5;28mself\u001b[39m\u001b[38;5;241m.\u001b[39m__get_result()\n\u001b[0;32m    441\u001b[0m \u001b[38;5;28;01melse\u001b[39;00m:\n\u001b[1;32m--> 442\u001b[0m     \u001b[38;5;28;01mraise\u001b[39;00m \u001b[38;5;167;01mTimeoutError\u001b[39;00m()\n",
      "\u001b[1;31mTimeoutError\u001b[0m: "
     ]
    }
   ],
   "source": [
    "# It is for live streaming, do not run\n",
    "\n",
    "# stock_data_stream_client = StockDataStream(API_KEY, SECRET_KEY, url_override = stream_data_wss)\n",
    "\n",
    "# async def stock_data_stream_handler(data):\n",
    "#     print(data)\n",
    "\n",
    "# symbols = [symbol]\n",
    "\n",
    "# stock_data_stream_client.subscribe_quotes(stock_data_stream_handler, *symbols) \n",
    "# stock_data_stream_client.subscribe_trades(stock_data_stream_handler, *symbols)\n",
    "\n",
    "# stock_data_stream_client.run()"
   ]
  },
  {
   "cell_type": "markdown",
   "metadata": {},
   "source": [
    "## Importing Our List of Stocks\n",
    "\n",
    "The next thing we need to do is import the constituents of the S&P 500.\n",
    "\n",
    "These constituents change over time, so in an ideal world you would connect directly to the index provider (Standard & Poor's) and pull their real-time constituents on a regular basis.\n",
    "\n",
    "Paying for access to the index provider's API is outside of the scope of this course. \n",
    "\n",
    "There's a static version of the S&P 500 constituents available here. [Click this link to download them now](https://drive.google.com/file/d/1ZJSpbY69DVckVZlO9cC6KkgfSufybcHN/view?usp=sharing). Move this file into the `starter-files` folder so it can be accessed by other files in that directory.\n",
    "\n",
    "Now it's time to import these stocks to our Jupyter Notebook file."
   ]
  },
  {
   "cell_type": "code",
   "execution_count": 41,
   "metadata": {},
   "outputs": [
    {
     "data": {
      "text/html": [
       "<div>\n",
       "<style scoped>\n",
       "    .dataframe tbody tr th:only-of-type {\n",
       "        vertical-align: middle;\n",
       "    }\n",
       "\n",
       "    .dataframe tbody tr th {\n",
       "        vertical-align: top;\n",
       "    }\n",
       "\n",
       "    .dataframe thead th {\n",
       "        text-align: right;\n",
       "    }\n",
       "</style>\n",
       "<table border=\"1\" class=\"dataframe\">\n",
       "  <thead>\n",
       "    <tr style=\"text-align: right;\">\n",
       "      <th></th>\n",
       "      <th>Ticker</th>\n",
       "    </tr>\n",
       "  </thead>\n",
       "  <tbody>\n",
       "    <tr>\n",
       "      <th>0</th>\n",
       "      <td>A</td>\n",
       "    </tr>\n",
       "    <tr>\n",
       "      <th>1</th>\n",
       "      <td>AAL</td>\n",
       "    </tr>\n",
       "    <tr>\n",
       "      <th>2</th>\n",
       "      <td>AAP</td>\n",
       "    </tr>\n",
       "    <tr>\n",
       "      <th>3</th>\n",
       "      <td>AAPL</td>\n",
       "    </tr>\n",
       "    <tr>\n",
       "      <th>4</th>\n",
       "      <td>ABBV</td>\n",
       "    </tr>\n",
       "    <tr>\n",
       "      <th>...</th>\n",
       "      <td>...</td>\n",
       "    </tr>\n",
       "    <tr>\n",
       "      <th>500</th>\n",
       "      <td>YUM</td>\n",
       "    </tr>\n",
       "    <tr>\n",
       "      <th>501</th>\n",
       "      <td>ZBH</td>\n",
       "    </tr>\n",
       "    <tr>\n",
       "      <th>502</th>\n",
       "      <td>ZBRA</td>\n",
       "    </tr>\n",
       "    <tr>\n",
       "      <th>503</th>\n",
       "      <td>ZION</td>\n",
       "    </tr>\n",
       "    <tr>\n",
       "      <th>504</th>\n",
       "      <td>ZTS</td>\n",
       "    </tr>\n",
       "  </tbody>\n",
       "</table>\n",
       "<p>505 rows × 1 columns</p>\n",
       "</div>"
      ],
      "text/plain": [
       "    Ticker\n",
       "0        A\n",
       "1      AAL\n",
       "2      AAP\n",
       "3     AAPL\n",
       "4     ABBV\n",
       "..     ...\n",
       "500    YUM\n",
       "501    ZBH\n",
       "502   ZBRA\n",
       "503   ZION\n",
       "504    ZTS\n",
       "\n",
       "[505 rows x 1 columns]"
      ]
     },
     "execution_count": 41,
     "metadata": {},
     "output_type": "execute_result"
    }
   ],
   "source": [
    "stocks = pd.read_csv('sp_500_stocks.csv')\n",
    "type(stocks)\n",
    "stocks"
   ]
  },
  {
   "cell_type": "markdown",
   "metadata": {},
   "source": [
    "## Acquiring an API Token\n",
    "\n",
    "Now it's time to import our IEX Cloud API token. This is the data provider that we will be using throughout this course.\n",
    "\n",
    "API tokens (and other sensitive information) should be stored in a `secrets.py` file that doesn't get pushed to your local Git repository. We'll be using a sandbox API token in this course, which means that the data we'll use is randomly-generated and (more importantly) has no cost associated with it.\n",
    "\n",
    "[Click here](http://nickmccullum.com/algorithmic-trading-python/secrets.py) to download your `secrets.py` file. Move the file into the same directory as this Jupyter Notebook before proceeding."
   ]
  },
  {
   "cell_type": "code",
   "execution_count": 1,
   "metadata": {},
   "outputs": [],
   "source": [
    "from secrets_0x01 import IEX_CLOUD_API_TOKEN, FMP_API_KEY #, API_KEY, SECRET_KEY\n",
    "\n",
    "# there is no need for this anymore"
   ]
  },
  {
   "cell_type": "markdown",
   "metadata": {},
   "source": [
    "## Making Our First API Call\n",
    "\n",
    "Now it's time to structure our API calls to IEX cloud. \n",
    "\n",
    "We need the following information from the API:\n",
    "\n",
    "* Market capitalization for each stock\n",
    "* Price of each stock\n",
    "\n"
   ]
  },
  {
   "cell_type": "code",
   "execution_count": 5,
   "metadata": {},
   "outputs": [],
   "source": [
    "#iex\n",
    "\n",
    "symbol = 'AAPL'\n",
    "api_url = f'https://sandbox.iexapis.com/stable/stock/{symbol}/quote/?token={IEX_CLOUD_API_TOKEN}'\n",
    "print(api_url)\n",
    "data = requests.get(api_url)\n",
    "# data = requests.get(api_url).json()\n",
    "# print(data.status_code)\n",
    "print(data)"
   ]
  },
  {
   "cell_type": "code",
   "execution_count": 70,
   "metadata": {
    "scrolled": true
   },
   "outputs": [
    {
     "name": "stdout",
     "output_type": "stream",
     "text": [
      "{'address1': 'One Apple Park Way', 'city': 'Cupertino', 'state': 'CA', 'zip': '95014', 'country': 'United States', 'phone': '408 996 1010', 'website': 'https://www.apple.com', 'industry': 'Consumer Electronics', 'industryKey': 'consumer-electronics', 'industryDisp': 'Consumer Electronics', 'sector': 'Technology', 'sectorKey': 'technology', 'sectorDisp': 'Technology', 'longBusinessSummary': 'Apple Inc. designs, manufactures, and markets smartphones, personal computers, tablets, wearables, and accessories worldwide. The company offers iPhone, a line of smartphones; Mac, a line of personal computers; iPad, a line of multi-purpose tablets; and wearables, home, and accessories comprising AirPods, Apple TV, Apple Watch, Beats products, and HomePod. It also provides AppleCare support and cloud services; and operates various platforms, including the App Store that allow customers to discover and download applications and digital content, such as books, music, video, games, and podcasts. In addition, the company offers various services, such as Apple Arcade, a game subscription service; Apple Fitness+, a personalized fitness service; Apple Music, which offers users a curated listening experience with on-demand radio stations; Apple News+, a subscription news and magazine service; Apple TV+, which offers exclusive original content; Apple Card, a co-branded credit card; and Apple Pay, a cashless payment service, as well as licenses its intellectual property. The company serves consumers, and small and mid-sized businesses; and the education, enterprise, and government markets. It distributes third-party applications for its products through the App Store. The company also sells its products through its retail and online stores, and direct sales force; and third-party cellular network carriers, wholesalers, retailers, and resellers. Apple Inc. was founded in 1976 and is headquartered in Cupertino, California.', 'fullTimeEmployees': 150000, 'companyOfficers': [{'maxAge': 1, 'name': 'Mr. Timothy D. Cook', 'age': 62, 'title': 'CEO & Director', 'yearBorn': 1961, 'fiscalYear': 2023, 'totalPay': 16239562, 'exercisedValue': 0, 'unexercisedValue': 0}, {'maxAge': 1, 'name': 'Mr. Luca  Maestri', 'age': 60, 'title': 'CFO & Senior VP', 'yearBorn': 1963, 'fiscalYear': 2023, 'totalPay': 4612242, 'exercisedValue': 0, 'unexercisedValue': 0}, {'maxAge': 1, 'name': 'Mr. Jeffrey E. Williams', 'age': 59, 'title': 'Chief Operating Officer', 'yearBorn': 1964, 'fiscalYear': 2023, 'totalPay': 4637585, 'exercisedValue': 0, 'unexercisedValue': 0}, {'maxAge': 1, 'name': 'Ms. Katherine L. Adams', 'age': 59, 'title': 'Senior VP, General Counsel & Secretary', 'yearBorn': 1964, 'fiscalYear': 2023, 'totalPay': 4618064, 'exercisedValue': 0, 'unexercisedValue': 0}, {'maxAge': 1, 'name': \"Ms. Deirdre  O'Brien\", 'age': 56, 'title': 'Senior Vice President of Retail', 'yearBorn': 1967, 'fiscalYear': 2023, 'totalPay': 4613369, 'exercisedValue': 0, 'unexercisedValue': 0}, {'maxAge': 1, 'name': 'Mr. Chris  Kondo', 'title': 'Senior Director of Corporate Accounting', 'fiscalYear': 2023, 'exercisedValue': 0, 'unexercisedValue': 0}, {'maxAge': 1, 'name': 'Mr. James  Wilson', 'title': 'Chief Technology Officer', 'fiscalYear': 2023, 'exercisedValue': 0, 'unexercisedValue': 0}, {'maxAge': 1, 'name': 'Suhasini  Chandramouli', 'title': 'Director of Investor Relations', 'fiscalYear': 2023, 'exercisedValue': 0, 'unexercisedValue': 0}, {'maxAge': 1, 'name': 'Mr. Greg  Joswiak', 'title': 'Senior Vice President of Worldwide Marketing', 'fiscalYear': 2023, 'exercisedValue': 0, 'unexercisedValue': 0}, {'maxAge': 1, 'name': 'Mr. Adrian  Perica', 'age': 49, 'title': 'Head of Corporate Development', 'yearBorn': 1974, 'fiscalYear': 2023, 'exercisedValue': 0, 'unexercisedValue': 0}], 'auditRisk': 6, 'boardRisk': 1, 'compensationRisk': 2, 'shareHolderRightsRisk': 1, 'overallRisk': 1, 'governanceEpochDate': 1717200000, 'compensationAsOfEpochDate': 1703980800, 'irWebsite': 'http://investor.apple.com/', 'maxAge': 86400, 'priceHint': 2, 'previousClose': 214.1, 'open': 215.805, 'dayLow': 210.3, 'dayHigh': 216.07, 'regularMarketPreviousClose': 214.1, 'regularMarketOpen': 215.805, 'regularMarketDayLow': 210.3, 'regularMarketDayHigh': 216.07, 'dividendRate': 1.0, 'dividendYield': 0.0047, 'exDividendDate': 1715299200, 'payoutRatio': 0.14930001, 'fiveYearAvgDividendYield': 0.69, 'beta': 1.25, 'trailingPE': 32.806854, 'forwardPE': 30.882696, 'volume': 77838535, 'regularMarketVolume': 77838535, 'averageVolume': 68351938, 'averageVolume10days': 91229060, 'averageDailyVolume10Day': 91229060, 'bid': 210.48, 'ask': 217.17, 'bidSize': 100, 'askSize': 100, 'marketCap': 3229668081664, 'fiftyTwoWeekLow': 164.08, 'fiftyTwoWeekHigh': 220.2, 'priceToSalesTrailing12Months': 8.46298, 'fiftyDayAverage': 190.6822, 'twoHundredDayAverage': 183.69585, 'trailingAnnualDividendRate': 0.96, 'trailingAnnualDividendYield': 0.0044838856, 'currency': 'USD', 'enterpriseValue': 3267104342016, 'profitMargins': 0.26306, 'floatShares': 15308474083, 'sharesOutstanding': 15334099968, 'sharesShort': 153405579, 'sharesShortPriorMonth': 99287450, 'sharesShortPreviousMonthDate': 1715731200, 'dateShortInterest': 1718323200, 'sharesPercentSharesOut': 0.01, 'heldPercentInsiders': 0.052199997, 'heldPercentInstitutions': 0.57607, 'shortRatio': 2.29, 'shortPercentOfFloat': 0.01, 'impliedSharesOutstanding': 15334099968, 'bookValue': 4.837, 'priceToBook': 43.543518, 'lastFiscalYearEnd': 1696032000, 'nextFiscalYearEnd': 1727654400, 'mostRecentQuarter': 1711756800, 'earningsQuarterlyGrowth': -0.022, 'netIncomeToCommon': 100389003264, 'trailingEps': 6.42, 'forwardEps': 6.82, 'pegRatio': 3.52, 'lastSplitFactor': '4:1', 'lastSplitDate': 1598832000, 'enterpriseToRevenue': 8.561, 'enterpriseToEbitda': 25.203, '52WeekChange': 0.09435725, 'SandP52WeekChange': 0.22553468, 'lastDividendValue': 0.25, 'lastDividendDate': 1715299200, 'exchange': 'NMS', 'quoteType': 'EQUITY', 'symbol': 'AAPL', 'underlyingSymbol': 'AAPL', 'shortName': 'Apple Inc.', 'longName': 'Apple Inc.', 'firstTradeDateEpochUtc': 345479400, 'timeZoneFullName': 'America/New_York', 'timeZoneShortName': 'EDT', 'uuid': '8b10e4ae-9eeb-3684-921a-9ab27e4d87aa', 'messageBoardId': 'finmb_24937', 'gmtOffSetMilliseconds': -14400000, 'currentPrice': 210.62, 'targetHighPrice': 257.49, 'targetLowPrice': 153.56, 'targetMeanPrice': 198.31, 'targetMedianPrice': 196.63, 'recommendationMean': 2.0, 'recommendationKey': 'buy', 'numberOfAnalystOpinions': 37, 'totalCash': 67150000128, 'totalCashPerShare': 4.379, 'ebitda': 129629003776, 'totalDebt': 104590000128, 'quickRatio': 0.875, 'currentRatio': 1.037, 'totalRevenue': 381623009280, 'debtToEquity': 140.968, 'revenuePerShare': 24.537, 'returnOnAssets': 0.22073999, 'returnOnEquity': 1.4725, 'freeCashflow': 84726874112, 'operatingCashflow': 110563000320, 'earningsGrowth': 0.007, 'revenueGrowth': -0.043, 'grossMargins': 0.45586, 'ebitdaMargins': 0.33968, 'operatingMargins': 0.30743, 'financialCurrency': 'USD', 'trailingPegRatio': 2.2292}\n"
     ]
    }
   ],
   "source": [
    "#yfinance\n",
    "\n",
    "symbol = 'AAPL'\n",
    "data = yf.Ticker(symbol)\n",
    "\n",
    "# Fetch the quote data\n",
    "quote_data = data.info\n",
    "\n",
    "# Get the historical prices for this ticker\n",
    "tickerDf = data.history(period='1d', start='2020-06-25', end='2022-06-26')\n",
    "# marketCap= data.info['marketCap']\n",
    "\n",
    "price= tickerDf['Open']\n",
    "# price = data.info['open']\n",
    "\n",
    "# Print the quote data\n",
    "print(quote_data)\n",
    "# print(marketCap, price)"
   ]
  },
  {
   "cell_type": "code",
   "execution_count": 77,
   "metadata": {},
   "outputs": [
    {
     "name": "stdout",
     "output_type": "stream",
     "text": [
      "https://data.alpaca.markets/v2/stocks/trades/latest?symbols=AAPL&feed=iex\n",
      "{'trades': {'AAPL': {'c': ['@'], 'i': 12229, 'p': 210.61, 's': 200, 't': '2024-06-28T19:59:59.9707992Z', 'x': 'V', 'z': 'C'}}}\n"
     ]
    }
   ],
   "source": [
    "#alpaca\n",
    "\n",
    "symbol = 'AAPL'\n",
    "api_url = f\"https://data.alpaca.markets/v2/stocks/trades/latest?symbols={symbol}&feed=iex\"\n",
    "print(api_url)\n",
    "data = requests.get(api_url, headers=headers).json()\n",
    "# data = requests.get(api_url).json()\n",
    "# print(data.status_code)\n",
    "print(data)\n",
    "\n"
   ]
  },
  {
   "cell_type": "markdown",
   "metadata": {},
   "source": [
    "Stuck again, Alpaca is good for trading but not as detailed as IEX Cloud"
   ]
  },
  {
   "cell_type": "code",
   "execution_count": 15,
   "metadata": {},
   "outputs": [
    {
     "name": "stdout",
     "output_type": "stream",
     "text": [
      "https://financialmodelingprep.com/api/v3/profile/AAPL?apikey=ftoIIveHDchl0jGuRcTyFw7sUzds4HMw\n",
      "[{'symbol': 'AAPL', 'price': 210.62, 'beta': 1.25, 'volAvg': 68123254, 'mktCap': 3229668142000, 'lastDiv': 1, 'range': '164.08-220.2', 'changes': -3.48, 'companyName': 'Apple Inc.', 'currency': 'USD', 'cik': '0000320193', 'isin': 'US0378331005', 'cusip': '037833100', 'exchange': 'NASDAQ Global Select', 'exchangeShortName': 'NASDAQ', 'industry': 'Consumer Electronics', 'website': 'https://www.apple.com', 'description': 'Apple Inc. designs, manufactures, and markets smartphones, personal computers, tablets, wearables, and accessories worldwide. The company offers iPhone, a line of smartphones; Mac, a line of personal computers; iPad, a line of multi-purpose tablets; and wearables, home, and accessories comprising AirPods, Apple TV, Apple Watch, Beats products, and HomePod. It also provides AppleCare support and cloud services; and operates various platforms, including the App Store that allow customers to discover and download applications and digital content, such as books, music, video, games, and podcasts. In addition, the company offers various services, such as Apple Arcade, a game subscription service; Apple Fitness+, a personalized fitness service; Apple Music, which offers users a curated listening experience with on-demand radio stations; Apple News+, a subscription news and magazine service; Apple TV+, which offers exclusive original content; Apple Card, a co-branded credit card; and Apple Pay, a cashless payment service, as well as licenses its intellectual property. The company serves consumers, and small and mid-sized businesses; and the education, enterprise, and government markets. It distributes third-party applications for its products through the App Store. The company also sells its products through its retail and online stores, and direct sales force; and third-party cellular network carriers, wholesalers, retailers, and resellers. Apple Inc. was incorporated in 1977 and is headquartered in Cupertino, California.', 'ceo': 'Mr. Timothy D. Cook', 'sector': 'Technology', 'country': 'US', 'fullTimeEmployees': '150000', 'phone': '408 996 1010', 'address': 'One Apple Park Way', 'city': 'Cupertino', 'state': 'CA', 'zip': '95014', 'dcfDiff': 71.20036, 'dcf': 139.41963629943422, 'image': 'https://financialmodelingprep.com/image-stock/AAPL.png', 'ipoDate': '1980-12-12', 'defaultImage': False, 'isEtf': False, 'isActivelyTrading': True, 'isAdr': False, 'isFund': False}]\n"
     ]
    }
   ],
   "source": [
    "#financial_modeling_prep\n",
    "\n",
    "symbol = 'AAPL'\n",
    "api_url = f'https://financialmodelingprep.com/api/v3/profile/{symbol}?apikey={FMP_API_KEY}'\n",
    "print(api_url)\n",
    "\n",
    "response = requests.get(api_url)\n",
    "if response.status_code == 200:\n",
    "    data = response.json()\n",
    "    print(data)\n",
    "else:\n",
    "    print(\"Error fetching data:\", response.status_code)"
   ]
  },
  {
   "cell_type": "code",
   "execution_count": 13,
   "metadata": {},
   "outputs": [
    {
     "name": "stdout",
     "output_type": "stream",
     "text": [
      "200\n"
     ]
    }
   ],
   "source": [
    "print(response.status_code)"
   ]
  },
  {
   "cell_type": "markdown",
   "metadata": {},
   "source": [
    "For a more detailed example as to using `yfinance`"
   ]
  },
  {
   "cell_type": "code",
   "execution_count": 10,
   "metadata": {},
   "outputs": [
    {
     "name": "stdout",
     "output_type": "stream",
     "text": [
      "Market Cap: 3274597203968\n",
      "Opening Price on 2024-06-25: 209.14999389648438\n"
     ]
    }
   ],
   "source": [
    "# tickerSymbol = 'AAPL'\n",
    "# tickerData = yf.Ticker(tickerSymbol)\n",
    "\n",
    "# # Get the current date and subtract one day to get a past date\n",
    "# end_date = datetime.now() - timedelta(days=1)\n",
    "# start_date = end_date - timedelta(days=1)\n",
    "\n",
    "# # Format the dates as strings\n",
    "# start_date_str = start_date.strftime('%Y-%m-%d')\n",
    "# end_date_str = end_date.strftime('%Y-%m-%d')\n",
    "\n",
    "# # Get the historical prices for this ticker\n",
    "# tickerDf = tickerData.history(period='1d', start=start_date_str, end=end_date_str)\n",
    "\n",
    "# # Fetch market cap\n",
    "# marketCap = tickerData.info.get('marketCap', 'N/A')\n",
    "\n",
    "# # Get the opening price\n",
    "# price = tickerDf['Open'].iloc[0] if not tickerDf.empty else 'N/A'\n",
    "\n",
    "# print(f\"Market Cap: {marketCap}\")\n",
    "# print(f\"Opening Price on {start_date_str}: {price}\")"
   ]
  },
  {
   "cell_type": "markdown",
   "metadata": {},
   "source": [
    "## Parsing Our API Call\n",
    "\n",
    "The API call that we executed in the last code block contains all of the information required to build our equal-weight S&P 500 strategy. \n",
    "\n",
    "With that said, the data isn't in a proper format yet. We need to parse it first.\n",
    "\n",
    "> **_NOTE:_**  currentPrice is similar to what latestPrice is in IEX Cloud Data."
   ]
  },
  {
   "cell_type": "code",
   "execution_count": 9,
   "metadata": {
    "collapsed": true
   },
   "outputs": [
    {
     "ename": "AttributeError",
     "evalue": "'list' object has no attribute 'info'",
     "output_type": "error",
     "traceback": [
      "\u001b[1;31m---------------------------------------------------------------------------\u001b[0m",
      "\u001b[1;31mAttributeError\u001b[0m                            Traceback (most recent call last)",
      "Cell \u001b[1;32mIn[9], line 3\u001b[0m\n\u001b[0;32m      1\u001b[0m \u001b[38;5;66;03m#yfinance\u001b[39;00m\n\u001b[1;32m----> 3\u001b[0m price \u001b[38;5;241m=\u001b[39m \u001b[43mdata\u001b[49m\u001b[38;5;241;43m.\u001b[39;49m\u001b[43minfo\u001b[49m[\u001b[38;5;124m'\u001b[39m\u001b[38;5;124mcurrentPrice\u001b[39m\u001b[38;5;124m'\u001b[39m]\n\u001b[0;32m      4\u001b[0m market_cap \u001b[38;5;241m=\u001b[39m data\u001b[38;5;241m.\u001b[39minfo[\u001b[38;5;124m'\u001b[39m\u001b[38;5;124mmarketCap\u001b[39m\u001b[38;5;124m'\u001b[39m]\n\u001b[0;32m      5\u001b[0m \u001b[38;5;28mprint\u001b[39m(price, market_cap\u001b[38;5;241m/\u001b[39m\u001b[38;5;241m1000000000000\u001b[39m)\n",
      "\u001b[1;31mAttributeError\u001b[0m: 'list' object has no attribute 'info'"
     ]
    }
   ],
   "source": [
    "#yfinance\n",
    "\n",
    "price = data.info['currentPrice']\n",
    "market_cap = data.info['marketCap']\n",
    "print(price, market_cap/1000000000000)"
   ]
  },
  {
   "cell_type": "code",
   "execution_count": 24,
   "metadata": {},
   "outputs": [
    {
     "name": "stdout",
     "output_type": "stream",
     "text": [
      "210.62 3.229668142\n"
     ]
    }
   ],
   "source": [
    "#financial modeling prep\n",
    "\n",
    "data = response.json()[0]\n",
    "price = data['price']\n",
    "market_cap = data['mktCap']\n",
    "print(price, market_cap/1000000000000)\n",
    "\n",
    "# if response.status_code == 200:\n",
    "#     data = response.json()[0]\n",
    "#     price = data['price']\n",
    "#     print(price)\n",
    "# else:\n",
    "#     print(\"Error fetching data:\", response.status_code)"
   ]
  },
  {
   "cell_type": "markdown",
   "metadata": {},
   "source": [
    "## Adding Our Stocks Data to a Pandas DataFrame\n",
    "\n",
    "The next thing we need to do is add our stock's price and market capitalization to a pandas DataFrame. Think of a DataFrame like the Python version of a spreadsheet. It stores tabular data."
   ]
  },
  {
   "cell_type": "code",
   "execution_count": 25,
   "metadata": {},
   "outputs": [
    {
     "data": {
      "text/html": [
       "<div>\n",
       "<style scoped>\n",
       "    .dataframe tbody tr th:only-of-type {\n",
       "        vertical-align: middle;\n",
       "    }\n",
       "\n",
       "    .dataframe tbody tr th {\n",
       "        vertical-align: top;\n",
       "    }\n",
       "\n",
       "    .dataframe thead th {\n",
       "        text-align: right;\n",
       "    }\n",
       "</style>\n",
       "<table border=\"1\" class=\"dataframe\">\n",
       "  <thead>\n",
       "    <tr style=\"text-align: right;\">\n",
       "      <th></th>\n",
       "      <th>Ticker</th>\n",
       "      <th>Stock Price</th>\n",
       "      <th>Market Capitalization</th>\n",
       "      <th>Number of Shares to Buy</th>\n",
       "    </tr>\n",
       "  </thead>\n",
       "  <tbody>\n",
       "  </tbody>\n",
       "</table>\n",
       "</div>"
      ],
      "text/plain": [
       "Empty DataFrame\n",
       "Columns: [Ticker, Stock Price, Market Capitalization, Number of Shares to Buy]\n",
       "Index: []"
      ]
     },
     "execution_count": 25,
     "metadata": {},
     "output_type": "execute_result"
    }
   ],
   "source": [
    "my_columns = ['Ticker', 'Stock Price', 'Market Capitalization', 'Number of Shares to Buy']\n",
    "final_dataframe = pd.DataFrame(columns = my_columns)\n",
    "# print(final_dataframe)\n",
    "final_dataframe"
   ]
  },
  {
   "cell_type": "code",
   "execution_count": 26,
   "metadata": {},
   "outputs": [
    {
     "name": "stderr",
     "output_type": "stream",
     "text": [
      "C:\\Users\\ADMIN\\AppData\\Local\\Temp\\ipykernel_12948\\1829372518.py:1: FutureWarning: The frame.append method is deprecated and will be removed from pandas in a future version. Use pandas.concat instead.\n",
      "  final_dataframe.append(\n"
     ]
    },
    {
     "data": {
      "text/html": [
       "<div>\n",
       "<style scoped>\n",
       "    .dataframe tbody tr th:only-of-type {\n",
       "        vertical-align: middle;\n",
       "    }\n",
       "\n",
       "    .dataframe tbody tr th {\n",
       "        vertical-align: top;\n",
       "    }\n",
       "\n",
       "    .dataframe thead th {\n",
       "        text-align: right;\n",
       "    }\n",
       "</style>\n",
       "<table border=\"1\" class=\"dataframe\">\n",
       "  <thead>\n",
       "    <tr style=\"text-align: right;\">\n",
       "      <th></th>\n",
       "      <th>Ticker</th>\n",
       "      <th>Stock Price</th>\n",
       "      <th>Market Capitalization</th>\n",
       "      <th>Number of Shares to Buy</th>\n",
       "    </tr>\n",
       "  </thead>\n",
       "  <tbody>\n",
       "    <tr>\n",
       "      <th>0</th>\n",
       "      <td>AAPL</td>\n",
       "      <td>210.62</td>\n",
       "      <td>3229668142000</td>\n",
       "      <td>N/A</td>\n",
       "    </tr>\n",
       "  </tbody>\n",
       "</table>\n",
       "</div>"
      ],
      "text/plain": [
       "  Ticker  Stock Price Market Capitalization Number of Shares to Buy\n",
       "0   AAPL       210.62         3229668142000                     N/A"
      ]
     },
     "execution_count": 26,
     "metadata": {},
     "output_type": "execute_result"
    }
   ],
   "source": [
    "final_dataframe.append(\n",
    "    pd.Series(\n",
    "    [\n",
    "        symbol,\n",
    "        price,\n",
    "        market_cap,\n",
    "        'N/A'\n",
    "    ],\n",
    "    index = my_columns\n",
    "    ),\n",
    "    ignore_index=True\n",
    ")"
   ]
  },
  {
   "cell_type": "markdown",
   "metadata": {},
   "source": [
    "## Looping Through The Tickers in Our List of Stocks\n",
    "\n",
    "Using the same logic that we outlined above, we can pull data for all S&P 500 stocks and store their data in the DataFrame using a `for` loop."
   ]
  },
  {
   "cell_type": "code",
   "execution_count": 53,
   "metadata": {},
   "outputs": [
    {
     "name": "stderr",
     "output_type": "stream",
     "text": [
      "C:\\Users\\ADMIN\\AppData\\Local\\Temp\\ipykernel_12948\\1283929487.py:45: FutureWarning: The frame.append method is deprecated and will be removed from pandas in a future version. Use pandas.concat instead.\n",
      "  final_dataframe = final_dataframe.append(new_row, ignore_index=True)\n",
      "C:\\Users\\ADMIN\\AppData\\Local\\Temp\\ipykernel_12948\\1283929487.py:45: FutureWarning: The frame.append method is deprecated and will be removed from pandas in a future version. Use pandas.concat instead.\n",
      "  final_dataframe = final_dataframe.append(new_row, ignore_index=True)\n"
     ]
    }
   ],
   "source": [
    "#financial_modeling_prep\n",
    "\n",
    "# final_dataframe = pd.DataFrame(columns=my_columns)\n",
    "\n",
    "# for stock in stocks['Ticker'][:2]:\n",
    "#     api_url = f'https://financialmodelingprep.com/api/v3/profile/{symbol}?apikey={FMP_API_KEY}'\n",
    "#     response = requests.get(api_url)\n",
    "#     if response.status_code == 200:\n",
    "#         data = response.json()[0]\n",
    "#         new_row = pd.Series(\n",
    "#             [\n",
    "#                 stock,\n",
    "#                 data['price'],\n",
    "#                 data['mktCap'],\n",
    "#                 'N/A'\n",
    "#             ],\n",
    "#             index=my_columns,\n",
    "#         )\n",
    "#         final_dataframe = final_dataframe.append(new_row, ignore_index=True)\n",
    "#     else:\n",
    "#         print(f\"Failed to retrieve data for stock: {stock}\")\n",
    "        \n",
    "    \n",
    "# Initialize an empty DataFrame with the specified columns\n",
    "final_dataframe = pd.DataFrame(columns=my_columns)\n",
    "\n",
    "for stock in stocks['Ticker'][:2]:\n",
    "    api_url = f'https://financialmodelingprep.com/api/v3/profile/{stock}?apikey={FMP_API_KEY}'\n",
    "    \n",
    "    response = requests.get(api_url)\n",
    "    \n",
    "    if response.status_code == 200:\n",
    "        data = response.json()[0]\n",
    "        \n",
    "        new_row = pd.Series(\n",
    "            [\n",
    "                stock,\n",
    "                data['price'],\n",
    "                data['mktCap'],\n",
    "                'N/A'\n",
    "            ],\n",
    "            index=my_columns\n",
    "        )\n",
    "        \n",
    "        final_dataframe = final_dataframe.append(new_row, ignore_index=True)\n",
    "#         print(f\"Current state of final_dataframe:\\n{final_dataframe}\")\n",
    "    else:\n",
    "        print(f\"Failed to retrieve data for stock: {stock}\")"
   ]
  },
  {
   "cell_type": "code",
   "execution_count": 44,
   "metadata": {},
   "outputs": [
    {
     "name": "stderr",
     "output_type": "stream",
     "text": [
      "C:\\Users\\ADMIN\\AppData\\Local\\Temp\\ipykernel_12948\\477310219.py:30: FutureWarning: The frame.append method is deprecated and will be removed from pandas in a future version. Use pandas.concat instead.\n",
      "  final_dataframe = final_dataframe.append(new_row, ignore_index=True)\n"
     ]
    },
    {
     "name": "stdout",
     "output_type": "stream",
     "text": [
      "Current state of final_dataframe:\n",
      "  Ticker  Stock Price Market Capitalization Number of Shares to Buy\n",
      "0      A       129.63           37820978430                     N/A\n",
      "Current state of final_dataframe:\n",
      "  Ticker  Stock Price Market Capitalization Number of Shares to Buy\n",
      "0      A       129.63           37820978430                     N/A\n",
      "1    AAL        11.33            7433499700                     N/A\n"
     ]
    },
    {
     "name": "stderr",
     "output_type": "stream",
     "text": [
      "C:\\Users\\ADMIN\\AppData\\Local\\Temp\\ipykernel_12948\\477310219.py:30: FutureWarning: The frame.append method is deprecated and will be removed from pandas in a future version. Use pandas.concat instead.\n",
      "  final_dataframe = final_dataframe.append(new_row, ignore_index=True)\n"
     ]
    }
   ],
   "source": [
    "# Initialize an empty DataFrame with the specified columns\n",
    "final_dataframe = pd.DataFrame(columns=my_columns)\n",
    "\n",
    "# Assuming stocks is a DataFrame with a 'Ticker' column\n",
    "# stocks = pd.DataFrame({'Ticker': ['AAPL', 'GOOGL']})  # Example data\n",
    "\n",
    "for stock in stocks['Ticker'][:2]:\n",
    "#     print(f\"Processing stock: {stock}\")\n",
    "    api_url = f'https://financialmodelingprep.com/api/v3/profile/{stock}?apikey={FMP_API_KEY}'\n",
    "#     print(f\"API URL: {api_url}\")\n",
    "    \n",
    "    response = requests.get(api_url)\n",
    "#     print(f\"Response status code: {response.status_code}\")\n",
    "    \n",
    "    if response.status_code == 200:\n",
    "        data = response.json()[0]\n",
    "#         print(f\"Data received: {data}\")\n",
    "        \n",
    "        new_row = pd.Series(\n",
    "            [\n",
    "                stock,\n",
    "                data['price'],\n",
    "                data['mktCap'],\n",
    "                'N/A'\n",
    "            ],\n",
    "            index=my_columns\n",
    "        )\n",
    "#         print(f\"New row to be appended: {new_row}\")\n",
    "        \n",
    "        final_dataframe = final_dataframe.append(new_row, ignore_index=True)\n",
    "        print(f\"Current state of final_dataframe:\\n{final_dataframe}\")\n",
    "    else:\n",
    "        print(f\"Failed to retrieve data for stock: {stock}\")"
   ]
  },
  {
   "cell_type": "code",
   "execution_count": 52,
   "metadata": {},
   "outputs": [
    {
     "data": {
      "text/html": [
       "<div>\n",
       "<style scoped>\n",
       "    .dataframe tbody tr th:only-of-type {\n",
       "        vertical-align: middle;\n",
       "    }\n",
       "\n",
       "    .dataframe tbody tr th {\n",
       "        vertical-align: top;\n",
       "    }\n",
       "\n",
       "    .dataframe thead th {\n",
       "        text-align: right;\n",
       "    }\n",
       "</style>\n",
       "<table border=\"1\" class=\"dataframe\">\n",
       "  <thead>\n",
       "    <tr style=\"text-align: right;\">\n",
       "      <th></th>\n",
       "      <th>Ticker</th>\n",
       "      <th>Stock Price</th>\n",
       "      <th>Market Capitalization</th>\n",
       "      <th>Number of Shares to Buy</th>\n",
       "    </tr>\n",
       "  </thead>\n",
       "  <tbody>\n",
       "    <tr>\n",
       "      <th>0</th>\n",
       "      <td>A</td>\n",
       "      <td>210.62</td>\n",
       "      <td>3229668142000</td>\n",
       "      <td>N/A</td>\n",
       "    </tr>\n",
       "    <tr>\n",
       "      <th>1</th>\n",
       "      <td>AAL</td>\n",
       "      <td>210.62</td>\n",
       "      <td>3229668142000</td>\n",
       "      <td>N/A</td>\n",
       "    </tr>\n",
       "    <tr>\n",
       "      <th>2</th>\n",
       "      <td>AAP</td>\n",
       "      <td>210.62</td>\n",
       "      <td>3229668142000</td>\n",
       "      <td>N/A</td>\n",
       "    </tr>\n",
       "    <tr>\n",
       "      <th>3</th>\n",
       "      <td>AAPL</td>\n",
       "      <td>210.62</td>\n",
       "      <td>3229668142000</td>\n",
       "      <td>N/A</td>\n",
       "    </tr>\n",
       "    <tr>\n",
       "      <th>4</th>\n",
       "      <td>ABBV</td>\n",
       "      <td>210.62</td>\n",
       "      <td>3229668142000</td>\n",
       "      <td>N/A</td>\n",
       "    </tr>\n",
       "  </tbody>\n",
       "</table>\n",
       "</div>"
      ],
      "text/plain": [
       "  Ticker  Stock Price Market Capitalization Number of Shares to Buy\n",
       "0      A       210.62         3229668142000                     N/A\n",
       "1    AAL       210.62         3229668142000                     N/A\n",
       "2    AAP       210.62         3229668142000                     N/A\n",
       "3   AAPL       210.62         3229668142000                     N/A\n",
       "4   ABBV       210.62         3229668142000                     N/A"
      ]
     },
     "execution_count": 52,
     "metadata": {},
     "output_type": "execute_result"
    }
   ],
   "source": [
    "final_dataframe"
   ]
  },
  {
   "cell_type": "code",
   "execution_count": null,
   "metadata": {},
   "outputs": [],
   "source": [
    "# %pip install --upgrade yfinance"
   ]
  },
  {
   "cell_type": "code",
   "execution_count": 81,
   "metadata": {
    "scrolled": true
   },
   "outputs": [
    {
     "name": "stderr",
     "output_type": "stream",
     "text": [
      "404 Client Error: Not Found for url: https://query2.finance.yahoo.com/v10/finance/quoteSummary/ABC?modules=financialData%2CquoteType%2CdefaultKeyStatistics%2CassetProfile%2CsummaryDetail&corsDomain=finance.yahoo.com&formatted=false&symbol=ABC&crumb=2rPm363PiS.\n"
     ]
    },
    {
     "name": "stdout",
     "output_type": "stream",
     "text": [
      "Missing data for ABC: 'currentPrice' or 'marketCap' not found.\n",
      "Missing data for ALXN: 'currentPrice' or 'marketCap' not found.\n",
      "Missing data for ANTM: 'currentPrice' or 'marketCap' not found.\n"
     ]
    },
    {
     "name": "stderr",
     "output_type": "stream",
     "text": [
      "404 Client Error: Not Found for url: https://query2.finance.yahoo.com/v10/finance/quoteSummary/ATVI?modules=financialData%2CquoteType%2CdefaultKeyStatistics%2CassetProfile%2CsummaryDetail&corsDomain=finance.yahoo.com&formatted=false&symbol=ATVI&crumb=2rPm363PiS.\n"
     ]
    },
    {
     "name": "stdout",
     "output_type": "stream",
     "text": [
      "Missing data for ATVI: 'currentPrice' or 'marketCap' not found.\n",
      "Missing data for BF.B: 'currentPrice' or 'marketCap' not found.\n",
      "Missing data for BLL: 'currentPrice' or 'marketCap' not found.\n",
      "Missing data for BRK.B: 'currentPrice' or 'marketCap' not found.\n",
      "Missing data for CERN: 'currentPrice' or 'marketCap' not found.\n",
      "Missing data for COG: 'currentPrice' or 'marketCap' not found.\n",
      "Missing data for CTL: 'currentPrice' or 'marketCap' not found.\n",
      "Missing data for CTXS: 'currentPrice' or 'marketCap' not found.\n",
      "Missing data for CXO: 'currentPrice' or 'marketCap' not found.\n",
      "Missing data for DISCA: 'currentPrice' or 'marketCap' not found.\n",
      "Missing data for DISCK: 'currentPrice' or 'marketCap' not found.\n"
     ]
    },
    {
     "name": "stderr",
     "output_type": "stream",
     "text": [
      "404 Client Error: Not Found for url: https://query2.finance.yahoo.com/v10/finance/quoteSummary/DISH?modules=financialData%2CquoteType%2CdefaultKeyStatistics%2CassetProfile%2CsummaryDetail&corsDomain=finance.yahoo.com&formatted=false&symbol=DISH&crumb=2rPm363PiS.\n"
     ]
    },
    {
     "name": "stdout",
     "output_type": "stream",
     "text": [
      "Missing data for DISH: 'currentPrice' or 'marketCap' not found.\n",
      "Missing data for DRE: 'currentPrice' or 'marketCap' not found.\n",
      "Missing data for ETFC: 'currentPrice' or 'marketCap' not found.\n",
      "Missing data for FB: 'currentPrice' or 'marketCap' not found.\n",
      "Missing data for FBHS: 'currentPrice' or 'marketCap' not found.\n",
      "Missing data for FISV: 'currentPrice' or 'marketCap' not found.\n",
      "Missing data for FLIR: 'currentPrice' or 'marketCap' not found.\n"
     ]
    },
    {
     "name": "stderr",
     "output_type": "stream",
     "text": [
      "404 Client Error: Not Found for url: https://query2.finance.yahoo.com/v10/finance/quoteSummary/FLT?modules=financialData%2CquoteType%2CdefaultKeyStatistics%2CassetProfile%2CsummaryDetail&corsDomain=finance.yahoo.com&formatted=false&symbol=FLT&crumb=2rPm363PiS.\n"
     ]
    },
    {
     "name": "stdout",
     "output_type": "stream",
     "text": [
      "Missing data for FLT: 'currentPrice' or 'marketCap' not found.\n",
      "Missing data for FRC: 'currentPrice' or 'marketCap' not found.\n",
      "Missing data for HFC: 'currentPrice' or 'marketCap' not found.\n",
      "Missing data for INFO: 'currentPrice' or 'marketCap' not found.\n",
      "Missing data for KSU: 'currentPrice' or 'marketCap' not found.\n",
      "Missing data for MXIM: 'currentPrice' or 'marketCap' not found.\n",
      "Missing data for MYL: 'currentPrice' or 'marketCap' not found.\n",
      "Missing data for NBL: 'currentPrice' or 'marketCap' not found.\n",
      "Missing data for NLOK: 'currentPrice' or 'marketCap' not found.\n",
      "Missing data for NLSN: 'currentPrice' or 'marketCap' not found.\n",
      "Missing data for PBCT: 'currentPrice' or 'marketCap' not found.\n"
     ]
    },
    {
     "name": "stderr",
     "output_type": "stream",
     "text": [
      "404 Client Error: Not Found for url: https://query2.finance.yahoo.com/v10/finance/quoteSummary/PEAK?modules=financialData%2CquoteType%2CdefaultKeyStatistics%2CassetProfile%2CsummaryDetail&corsDomain=finance.yahoo.com&formatted=false&symbol=PEAK&crumb=2rPm363PiS.\n"
     ]
    },
    {
     "name": "stdout",
     "output_type": "stream",
     "text": [
      "Missing data for PEAK: 'currentPrice' or 'marketCap' not found.\n",
      "Missing data for PKI: 'currentPrice' or 'marketCap' not found.\n",
      "Error fetching data for RE: ('Connection aborted.', ConnectionResetError(10054, 'An existing connection was forcibly closed by the remote host', None, 10054, None))\n",
      "Missing data for SIVB: 'currentPrice' or 'marketCap' not found.\n",
      "Missing data for TIF: 'currentPrice' or 'marketCap' not found.\n",
      "Missing data for TWTR: 'currentPrice' or 'marketCap' not found.\n",
      "Missing data for VAR: 'currentPrice' or 'marketCap' not found.\n",
      "Missing data for VIAC: 'currentPrice' or 'marketCap' not found.\n",
      "Missing data for WLTW: 'currentPrice' or 'marketCap' not found.\n",
      "Missing data for XLNX: 'currentPrice' or 'marketCap' not found.\n",
      "    Ticker  Stock Price Market Capitalization Number of Shares to Buy\n",
      "0        A      132.835           38756073472                     N/A\n",
      "1      AAL       11.255            7384292864                     N/A\n",
      "2      AAP       63.290            3773495296                     N/A\n",
      "3     AAPL      214.640         3291311243264                     N/A\n",
      "4     ABBV      169.645          299571019776                     N/A\n",
      "..     ...          ...                   ...                     ...\n",
      "458    YUM      132.490           37313425408                     N/A\n",
      "459    ZBH      108.555           22332803072                     N/A\n",
      "460   ZBRA      310.040           15942071296                     N/A\n",
      "461   ZION       42.710            6306345472                     N/A\n",
      "462    ZTS      175.680           80161906688                     N/A\n",
      "\n",
      "[463 rows x 4 columns]\n"
     ]
    }
   ],
   "source": [
    "final_dataframe = pd.DataFrame(columns=my_columns)\n",
    "\n",
    "for stock in stocks['Ticker']:\n",
    "    try:\n",
    "        data = yf.Ticker(stock)\n",
    "        stock_info = data.info\n",
    "        \n",
    "        # Check if the required keys are present in the info dictionary\n",
    "        if 'currentPrice' in stock_info and 'marketCap' in stock_info:\n",
    "            new_row = pd.DataFrame([[\n",
    "                stock,\n",
    "                stock_info['currentPrice'],\n",
    "                stock_info['marketCap'],\n",
    "                'N/A'\n",
    "            ]], columns=my_columns)\n",
    "            final_dataframe = pd.concat([final_dataframe, new_row], ignore_index=True)\n",
    "        else:\n",
    "            print(f\"Missing data for {stock}: 'currentPrice' or 'marketCap' not found.\")\n",
    "    except Exception as e:\n",
    "        print(f\"Error fetching data for {stock}: {e}\")\n",
    "\n",
    "print(final_dataframe)"
   ]
  },
  {
   "cell_type": "markdown",
   "metadata": {},
   "source": [
    "As you can notice, there is an error that came up and this due to Yahoo API, I was getting it constantly and it was in the form of \"404 Client Error: Not Found for url: https://query2.finance.yahoo.com/v10/finance/quoteSummary/PEAK?modules=financialData%2CquoteType%2CdefaultKeyStatistics%2CassetProfile%2CsummaryDetail&corsDomain=finance.yahoo.com&formatted=false&symbol=PEAK&crumb=2rPm363PiS\" and when you click it, you get to see this ```\"{\"finance\":{\"result\":null,\"error\":{\"code\":\"Unauthorized\",\"description\":\"Invalid Crumb\"}}}```\n",
    "\n",
    "This Stack Overflow came in handy and was able to fix it\n",
    "\n",
    "Note: Although I am looking into Alpaca API next as it is a somewhat intuitive and complete documentation for the Market Data API (free of course, no way I'm paying thousands for my personal projects hahaha)."
   ]
  },
  {
   "cell_type": "code",
   "execution_count": null,
   "metadata": {},
   "outputs": [],
   "source": [
    "def get_yahoo_cookie():\n",
    "    cookie = None\n",
    "\n",
    "    user_agent_key = \"User-Agent\"\n",
    "    user_agent_value = \"Mozilla/5.0 (Windows NT 6.1; Win64; x64) AppleWebKit/537.36 (KHTML, like Gecko) Chrome/58.0.3029.110 Safari/537.36\"\n",
    "\n",
    "    headers = {user_agent_key: user_agent_value}\n",
    "    response = requests.get(\n",
    "        \"https://fc.yahoo.com\", headers=headers, allow_redirects=True\n",
    "    )\n",
    "\n",
    "    if not response.cookies:\n",
    "        raise Exception(\"Failed to obtain Yahoo auth cookie.\")\n",
    "\n",
    "    cookie = list(response.cookies)[0]\n",
    "\n",
    "    return cookie\n",
    "\n",
    "\n",
    "def get_yahoo_crumb(cookie):\n",
    "    crumb = None\n",
    "\n",
    "    user_agent_key = \"User-Agent\"\n",
    "    user_agent_value = \"Mozilla/5.0 (Windows NT 6.1; Win64; x64) AppleWebKit/537.36 (KHTML, like Gecko) Chrome/58.0.3029.110 Safari/537.36\"\n",
    "\n",
    "    headers = {user_agent_key: user_agent_value}\n",
    "\n",
    "    crumb_response = requests.get(\n",
    "        \"https://query1.finance.yahoo.com/v1/test/getcrumb\",\n",
    "        headers=headers,\n",
    "        cookies={cookie.name: cookie.value},\n",
    "        allow_redirects=True,\n",
    "    )\n",
    "    crumb = crumb_response.text\n",
    "\n",
    "    if crumb is None:\n",
    "        raise Exception(\"Failed to retrieve Yahoo crumb.\")\n",
    "\n",
    "    return crumb\n",
    "\n",
    "\n",
    "# Usage\n",
    "cookie = get_yahoo_cookie()\n",
    "crumb = get_yahoo_crumb(cookie)\n",
    "\n",
    "print(f\"Here is the {cookie} and here is the {crumb}\")"
   ]
  },
  {
   "cell_type": "code",
   "execution_count": null,
   "metadata": {},
   "outputs": [],
   "source": []
  },
  {
   "cell_type": "code",
   "execution_count": 91,
   "metadata": {},
   "outputs": [
    {
     "name": "stderr",
     "output_type": "stream",
     "text": [
      "404 Client Error: Not Found for url: https://query2.finance.yahoo.com/v10/finance/quoteSummary/ABC?modules=financialData%2CquoteType%2CdefaultKeyStatistics%2CassetProfile%2CsummaryDetail&corsDomain=finance.yahoo.com&formatted=false&symbol=ABC&crumb=2rPm363PiS.\n"
     ]
    },
    {
     "name": "stdout",
     "output_type": "stream",
     "text": [
      "Missing data for ABC: 'currentPrice' or 'marketCap' not found.\n",
      "RequestException fetching data for ADI: HTTPSConnectionPool(host='query2.finance.yahoo.com', port=443): Read timed out.\n",
      "Missing data for ALXN: 'currentPrice' or 'marketCap' not found.\n",
      "Missing data for ANTM: 'currentPrice' or 'marketCap' not found.\n"
     ]
    },
    {
     "name": "stderr",
     "output_type": "stream",
     "text": [
      "404 Client Error: Not Found for url: https://query2.finance.yahoo.com/v10/finance/quoteSummary/ATVI?modules=financialData%2CquoteType%2CdefaultKeyStatistics%2CassetProfile%2CsummaryDetail&corsDomain=finance.yahoo.com&formatted=false&symbol=ATVI&crumb=2rPm363PiS.\n"
     ]
    },
    {
     "name": "stdout",
     "output_type": "stream",
     "text": [
      "Missing data for ATVI: 'currentPrice' or 'marketCap' not found.\n",
      "Missing data for BF.B: 'currentPrice' or 'marketCap' not found.\n",
      "Missing data for BLL: 'currentPrice' or 'marketCap' not found.\n",
      "Missing data for BRK.B: 'currentPrice' or 'marketCap' not found.\n",
      "Missing data for CERN: 'currentPrice' or 'marketCap' not found.\n",
      "Missing data for COG: 'currentPrice' or 'marketCap' not found.\n",
      "Missing data for CTL: 'currentPrice' or 'marketCap' not found.\n",
      "Missing data for CTXS: 'currentPrice' or 'marketCap' not found.\n",
      "Missing data for CXO: 'currentPrice' or 'marketCap' not found.\n",
      "Missing data for DISCA: 'currentPrice' or 'marketCap' not found.\n",
      "Missing data for DISCK: 'currentPrice' or 'marketCap' not found.\n"
     ]
    },
    {
     "name": "stderr",
     "output_type": "stream",
     "text": [
      "404 Client Error: Not Found for url: https://query2.finance.yahoo.com/v10/finance/quoteSummary/DISH?modules=financialData%2CquoteType%2CdefaultKeyStatistics%2CassetProfile%2CsummaryDetail&corsDomain=finance.yahoo.com&formatted=false&symbol=DISH&crumb=2rPm363PiS.\n"
     ]
    },
    {
     "name": "stdout",
     "output_type": "stream",
     "text": [
      "Missing data for DISH: 'currentPrice' or 'marketCap' not found.\n",
      "Missing data for DRE: 'currentPrice' or 'marketCap' not found.\n",
      "Missing data for ETFC: 'currentPrice' or 'marketCap' not found.\n",
      "Missing data for FB: 'currentPrice' or 'marketCap' not found.\n",
      "Missing data for FBHS: 'currentPrice' or 'marketCap' not found.\n",
      "Missing data for FISV: 'currentPrice' or 'marketCap' not found.\n",
      "Missing data for FLIR: 'currentPrice' or 'marketCap' not found.\n"
     ]
    },
    {
     "name": "stderr",
     "output_type": "stream",
     "text": [
      "404 Client Error: Not Found for url: https://query2.finance.yahoo.com/v10/finance/quoteSummary/FLT?modules=financialData%2CquoteType%2CdefaultKeyStatistics%2CassetProfile%2CsummaryDetail&corsDomain=finance.yahoo.com&formatted=false&symbol=FLT&crumb=2rPm363PiS.\n"
     ]
    },
    {
     "name": "stdout",
     "output_type": "stream",
     "text": [
      "Missing data for FLT: 'currentPrice' or 'marketCap' not found.\n",
      "Missing data for FRC: 'currentPrice' or 'marketCap' not found.\n",
      "Missing data for HFC: 'currentPrice' or 'marketCap' not found.\n",
      "Missing data for INFO: 'currentPrice' or 'marketCap' not found.\n",
      "Missing data for KSU: 'currentPrice' or 'marketCap' not found.\n",
      "Missing data for MXIM: 'currentPrice' or 'marketCap' not found.\n",
      "Missing data for MYL: 'currentPrice' or 'marketCap' not found.\n",
      "Missing data for NBL: 'currentPrice' or 'marketCap' not found.\n",
      "Missing data for NLOK: 'currentPrice' or 'marketCap' not found.\n",
      "Missing data for NLSN: 'currentPrice' or 'marketCap' not found.\n",
      "Missing data for PBCT: 'currentPrice' or 'marketCap' not found.\n",
      "RequestException fetching data for PEAK: HTTPSConnectionPool(host='guce.yahoo.com', port=443): Read timed out. (read timeout=30)\n",
      "Missing data for PKI: 'currentPrice' or 'marketCap' not found.\n"
     ]
    },
    {
     "name": "stderr",
     "output_type": "stream",
     "text": [
      "404 Client Error: Not Found for url: https://query2.finance.yahoo.com/v10/finance/quoteSummary/RE?modules=financialData%2CquoteType%2CdefaultKeyStatistics%2CassetProfile%2CsummaryDetail&corsDomain=finance.yahoo.com&formatted=false&symbol=RE&crumb=2rPm363PiS.\n"
     ]
    },
    {
     "name": "stdout",
     "output_type": "stream",
     "text": [
      "Missing data for RE: 'currentPrice' or 'marketCap' not found.\n",
      "RequestException fetching data for SEE: ('Connection aborted.', ConnectionResetError(10054, 'An existing connection was forcibly closed by the remote host', None, 10054, None))\n",
      "RequestException fetching data for SHW: HTTPSConnectionPool(host='query2.finance.yahoo.com', port=443): Max retries exceeded with url: /v10/finance/quoteSummary/SHW?modules=financialData%2CquoteType%2CdefaultKeyStatistics%2CassetProfile%2CsummaryDetail&corsDomain=finance.yahoo.com&formatted=false&symbol=SHW&crumb=2rPm363PiS. (Caused by NewConnectionError('<urllib3.connection.HTTPSConnection object at 0x0000026B6E4E7280>: Failed to establish a new connection: [Errno 11001] getaddrinfo failed'))\n",
      "RequestException fetching data for SIVB: HTTPSConnectionPool(host='query2.finance.yahoo.com', port=443): Max retries exceeded with url: /v10/finance/quoteSummary/SIVB?modules=financialData%2CquoteType%2CdefaultKeyStatistics%2CassetProfile%2CsummaryDetail&corsDomain=finance.yahoo.com&formatted=false&symbol=SIVB&crumb=2rPm363PiS. (Caused by NewConnectionError('<urllib3.connection.HTTPSConnection object at 0x0000026B6E4E7160>: Failed to establish a new connection: [Errno 11001] getaddrinfo failed'))\n",
      "RequestException fetching data for SJM: HTTPSConnectionPool(host='query2.finance.yahoo.com', port=443): Max retries exceeded with url: /v10/finance/quoteSummary/SJM?modules=financialData%2CquoteType%2CdefaultKeyStatistics%2CassetProfile%2CsummaryDetail&corsDomain=finance.yahoo.com&formatted=false&symbol=SJM&crumb=2rPm363PiS. (Caused by NewConnectionError('<urllib3.connection.HTTPSConnection object at 0x0000026B6E4E71C0>: Failed to establish a new connection: [Errno 11001] getaddrinfo failed'))\n",
      "RequestException fetching data for SLB: HTTPSConnectionPool(host='query2.finance.yahoo.com', port=443): Max retries exceeded with url: /v10/finance/quoteSummary/SLB?modules=financialData%2CquoteType%2CdefaultKeyStatistics%2CassetProfile%2CsummaryDetail&corsDomain=finance.yahoo.com&formatted=false&symbol=SLB&crumb=2rPm363PiS. (Caused by NewConnectionError('<urllib3.connection.HTTPSConnection object at 0x0000026B6E4E7190>: Failed to establish a new connection: [Errno 11001] getaddrinfo failed'))\n",
      "RequestException fetching data for SLG: HTTPSConnectionPool(host='query2.finance.yahoo.com', port=443): Max retries exceeded with url: /v10/finance/quoteSummary/SLG?modules=financialData%2CquoteType%2CdefaultKeyStatistics%2CassetProfile%2CsummaryDetail&corsDomain=finance.yahoo.com&formatted=false&symbol=SLG&crumb=2rPm363PiS. (Caused by NewConnectionError('<urllib3.connection.HTTPSConnection object at 0x0000026B6E4E7400>: Failed to establish a new connection: [Errno 11001] getaddrinfo failed'))\n",
      "RequestException fetching data for SNA: HTTPSConnectionPool(host='query2.finance.yahoo.com', port=443): Max retries exceeded with url: /v10/finance/quoteSummary/SNA?modules=financialData%2CquoteType%2CdefaultKeyStatistics%2CassetProfile%2CsummaryDetail&corsDomain=finance.yahoo.com&formatted=false&symbol=SNA&crumb=2rPm363PiS. (Caused by NewConnectionError('<urllib3.connection.HTTPSConnection object at 0x0000026B6E4E71F0>: Failed to establish a new connection: [Errno 11001] getaddrinfo failed'))\n",
      "RequestException fetching data for SNPS: HTTPSConnectionPool(host='query2.finance.yahoo.com', port=443): Max retries exceeded with url: /v10/finance/quoteSummary/SNPS?modules=financialData%2CquoteType%2CdefaultKeyStatistics%2CassetProfile%2CsummaryDetail&corsDomain=finance.yahoo.com&formatted=false&symbol=SNPS&crumb=2rPm363PiS. (Caused by NewConnectionError('<urllib3.connection.HTTPSConnection object at 0x0000026B6E4E73D0>: Failed to establish a new connection: [Errno 11001] getaddrinfo failed'))\n",
      "RequestException fetching data for SO: HTTPSConnectionPool(host='query2.finance.yahoo.com', port=443): Max retries exceeded with url: /v10/finance/quoteSummary/SO?modules=financialData%2CquoteType%2CdefaultKeyStatistics%2CassetProfile%2CsummaryDetail&corsDomain=finance.yahoo.com&formatted=false&symbol=SO&crumb=2rPm363PiS. (Caused by NewConnectionError('<urllib3.connection.HTTPSConnection object at 0x0000026B6E4E7760>: Failed to establish a new connection: [Errno 11001] getaddrinfo failed'))\n",
      "RequestException fetching data for SPG: HTTPSConnectionPool(host='query2.finance.yahoo.com', port=443): Max retries exceeded with url: /v10/finance/quoteSummary/SPG?modules=financialData%2CquoteType%2CdefaultKeyStatistics%2CassetProfile%2CsummaryDetail&corsDomain=finance.yahoo.com&formatted=false&symbol=SPG&crumb=2rPm363PiS. (Caused by NewConnectionError('<urllib3.connection.HTTPSConnection object at 0x0000026B6E4E7FD0>: Failed to establish a new connection: [Errno 11001] getaddrinfo failed'))\n",
      "RequestException fetching data for SPGI: HTTPSConnectionPool(host='query2.finance.yahoo.com', port=443): Max retries exceeded with url: /v10/finance/quoteSummary/SPGI?modules=financialData%2CquoteType%2CdefaultKeyStatistics%2CassetProfile%2CsummaryDetail&corsDomain=finance.yahoo.com&formatted=false&symbol=SPGI&crumb=2rPm363PiS. (Caused by NewConnectionError('<urllib3.connection.HTTPSConnection object at 0x0000026B6E4E7670>: Failed to establish a new connection: [Errno 11001] getaddrinfo failed'))\n",
      "RequestException fetching data for SRE: HTTPSConnectionPool(host='query2.finance.yahoo.com', port=443): Max retries exceeded with url: /v10/finance/quoteSummary/SRE?modules=financialData%2CquoteType%2CdefaultKeyStatistics%2CassetProfile%2CsummaryDetail&corsDomain=finance.yahoo.com&formatted=false&symbol=SRE&crumb=2rPm363PiS. (Caused by NewConnectionError('<urllib3.connection.HTTPSConnection object at 0x0000026B6E4E76A0>: Failed to establish a new connection: [Errno 11001] getaddrinfo failed'))\n",
      "RequestException fetching data for STE: HTTPSConnectionPool(host='query2.finance.yahoo.com', port=443): Max retries exceeded with url: /v10/finance/quoteSummary/STE?modules=financialData%2CquoteType%2CdefaultKeyStatistics%2CassetProfile%2CsummaryDetail&corsDomain=finance.yahoo.com&formatted=false&symbol=STE&crumb=2rPm363PiS. (Caused by NewConnectionError('<urllib3.connection.HTTPSConnection object at 0x0000026B6E4E70D0>: Failed to establish a new connection: [Errno 11001] getaddrinfo failed'))\n",
      "RequestException fetching data for STT: HTTPSConnectionPool(host='query2.finance.yahoo.com', port=443): Max retries exceeded with url: /v10/finance/quoteSummary/STT?modules=financialData%2CquoteType%2CdefaultKeyStatistics%2CassetProfile%2CsummaryDetail&corsDomain=finance.yahoo.com&formatted=false&symbol=STT&crumb=2rPm363PiS. (Caused by NewConnectionError('<urllib3.connection.HTTPSConnection object at 0x0000026B6E4E72B0>: Failed to establish a new connection: [Errno 11001] getaddrinfo failed'))\n",
      "RequestException fetching data for STX: HTTPSConnectionPool(host='query2.finance.yahoo.com', port=443): Max retries exceeded with url: /v10/finance/quoteSummary/STX?modules=financialData%2CquoteType%2CdefaultKeyStatistics%2CassetProfile%2CsummaryDetail&corsDomain=finance.yahoo.com&formatted=false&symbol=STX&crumb=2rPm363PiS. (Caused by NewConnectionError('<urllib3.connection.HTTPSConnection object at 0x0000026B6E4E7280>: Failed to establish a new connection: [Errno 11001] getaddrinfo failed'))\n",
      "RequestException fetching data for STZ: HTTPSConnectionPool(host='query2.finance.yahoo.com', port=443): Max retries exceeded with url: /v10/finance/quoteSummary/STZ?modules=financialData%2CquoteType%2CdefaultKeyStatistics%2CassetProfile%2CsummaryDetail&corsDomain=finance.yahoo.com&formatted=false&symbol=STZ&crumb=2rPm363PiS. (Caused by NewConnectionError('<urllib3.connection.HTTPSConnection object at 0x0000026B6E4E7CD0>: Failed to establish a new connection: [Errno 11001] getaddrinfo failed'))\n",
      "RequestException fetching data for SWK: HTTPSConnectionPool(host='query2.finance.yahoo.com', port=443): Max retries exceeded with url: /v10/finance/quoteSummary/SWK?modules=financialData%2CquoteType%2CdefaultKeyStatistics%2CassetProfile%2CsummaryDetail&corsDomain=finance.yahoo.com&formatted=false&symbol=SWK&crumb=2rPm363PiS. (Caused by NewConnectionError('<urllib3.connection.HTTPSConnection object at 0x0000026B6E4E71C0>: Failed to establish a new connection: [Errno 11001] getaddrinfo failed'))\n",
      "RequestException fetching data for SWKS: HTTPSConnectionPool(host='query2.finance.yahoo.com', port=443): Max retries exceeded with url: /v10/finance/quoteSummary/SWKS?modules=financialData%2CquoteType%2CdefaultKeyStatistics%2CassetProfile%2CsummaryDetail&corsDomain=finance.yahoo.com&formatted=false&symbol=SWKS&crumb=2rPm363PiS. (Caused by NewConnectionError('<urllib3.connection.HTTPSConnection object at 0x0000026B6E4E76A0>: Failed to establish a new connection: [Errno 11001] getaddrinfo failed'))\n",
      "RequestException fetching data for SYF: HTTPSConnectionPool(host='query2.finance.yahoo.com', port=443): Max retries exceeded with url: /v10/finance/quoteSummary/SYF?modules=financialData%2CquoteType%2CdefaultKeyStatistics%2CassetProfile%2CsummaryDetail&corsDomain=finance.yahoo.com&formatted=false&symbol=SYF&crumb=2rPm363PiS. (Caused by NewConnectionError('<urllib3.connection.HTTPSConnection object at 0x0000026B6E4E7280>: Failed to establish a new connection: [Errno 11001] getaddrinfo failed'))\n",
      "RequestException fetching data for SYK: HTTPSConnectionPool(host='query2.finance.yahoo.com', port=443): Max retries exceeded with url: /v10/finance/quoteSummary/SYK?modules=financialData%2CquoteType%2CdefaultKeyStatistics%2CassetProfile%2CsummaryDetail&corsDomain=finance.yahoo.com&formatted=false&symbol=SYK&crumb=2rPm363PiS. (Caused by NewConnectionError('<urllib3.connection.HTTPSConnection object at 0x0000026B6E4E7160>: Failed to establish a new connection: [Errno 11001] getaddrinfo failed'))\n",
      "RequestException fetching data for SYY: HTTPSConnectionPool(host='query2.finance.yahoo.com', port=443): Max retries exceeded with url: /v10/finance/quoteSummary/SYY?modules=financialData%2CquoteType%2CdefaultKeyStatistics%2CassetProfile%2CsummaryDetail&corsDomain=finance.yahoo.com&formatted=false&symbol=SYY&crumb=2rPm363PiS. (Caused by NewConnectionError('<urllib3.connection.HTTPSConnection object at 0x0000026B6E4E7070>: Failed to establish a new connection: [Errno 11001] getaddrinfo failed'))\n",
      "RequestException fetching data for T: HTTPSConnectionPool(host='query2.finance.yahoo.com', port=443): Max retries exceeded with url: /v10/finance/quoteSummary/T?modules=financialData%2CquoteType%2CdefaultKeyStatistics%2CassetProfile%2CsummaryDetail&corsDomain=finance.yahoo.com&formatted=false&symbol=T&crumb=2rPm363PiS. (Caused by NewConnectionError('<urllib3.connection.HTTPSConnection object at 0x0000026B6E4E71C0>: Failed to establish a new connection: [Errno 11001] getaddrinfo failed'))\n",
      "RequestException fetching data for TAP: HTTPSConnectionPool(host='query2.finance.yahoo.com', port=443): Max retries exceeded with url: /v10/finance/quoteSummary/TAP?modules=financialData%2CquoteType%2CdefaultKeyStatistics%2CassetProfile%2CsummaryDetail&corsDomain=finance.yahoo.com&formatted=false&symbol=TAP&crumb=2rPm363PiS. (Caused by NewConnectionError('<urllib3.connection.HTTPSConnection object at 0x0000026B6E4E76A0>: Failed to establish a new connection: [Errno 11001] getaddrinfo failed'))\n",
      "RequestException fetching data for TDG: HTTPSConnectionPool(host='query2.finance.yahoo.com', port=443): Max retries exceeded with url: /v10/finance/quoteSummary/TDG?modules=financialData%2CquoteType%2CdefaultKeyStatistics%2CassetProfile%2CsummaryDetail&corsDomain=finance.yahoo.com&formatted=false&symbol=TDG&crumb=2rPm363PiS. (Caused by NewConnectionError('<urllib3.connection.HTTPSConnection object at 0x0000026B6E4E7280>: Failed to establish a new connection: [Errno 11001] getaddrinfo failed'))\n",
      "RequestException fetching data for TDY: HTTPSConnectionPool(host='query2.finance.yahoo.com', port=443): Max retries exceeded with url: /v10/finance/quoteSummary/TDY?modules=financialData%2CquoteType%2CdefaultKeyStatistics%2CassetProfile%2CsummaryDetail&corsDomain=finance.yahoo.com&formatted=false&symbol=TDY&crumb=2rPm363PiS. (Caused by NewConnectionError('<urllib3.connection.HTTPSConnection object at 0x0000026B6E4E7310>: Failed to establish a new connection: [Errno 11001] getaddrinfo failed'))\n",
      "RequestException fetching data for TEL: HTTPSConnectionPool(host='query2.finance.yahoo.com', port=443): Max retries exceeded with url: /v10/finance/quoteSummary/TEL?modules=financialData%2CquoteType%2CdefaultKeyStatistics%2CassetProfile%2CsummaryDetail&corsDomain=finance.yahoo.com&formatted=false&symbol=TEL&crumb=2rPm363PiS. (Caused by NewConnectionError('<urllib3.connection.HTTPSConnection object at 0x0000026B6E4E7160>: Failed to establish a new connection: [Errno 11001] getaddrinfo failed'))\n",
      "RequestException fetching data for TFC: HTTPSConnectionPool(host='query2.finance.yahoo.com', port=443): Max retries exceeded with url: /v10/finance/quoteSummary/TFC?modules=financialData%2CquoteType%2CdefaultKeyStatistics%2CassetProfile%2CsummaryDetail&corsDomain=finance.yahoo.com&formatted=false&symbol=TFC&crumb=2rPm363PiS. (Caused by NewConnectionError('<urllib3.connection.HTTPSConnection object at 0x0000026B6E4E71C0>: Failed to establish a new connection: [Errno 11001] getaddrinfo failed'))\n",
      "RequestException fetching data for TFX: HTTPSConnectionPool(host='query2.finance.yahoo.com', port=443): Max retries exceeded with url: /v10/finance/quoteSummary/TFX?modules=financialData%2CquoteType%2CdefaultKeyStatistics%2CassetProfile%2CsummaryDetail&corsDomain=finance.yahoo.com&formatted=false&symbol=TFX&crumb=2rPm363PiS. (Caused by NewConnectionError('<urllib3.connection.HTTPSConnection object at 0x0000026B6E4E76A0>: Failed to establish a new connection: [Errno 11001] getaddrinfo failed'))\n",
      "RequestException fetching data for TGT: HTTPSConnectionPool(host='query2.finance.yahoo.com', port=443): Max retries exceeded with url: /v10/finance/quoteSummary/TGT?modules=financialData%2CquoteType%2CdefaultKeyStatistics%2CassetProfile%2CsummaryDetail&corsDomain=finance.yahoo.com&formatted=false&symbol=TGT&crumb=2rPm363PiS. (Caused by NewConnectionError('<urllib3.connection.HTTPSConnection object at 0x0000026B6E4E7280>: Failed to establish a new connection: [Errno 11001] getaddrinfo failed'))\n",
      "RequestException fetching data for TIF: HTTPSConnectionPool(host='query2.finance.yahoo.com', port=443): Max retries exceeded with url: /v10/finance/quoteSummary/TIF?modules=financialData%2CquoteType%2CdefaultKeyStatistics%2CassetProfile%2CsummaryDetail&corsDomain=finance.yahoo.com&formatted=false&symbol=TIF&crumb=2rPm363PiS. (Caused by NewConnectionError('<urllib3.connection.HTTPSConnection object at 0x0000026B6E4E7310>: Failed to establish a new connection: [Errno 11001] getaddrinfo failed'))\n",
      "RequestException fetching data for TJX: HTTPSConnectionPool(host='query2.finance.yahoo.com', port=443): Max retries exceeded with url: /v10/finance/quoteSummary/TJX?modules=financialData%2CquoteType%2CdefaultKeyStatistics%2CassetProfile%2CsummaryDetail&corsDomain=finance.yahoo.com&formatted=false&symbol=TJX&crumb=2rPm363PiS. (Caused by NewConnectionError('<urllib3.connection.HTTPSConnection object at 0x0000026B6E4E7160>: Failed to establish a new connection: [Errno 11001] getaddrinfo failed'))\n"
     ]
    },
    {
     "name": "stdout",
     "output_type": "stream",
     "text": [
      "RequestException fetching data for TMO: HTTPSConnectionPool(host='query2.finance.yahoo.com', port=443): Max retries exceeded with url: /v10/finance/quoteSummary/TMO?modules=financialData%2CquoteType%2CdefaultKeyStatistics%2CassetProfile%2CsummaryDetail&corsDomain=finance.yahoo.com&formatted=false&symbol=TMO&crumb=2rPm363PiS. (Caused by NewConnectionError('<urllib3.connection.HTTPSConnection object at 0x0000026B6E4E71C0>: Failed to establish a new connection: [Errno 11001] getaddrinfo failed'))\n",
      "RequestException fetching data for TMUS: HTTPSConnectionPool(host='query2.finance.yahoo.com', port=443): Max retries exceeded with url: /v10/finance/quoteSummary/TMUS?modules=financialData%2CquoteType%2CdefaultKeyStatistics%2CassetProfile%2CsummaryDetail&corsDomain=finance.yahoo.com&formatted=false&symbol=TMUS&crumb=2rPm363PiS. (Caused by NewConnectionError('<urllib3.connection.HTTPSConnection object at 0x0000026B6E4E76A0>: Failed to establish a new connection: [Errno 11001] getaddrinfo failed'))\n",
      "RequestException fetching data for TPR: HTTPSConnectionPool(host='query2.finance.yahoo.com', port=443): Max retries exceeded with url: /v10/finance/quoteSummary/TPR?modules=financialData%2CquoteType%2CdefaultKeyStatistics%2CassetProfile%2CsummaryDetail&corsDomain=finance.yahoo.com&formatted=false&symbol=TPR&crumb=2rPm363PiS. (Caused by NewConnectionError('<urllib3.connection.HTTPSConnection object at 0x0000026B6E4E7310>: Failed to establish a new connection: [Errno 11001] getaddrinfo failed'))\n",
      "RequestException fetching data for TROW: HTTPSConnectionPool(host='query2.finance.yahoo.com', port=443): Max retries exceeded with url: /v10/finance/quoteSummary/TROW?modules=financialData%2CquoteType%2CdefaultKeyStatistics%2CassetProfile%2CsummaryDetail&corsDomain=finance.yahoo.com&formatted=false&symbol=TROW&crumb=2rPm363PiS. (Caused by NewConnectionError('<urllib3.connection.HTTPSConnection object at 0x0000026B6E4E7940>: Failed to establish a new connection: [Errno 11001] getaddrinfo failed'))\n",
      "RequestException fetching data for TRV: HTTPSConnectionPool(host='query2.finance.yahoo.com', port=443): Max retries exceeded with url: /v10/finance/quoteSummary/TRV?modules=financialData%2CquoteType%2CdefaultKeyStatistics%2CassetProfile%2CsummaryDetail&corsDomain=finance.yahoo.com&formatted=false&symbol=TRV&crumb=2rPm363PiS. (Caused by NewConnectionError('<urllib3.connection.HTTPSConnection object at 0x0000026B6E4E7670>: Failed to establish a new connection: [Errno 11001] getaddrinfo failed'))\n",
      "RequestException fetching data for TSCO: HTTPSConnectionPool(host='query2.finance.yahoo.com', port=443): Max retries exceeded with url: /v10/finance/quoteSummary/TSCO?modules=financialData%2CquoteType%2CdefaultKeyStatistics%2CassetProfile%2CsummaryDetail&corsDomain=finance.yahoo.com&formatted=false&symbol=TSCO&crumb=2rPm363PiS. (Caused by NewConnectionError('<urllib3.connection.HTTPSConnection object at 0x0000026B6E4E7250>: Failed to establish a new connection: [Errno 11001] getaddrinfo failed'))\n",
      "RequestException fetching data for TSN: HTTPSConnectionPool(host='query2.finance.yahoo.com', port=443): Max retries exceeded with url: /v10/finance/quoteSummary/TSN?modules=financialData%2CquoteType%2CdefaultKeyStatistics%2CassetProfile%2CsummaryDetail&corsDomain=finance.yahoo.com&formatted=false&symbol=TSN&crumb=2rPm363PiS. (Caused by NewConnectionError('<urllib3.connection.HTTPSConnection object at 0x0000026B6E4E71C0>: Failed to establish a new connection: [Errno 11001] getaddrinfo failed'))\n",
      "RequestException fetching data for TT: HTTPSConnectionPool(host='query2.finance.yahoo.com', port=443): Max retries exceeded with url: /v10/finance/quoteSummary/TT?modules=financialData%2CquoteType%2CdefaultKeyStatistics%2CassetProfile%2CsummaryDetail&corsDomain=finance.yahoo.com&formatted=false&symbol=TT&crumb=2rPm363PiS. (Caused by NewConnectionError('<urllib3.connection.HTTPSConnection object at 0x0000026B6E4E7310>: Failed to establish a new connection: [Errno 11001] getaddrinfo failed'))\n",
      "RequestException fetching data for TTWO: HTTPSConnectionPool(host='query2.finance.yahoo.com', port=443): Max retries exceeded with url: /v10/finance/quoteSummary/TTWO?modules=financialData%2CquoteType%2CdefaultKeyStatistics%2CassetProfile%2CsummaryDetail&corsDomain=finance.yahoo.com&formatted=false&symbol=TTWO&crumb=2rPm363PiS. (Caused by NewConnectionError('<urllib3.connection.HTTPSConnection object at 0x0000026B6E4E7940>: Failed to establish a new connection: [Errno 11001] getaddrinfo failed'))\n",
      "RequestException fetching data for TWTR: HTTPSConnectionPool(host='query2.finance.yahoo.com', port=443): Max retries exceeded with url: /v10/finance/quoteSummary/TWTR?modules=financialData%2CquoteType%2CdefaultKeyStatistics%2CassetProfile%2CsummaryDetail&corsDomain=finance.yahoo.com&formatted=false&symbol=TWTR&crumb=2rPm363PiS. (Caused by NewConnectionError('<urllib3.connection.HTTPSConnection object at 0x0000026B6E4E7670>: Failed to establish a new connection: [Errno 11001] getaddrinfo failed'))\n",
      "RequestException fetching data for TXN: HTTPSConnectionPool(host='query2.finance.yahoo.com', port=443): Max retries exceeded with url: /v10/finance/quoteSummary/TXN?modules=financialData%2CquoteType%2CdefaultKeyStatistics%2CassetProfile%2CsummaryDetail&corsDomain=finance.yahoo.com&formatted=false&symbol=TXN&crumb=2rPm363PiS. (Caused by NewConnectionError('<urllib3.connection.HTTPSConnection object at 0x0000026B6E4E7250>: Failed to establish a new connection: [Errno 11001] getaddrinfo failed'))\n",
      "RequestException fetching data for TXT: HTTPSConnectionPool(host='query2.finance.yahoo.com', port=443): Max retries exceeded with url: /v10/finance/quoteSummary/TXT?modules=financialData%2CquoteType%2CdefaultKeyStatistics%2CassetProfile%2CsummaryDetail&corsDomain=finance.yahoo.com&formatted=false&symbol=TXT&crumb=2rPm363PiS. (Caused by NewConnectionError('<urllib3.connection.HTTPSConnection object at 0x0000026B6E4E71C0>: Failed to establish a new connection: [Errno 11001] getaddrinfo failed'))\n",
      "RequestException fetching data for TYL: HTTPSConnectionPool(host='query2.finance.yahoo.com', port=443): Max retries exceeded with url: /v10/finance/quoteSummary/TYL?modules=financialData%2CquoteType%2CdefaultKeyStatistics%2CassetProfile%2CsummaryDetail&corsDomain=finance.yahoo.com&formatted=false&symbol=TYL&crumb=2rPm363PiS. (Caused by NewConnectionError('<urllib3.connection.HTTPSConnection object at 0x0000026B6E4E7310>: Failed to establish a new connection: [Errno 11001] getaddrinfo failed'))\n",
      "RequestException fetching data for UA: HTTPSConnectionPool(host='query2.finance.yahoo.com', port=443): Max retries exceeded with url: /v10/finance/quoteSummary/UA?modules=financialData%2CquoteType%2CdefaultKeyStatistics%2CassetProfile%2CsummaryDetail&corsDomain=finance.yahoo.com&formatted=false&symbol=UA&crumb=2rPm363PiS. (Caused by NewConnectionError('<urllib3.connection.HTTPSConnection object at 0x0000026B6E4E7940>: Failed to establish a new connection: [Errno 11001] getaddrinfo failed'))\n",
      "RequestException fetching data for UAA: HTTPSConnectionPool(host='query2.finance.yahoo.com', port=443): Max retries exceeded with url: /v10/finance/quoteSummary/UAA?modules=financialData%2CquoteType%2CdefaultKeyStatistics%2CassetProfile%2CsummaryDetail&corsDomain=finance.yahoo.com&formatted=false&symbol=UAA&crumb=2rPm363PiS. (Caused by NewConnectionError('<urllib3.connection.HTTPSConnection object at 0x0000026B6E4E7670>: Failed to establish a new connection: [Errno 11001] getaddrinfo failed'))\n",
      "RequestException fetching data for UAL: HTTPSConnectionPool(host='query2.finance.yahoo.com', port=443): Max retries exceeded with url: /v10/finance/quoteSummary/UAL?modules=financialData%2CquoteType%2CdefaultKeyStatistics%2CassetProfile%2CsummaryDetail&corsDomain=finance.yahoo.com&formatted=false&symbol=UAL&crumb=2rPm363PiS. (Caused by NewConnectionError('<urllib3.connection.HTTPSConnection object at 0x0000026B6E4E7250>: Failed to establish a new connection: [Errno 11001] getaddrinfo failed'))\n",
      "RequestException fetching data for UDR: HTTPSConnectionPool(host='query2.finance.yahoo.com', port=443): Max retries exceeded with url: /v10/finance/quoteSummary/UDR?modules=financialData%2CquoteType%2CdefaultKeyStatistics%2CassetProfile%2CsummaryDetail&corsDomain=finance.yahoo.com&formatted=false&symbol=UDR&crumb=2rPm363PiS. (Caused by NewConnectionError('<urllib3.connection.HTTPSConnection object at 0x0000026B6E4E71C0>: Failed to establish a new connection: [Errno 11001] getaddrinfo failed'))\n",
      "RequestException fetching data for UHS: HTTPSConnectionPool(host='query2.finance.yahoo.com', port=443): Max retries exceeded with url: /v10/finance/quoteSummary/UHS?modules=financialData%2CquoteType%2CdefaultKeyStatistics%2CassetProfile%2CsummaryDetail&corsDomain=finance.yahoo.com&formatted=false&symbol=UHS&crumb=2rPm363PiS. (Caused by NewConnectionError('<urllib3.connection.HTTPSConnection object at 0x0000026B6E4E7310>: Failed to establish a new connection: [Errno 11001] getaddrinfo failed'))\n",
      "RequestException fetching data for ULTA: HTTPSConnectionPool(host='query2.finance.yahoo.com', port=443): Max retries exceeded with url: /v10/finance/quoteSummary/ULTA?modules=financialData%2CquoteType%2CdefaultKeyStatistics%2CassetProfile%2CsummaryDetail&corsDomain=finance.yahoo.com&formatted=false&symbol=ULTA&crumb=2rPm363PiS. (Caused by NewConnectionError('<urllib3.connection.HTTPSConnection object at 0x0000026B6E4E7070>: Failed to establish a new connection: [Errno 11001] getaddrinfo failed'))\n",
      "RequestException fetching data for UNH: HTTPSConnectionPool(host='query2.finance.yahoo.com', port=443): Max retries exceeded with url: /v10/finance/quoteSummary/UNH?modules=financialData%2CquoteType%2CdefaultKeyStatistics%2CassetProfile%2CsummaryDetail&corsDomain=finance.yahoo.com&formatted=false&symbol=UNH&crumb=2rPm363PiS. (Caused by NewConnectionError('<urllib3.connection.HTTPSConnection object at 0x0000026B6E4E7670>: Failed to establish a new connection: [Errno 11001] getaddrinfo failed'))\n",
      "RequestException fetching data for UNM: HTTPSConnectionPool(host='query2.finance.yahoo.com', port=443): Max retries exceeded with url: /v10/finance/quoteSummary/UNM?modules=financialData%2CquoteType%2CdefaultKeyStatistics%2CassetProfile%2CsummaryDetail&corsDomain=finance.yahoo.com&formatted=false&symbol=UNM&crumb=2rPm363PiS. (Caused by NewConnectionError('<urllib3.connection.HTTPSConnection object at 0x0000026B6E4E7280>: Failed to establish a new connection: [Errno 11001] getaddrinfo failed'))\n",
      "RequestException fetching data for UNP: HTTPSConnectionPool(host='query2.finance.yahoo.com', port=443): Max retries exceeded with url: /v10/finance/quoteSummary/UNP?modules=financialData%2CquoteType%2CdefaultKeyStatistics%2CassetProfile%2CsummaryDetail&corsDomain=finance.yahoo.com&formatted=false&symbol=UNP&crumb=2rPm363PiS. (Caused by NewConnectionError('<urllib3.connection.HTTPSConnection object at 0x0000026B6E4E7A90>: Failed to establish a new connection: [Errno 11001] getaddrinfo failed'))\n",
      "RequestException fetching data for UPS: HTTPSConnectionPool(host='query2.finance.yahoo.com', port=443): Max retries exceeded with url: /v10/finance/quoteSummary/UPS?modules=financialData%2CquoteType%2CdefaultKeyStatistics%2CassetProfile%2CsummaryDetail&corsDomain=finance.yahoo.com&formatted=false&symbol=UPS&crumb=2rPm363PiS. (Caused by NewConnectionError('<urllib3.connection.HTTPSConnection object at 0x0000026B6E4E7310>: Failed to establish a new connection: [Errno 11001] getaddrinfo failed'))\n",
      "RequestException fetching data for URI: HTTPSConnectionPool(host='query2.finance.yahoo.com', port=443): Max retries exceeded with url: /v10/finance/quoteSummary/URI?modules=financialData%2CquoteType%2CdefaultKeyStatistics%2CassetProfile%2CsummaryDetail&corsDomain=finance.yahoo.com&formatted=false&symbol=URI&crumb=2rPm363PiS. (Caused by NewConnectionError('<urllib3.connection.HTTPSConnection object at 0x0000026B6E4E7070>: Failed to establish a new connection: [Errno 11001] getaddrinfo failed'))\n",
      "RequestException fetching data for USB: HTTPSConnectionPool(host='query2.finance.yahoo.com', port=443): Max retries exceeded with url: /v10/finance/quoteSummary/USB?modules=financialData%2CquoteType%2CdefaultKeyStatistics%2CassetProfile%2CsummaryDetail&corsDomain=finance.yahoo.com&formatted=false&symbol=USB&crumb=2rPm363PiS. (Caused by NewConnectionError('<urllib3.connection.HTTPSConnection object at 0x0000026B6E4E72B0>: Failed to establish a new connection: [Errno 11001] getaddrinfo failed'))\n",
      "RequestException fetching data for V: HTTPSConnectionPool(host='query2.finance.yahoo.com', port=443): Max retries exceeded with url: /v10/finance/quoteSummary/V?modules=financialData%2CquoteType%2CdefaultKeyStatistics%2CassetProfile%2CsummaryDetail&corsDomain=finance.yahoo.com&formatted=false&symbol=V&crumb=2rPm363PiS. (Caused by NewConnectionError('<urllib3.connection.HTTPSConnection object at 0x0000026B6E4E71C0>: Failed to establish a new connection: [Errno 11001] getaddrinfo failed'))\n",
      "RequestException fetching data for VAR: HTTPSConnectionPool(host='query2.finance.yahoo.com', port=443): Max retries exceeded with url: /v10/finance/quoteSummary/VAR?modules=financialData%2CquoteType%2CdefaultKeyStatistics%2CassetProfile%2CsummaryDetail&corsDomain=finance.yahoo.com&formatted=false&symbol=VAR&crumb=2rPm363PiS. (Caused by NewConnectionError('<urllib3.connection.HTTPSConnection object at 0x0000026B6E4E7280>: Failed to establish a new connection: [Errno 11001] getaddrinfo failed'))\n",
      "RequestException fetching data for VFC: HTTPSConnectionPool(host='query2.finance.yahoo.com', port=443): Max retries exceeded with url: /v10/finance/quoteSummary/VFC?modules=financialData%2CquoteType%2CdefaultKeyStatistics%2CassetProfile%2CsummaryDetail&corsDomain=finance.yahoo.com&formatted=false&symbol=VFC&crumb=2rPm363PiS. (Caused by NewConnectionError('<urllib3.connection.HTTPSConnection object at 0x0000026B6E4E7310>: Failed to establish a new connection: [Errno 11001] getaddrinfo failed'))\n",
      "RequestException fetching data for VIAC: HTTPSConnectionPool(host='query2.finance.yahoo.com', port=443): Max retries exceeded with url: /v10/finance/quoteSummary/VIAC?modules=financialData%2CquoteType%2CdefaultKeyStatistics%2CassetProfile%2CsummaryDetail&corsDomain=finance.yahoo.com&formatted=false&symbol=VIAC&crumb=2rPm363PiS. (Caused by NewConnectionError('<urllib3.connection.HTTPSConnection object at 0x0000026B6E4E79D0>: Failed to establish a new connection: [Errno 11001] getaddrinfo failed'))\n",
      "RequestException fetching data for VLO: HTTPSConnectionPool(host='query2.finance.yahoo.com', port=443): Max retries exceeded with url: /v10/finance/quoteSummary/VLO?modules=financialData%2CquoteType%2CdefaultKeyStatistics%2CassetProfile%2CsummaryDetail&corsDomain=finance.yahoo.com&formatted=false&symbol=VLO&crumb=2rPm363PiS. (Caused by NewConnectionError('<urllib3.connection.HTTPSConnection object at 0x0000026B6E4E7070>: Failed to establish a new connection: [Errno 11001] getaddrinfo failed'))\n",
      "RequestException fetching data for VMC: HTTPSConnectionPool(host='query2.finance.yahoo.com', port=443): Max retries exceeded with url: /v10/finance/quoteSummary/VMC?modules=financialData%2CquoteType%2CdefaultKeyStatistics%2CassetProfile%2CsummaryDetail&corsDomain=finance.yahoo.com&formatted=false&symbol=VMC&crumb=2rPm363PiS. (Caused by NewConnectionError('<urllib3.connection.HTTPSConnection object at 0x0000026B6E4E71C0>: Failed to establish a new connection: [Errno 11001] getaddrinfo failed'))\n",
      "RequestException fetching data for VNO: HTTPSConnectionPool(host='query2.finance.yahoo.com', port=443): Max retries exceeded with url: /v10/finance/quoteSummary/VNO?modules=financialData%2CquoteType%2CdefaultKeyStatistics%2CassetProfile%2CsummaryDetail&corsDomain=finance.yahoo.com&formatted=false&symbol=VNO&crumb=2rPm363PiS. (Caused by NewConnectionError('<urllib3.connection.HTTPSConnection object at 0x0000026B6E4E7280>: Failed to establish a new connection: [Errno 11001] getaddrinfo failed'))\n",
      "RequestException fetching data for VRSK: HTTPSConnectionPool(host='query2.finance.yahoo.com', port=443): Max retries exceeded with url: /v10/finance/quoteSummary/VRSK?modules=financialData%2CquoteType%2CdefaultKeyStatistics%2CassetProfile%2CsummaryDetail&corsDomain=finance.yahoo.com&formatted=false&symbol=VRSK&crumb=2rPm363PiS. (Caused by NewConnectionError('<urllib3.connection.HTTPSConnection object at 0x0000026B6E4E7310>: Failed to establish a new connection: [Errno 11001] getaddrinfo failed'))\n"
     ]
    },
    {
     "name": "stdout",
     "output_type": "stream",
     "text": [
      "RequestException fetching data for VRSN: HTTPSConnectionPool(host='query2.finance.yahoo.com', port=443): Max retries exceeded with url: /v10/finance/quoteSummary/VRSN?modules=financialData%2CquoteType%2CdefaultKeyStatistics%2CassetProfile%2CsummaryDetail&corsDomain=finance.yahoo.com&formatted=false&symbol=VRSN&crumb=2rPm363PiS. (Caused by NewConnectionError('<urllib3.connection.HTTPSConnection object at 0x0000026B6E4E7760>: Failed to establish a new connection: [Errno 11001] getaddrinfo failed'))\n",
      "RequestException fetching data for VRTX: HTTPSConnectionPool(host='query2.finance.yahoo.com', port=443): Max retries exceeded with url: /v10/finance/quoteSummary/VRTX?modules=financialData%2CquoteType%2CdefaultKeyStatistics%2CassetProfile%2CsummaryDetail&corsDomain=finance.yahoo.com&formatted=false&symbol=VRTX&crumb=2rPm363PiS. (Caused by NewConnectionError('<urllib3.connection.HTTPSConnection object at 0x0000026B6E4E7070>: Failed to establish a new connection: [Errno 11001] getaddrinfo failed'))\n",
      "RequestException fetching data for VTR: HTTPSConnectionPool(host='query2.finance.yahoo.com', port=443): Max retries exceeded with url: /v10/finance/quoteSummary/VTR?modules=financialData%2CquoteType%2CdefaultKeyStatistics%2CassetProfile%2CsummaryDetail&corsDomain=finance.yahoo.com&formatted=false&symbol=VTR&crumb=2rPm363PiS. (Caused by NewConnectionError('<urllib3.connection.HTTPSConnection object at 0x0000026B6E4E71C0>: Failed to establish a new connection: [Errno 11001] getaddrinfo failed'))\n",
      "RequestException fetching data for VZ: HTTPSConnectionPool(host='query2.finance.yahoo.com', port=443): Max retries exceeded with url: /v10/finance/quoteSummary/VZ?modules=financialData%2CquoteType%2CdefaultKeyStatistics%2CassetProfile%2CsummaryDetail&corsDomain=finance.yahoo.com&formatted=false&symbol=VZ&crumb=2rPm363PiS. (Caused by NewConnectionError('<urllib3.connection.HTTPSConnection object at 0x0000026B6E4E7280>: Failed to establish a new connection: [Errno 11001] getaddrinfo failed'))\n",
      "RequestException fetching data for WAB: HTTPSConnectionPool(host='query2.finance.yahoo.com', port=443): Max retries exceeded with url: /v10/finance/quoteSummary/WAB?modules=financialData%2CquoteType%2CdefaultKeyStatistics%2CassetProfile%2CsummaryDetail&corsDomain=finance.yahoo.com&formatted=false&symbol=WAB&crumb=2rPm363PiS. (Caused by NewConnectionError('<urllib3.connection.HTTPSConnection object at 0x0000026B6E4E7310>: Failed to establish a new connection: [Errno 11001] getaddrinfo failed'))\n",
      "RequestException fetching data for WAT: HTTPSConnectionPool(host='query2.finance.yahoo.com', port=443): Max retries exceeded with url: /v10/finance/quoteSummary/WAT?modules=financialData%2CquoteType%2CdefaultKeyStatistics%2CassetProfile%2CsummaryDetail&corsDomain=finance.yahoo.com&formatted=false&symbol=WAT&crumb=2rPm363PiS. (Caused by NewConnectionError('<urllib3.connection.HTTPSConnection object at 0x0000026B6E4E7760>: Failed to establish a new connection: [Errno 11001] getaddrinfo failed'))\n",
      "RequestException fetching data for WBA: HTTPSConnectionPool(host='query2.finance.yahoo.com', port=443): Max retries exceeded with url: /v10/finance/quoteSummary/WBA?modules=financialData%2CquoteType%2CdefaultKeyStatistics%2CassetProfile%2CsummaryDetail&corsDomain=finance.yahoo.com&formatted=false&symbol=WBA&crumb=2rPm363PiS. (Caused by NewConnectionError('<urllib3.connection.HTTPSConnection object at 0x0000026B6E4E7070>: Failed to establish a new connection: [Errno 11001] getaddrinfo failed'))\n",
      "RequestException fetching data for WDC: HTTPSConnectionPool(host='query2.finance.yahoo.com', port=443): Max retries exceeded with url: /v10/finance/quoteSummary/WDC?modules=financialData%2CquoteType%2CdefaultKeyStatistics%2CassetProfile%2CsummaryDetail&corsDomain=finance.yahoo.com&formatted=false&symbol=WDC&crumb=2rPm363PiS. (Caused by NewConnectionError('<urllib3.connection.HTTPSConnection object at 0x0000026B6E4E71C0>: Failed to establish a new connection: [Errno 11001] getaddrinfo failed'))\n",
      "RequestException fetching data for WEC: HTTPSConnectionPool(host='query2.finance.yahoo.com', port=443): Max retries exceeded with url: /v10/finance/quoteSummary/WEC?modules=financialData%2CquoteType%2CdefaultKeyStatistics%2CassetProfile%2CsummaryDetail&corsDomain=finance.yahoo.com&formatted=false&symbol=WEC&crumb=2rPm363PiS. (Caused by NewConnectionError('<urllib3.connection.HTTPSConnection object at 0x0000026B6E4E7280>: Failed to establish a new connection: [Errno 11001] getaddrinfo failed'))\n",
      "RequestException fetching data for WELL: HTTPSConnectionPool(host='query2.finance.yahoo.com', port=443): Max retries exceeded with url: /v10/finance/quoteSummary/WELL?modules=financialData%2CquoteType%2CdefaultKeyStatistics%2CassetProfile%2CsummaryDetail&corsDomain=finance.yahoo.com&formatted=false&symbol=WELL&crumb=2rPm363PiS. (Caused by NewConnectionError('<urllib3.connection.HTTPSConnection object at 0x0000026B6E4E7310>: Failed to establish a new connection: [Errno 11001] getaddrinfo failed'))\n",
      "RequestException fetching data for WFC: HTTPSConnectionPool(host='query2.finance.yahoo.com', port=443): Max retries exceeded with url: /v10/finance/quoteSummary/WFC?modules=financialData%2CquoteType%2CdefaultKeyStatistics%2CassetProfile%2CsummaryDetail&corsDomain=finance.yahoo.com&formatted=false&symbol=WFC&crumb=2rPm363PiS. (Caused by NewConnectionError('<urllib3.connection.HTTPSConnection object at 0x0000026B6E4E7760>: Failed to establish a new connection: [Errno 11001] getaddrinfo failed'))\n",
      "RequestException fetching data for WHR: HTTPSConnectionPool(host='query2.finance.yahoo.com', port=443): Max retries exceeded with url: /v10/finance/quoteSummary/WHR?modules=financialData%2CquoteType%2CdefaultKeyStatistics%2CassetProfile%2CsummaryDetail&corsDomain=finance.yahoo.com&formatted=false&symbol=WHR&crumb=2rPm363PiS. (Caused by NewConnectionError('<urllib3.connection.HTTPSConnection object at 0x0000026B6E4E7370>: Failed to establish a new connection: [Errno 11001] getaddrinfo failed'))\n",
      "RequestException fetching data for WLTW: HTTPSConnectionPool(host='query2.finance.yahoo.com', port=443): Max retries exceeded with url: /v10/finance/quoteSummary/WLTW?modules=financialData%2CquoteType%2CdefaultKeyStatistics%2CassetProfile%2CsummaryDetail&corsDomain=finance.yahoo.com&formatted=false&symbol=WLTW&crumb=2rPm363PiS. (Caused by NewConnectionError('<urllib3.connection.HTTPSConnection object at 0x0000026B6E4E7190>: Failed to establish a new connection: [Errno 11001] getaddrinfo failed'))\n",
      "RequestException fetching data for WM: HTTPSConnectionPool(host='query2.finance.yahoo.com', port=443): Max retries exceeded with url: /v10/finance/quoteSummary/WM?modules=financialData%2CquoteType%2CdefaultKeyStatistics%2CassetProfile%2CsummaryDetail&corsDomain=finance.yahoo.com&formatted=false&symbol=WM&crumb=2rPm363PiS. (Caused by NewConnectionError('<urllib3.connection.HTTPSConnection object at 0x0000026B6E4E71C0>: Failed to establish a new connection: [Errno 11001] getaddrinfo failed'))\n",
      "RequestException fetching data for WMB: HTTPSConnectionPool(host='query2.finance.yahoo.com', port=443): Max retries exceeded with url: /v10/finance/quoteSummary/WMB?modules=financialData%2CquoteType%2CdefaultKeyStatistics%2CassetProfile%2CsummaryDetail&corsDomain=finance.yahoo.com&formatted=false&symbol=WMB&crumb=2rPm363PiS. (Caused by NewConnectionError('<urllib3.connection.HTTPSConnection object at 0x0000026B6E4E7310>: Failed to establish a new connection: [Errno 11001] getaddrinfo failed'))\n",
      "RequestException fetching data for WMT: HTTPSConnectionPool(host='query2.finance.yahoo.com', port=443): Max retries exceeded with url: /v10/finance/quoteSummary/WMT?modules=financialData%2CquoteType%2CdefaultKeyStatistics%2CassetProfile%2CsummaryDetail&corsDomain=finance.yahoo.com&formatted=false&symbol=WMT&crumb=2rPm363PiS. (Caused by NewConnectionError('<urllib3.connection.HTTPSConnection object at 0x0000026B6E4E7760>: Failed to establish a new connection: [Errno 11001] getaddrinfo failed'))\n",
      "RequestException fetching data for WRB: HTTPSConnectionPool(host='query2.finance.yahoo.com', port=443): Max retries exceeded with url: /v10/finance/quoteSummary/WRB?modules=financialData%2CquoteType%2CdefaultKeyStatistics%2CassetProfile%2CsummaryDetail&corsDomain=finance.yahoo.com&formatted=false&symbol=WRB&crumb=2rPm363PiS. (Caused by NewConnectionError('<urllib3.connection.HTTPSConnection object at 0x0000026B6E4E7940>: Failed to establish a new connection: [Errno 11001] getaddrinfo failed'))\n",
      "RequestException fetching data for WRK: HTTPSConnectionPool(host='query2.finance.yahoo.com', port=443): Max retries exceeded with url: /v10/finance/quoteSummary/WRK?modules=financialData%2CquoteType%2CdefaultKeyStatistics%2CassetProfile%2CsummaryDetail&corsDomain=finance.yahoo.com&formatted=false&symbol=WRK&crumb=2rPm363PiS. (Caused by NewConnectionError('<urllib3.connection.HTTPSConnection object at 0x0000026B6E4E7190>: Failed to establish a new connection: [Errno 11001] getaddrinfo failed'))\n",
      "RequestException fetching data for WST: HTTPSConnectionPool(host='query2.finance.yahoo.com', port=443): Max retries exceeded with url: /v10/finance/quoteSummary/WST?modules=financialData%2CquoteType%2CdefaultKeyStatistics%2CassetProfile%2CsummaryDetail&corsDomain=finance.yahoo.com&formatted=false&symbol=WST&crumb=2rPm363PiS. (Caused by NewConnectionError('<urllib3.connection.HTTPSConnection object at 0x0000026B6E4E71C0>: Failed to establish a new connection: [Errno 11001] getaddrinfo failed'))\n",
      "RequestException fetching data for WU: HTTPSConnectionPool(host='query2.finance.yahoo.com', port=443): Max retries exceeded with url: /v10/finance/quoteSummary/WU?modules=financialData%2CquoteType%2CdefaultKeyStatistics%2CassetProfile%2CsummaryDetail&corsDomain=finance.yahoo.com&formatted=false&symbol=WU&crumb=2rPm363PiS. (Caused by NewConnectionError('<urllib3.connection.HTTPSConnection object at 0x0000026B6E4E7310>: Failed to establish a new connection: [Errno 11001] getaddrinfo failed'))\n",
      "RequestException fetching data for WY: HTTPSConnectionPool(host='query2.finance.yahoo.com', port=443): Max retries exceeded with url: /v10/finance/quoteSummary/WY?modules=financialData%2CquoteType%2CdefaultKeyStatistics%2CassetProfile%2CsummaryDetail&corsDomain=finance.yahoo.com&formatted=false&symbol=WY&crumb=2rPm363PiS. (Caused by NewConnectionError('<urllib3.connection.HTTPSConnection object at 0x0000026B6E4E7760>: Failed to establish a new connection: [Errno 11001] getaddrinfo failed'))\n",
      "RequestException fetching data for WYNN: HTTPSConnectionPool(host='query2.finance.yahoo.com', port=443): Max retries exceeded with url: /v10/finance/quoteSummary/WYNN?modules=financialData%2CquoteType%2CdefaultKeyStatistics%2CassetProfile%2CsummaryDetail&corsDomain=finance.yahoo.com&formatted=false&symbol=WYNN&crumb=2rPm363PiS. (Caused by NewConnectionError('<urllib3.connection.HTTPSConnection object at 0x0000026B6E4E7940>: Failed to establish a new connection: [Errno 11001] getaddrinfo failed'))\n",
      "RequestException fetching data for XEL: HTTPSConnectionPool(host='query2.finance.yahoo.com', port=443): Max retries exceeded with url: /v10/finance/quoteSummary/XEL?modules=financialData%2CquoteType%2CdefaultKeyStatistics%2CassetProfile%2CsummaryDetail&corsDomain=finance.yahoo.com&formatted=false&symbol=XEL&crumb=2rPm363PiS. (Caused by NewConnectionError('<urllib3.connection.HTTPSConnection object at 0x0000026B6E4E7190>: Failed to establish a new connection: [Errno 11001] getaddrinfo failed'))\n",
      "RequestException fetching data for XLNX: HTTPSConnectionPool(host='query2.finance.yahoo.com', port=443): Max retries exceeded with url: /v10/finance/quoteSummary/XLNX?modules=financialData%2CquoteType%2CdefaultKeyStatistics%2CassetProfile%2CsummaryDetail&corsDomain=finance.yahoo.com&formatted=false&symbol=XLNX&crumb=2rPm363PiS. (Caused by NewConnectionError('<urllib3.connection.HTTPSConnection object at 0x0000026B6E4E71C0>: Failed to establish a new connection: [Errno 11001] getaddrinfo failed'))\n",
      "RequestException fetching data for XOM: HTTPSConnectionPool(host='query2.finance.yahoo.com', port=443): Max retries exceeded with url: /v10/finance/quoteSummary/XOM?modules=financialData%2CquoteType%2CdefaultKeyStatistics%2CassetProfile%2CsummaryDetail&corsDomain=finance.yahoo.com&formatted=false&symbol=XOM&crumb=2rPm363PiS. (Caused by NewConnectionError('<urllib3.connection.HTTPSConnection object at 0x0000026B6E4E7310>: Failed to establish a new connection: [Errno 11001] getaddrinfo failed'))\n",
      "RequestException fetching data for XRAY: HTTPSConnectionPool(host='query2.finance.yahoo.com', port=443): Max retries exceeded with url: /v10/finance/quoteSummary/XRAY?modules=financialData%2CquoteType%2CdefaultKeyStatistics%2CassetProfile%2CsummaryDetail&corsDomain=finance.yahoo.com&formatted=false&symbol=XRAY&crumb=2rPm363PiS. (Caused by NewConnectionError('<urllib3.connection.HTTPSConnection object at 0x0000026B6E4E7760>: Failed to establish a new connection: [Errno 11001] getaddrinfo failed'))\n",
      "RequestException fetching data for XRX: HTTPSConnectionPool(host='query2.finance.yahoo.com', port=443): Max retries exceeded with url: /v10/finance/quoteSummary/XRX?modules=financialData%2CquoteType%2CdefaultKeyStatistics%2CassetProfile%2CsummaryDetail&corsDomain=finance.yahoo.com&formatted=false&symbol=XRX&crumb=2rPm363PiS. (Caused by NewConnectionError('<urllib3.connection.HTTPSConnection object at 0x0000026B6E4E7940>: Failed to establish a new connection: [Errno 11001] getaddrinfo failed'))\n",
      "RequestException fetching data for XYL: HTTPSConnectionPool(host='query2.finance.yahoo.com', port=443): Max retries exceeded with url: /v10/finance/quoteSummary/XYL?modules=financialData%2CquoteType%2CdefaultKeyStatistics%2CassetProfile%2CsummaryDetail&corsDomain=finance.yahoo.com&formatted=false&symbol=XYL&crumb=2rPm363PiS. (Caused by NewConnectionError('<urllib3.connection.HTTPSConnection object at 0x0000026B6E4E7190>: Failed to establish a new connection: [Errno 11001] getaddrinfo failed'))\n",
      "RequestException fetching data for YUM: HTTPSConnectionPool(host='query2.finance.yahoo.com', port=443): Max retries exceeded with url: /v10/finance/quoteSummary/YUM?modules=financialData%2CquoteType%2CdefaultKeyStatistics%2CassetProfile%2CsummaryDetail&corsDomain=finance.yahoo.com&formatted=false&symbol=YUM&crumb=2rPm363PiS. (Caused by NewConnectionError('<urllib3.connection.HTTPSConnection object at 0x0000026B6E4E71C0>: Failed to establish a new connection: [Errno 11001] getaddrinfo failed'))\n",
      "RequestException fetching data for ZBH: HTTPSConnectionPool(host='query2.finance.yahoo.com', port=443): Max retries exceeded with url: /v10/finance/quoteSummary/ZBH?modules=financialData%2CquoteType%2CdefaultKeyStatistics%2CassetProfile%2CsummaryDetail&corsDomain=finance.yahoo.com&formatted=false&symbol=ZBH&crumb=2rPm363PiS. (Caused by NewConnectionError('<urllib3.connection.HTTPSConnection object at 0x0000026B6E4E7310>: Failed to establish a new connection: [Errno 11001] getaddrinfo failed'))\n",
      "RequestException fetching data for ZBRA: HTTPSConnectionPool(host='query2.finance.yahoo.com', port=443): Max retries exceeded with url: /v10/finance/quoteSummary/ZBRA?modules=financialData%2CquoteType%2CdefaultKeyStatistics%2CassetProfile%2CsummaryDetail&corsDomain=finance.yahoo.com&formatted=false&symbol=ZBRA&crumb=2rPm363PiS. (Caused by NewConnectionError('<urllib3.connection.HTTPSConnection object at 0x0000026B6E4E7760>: Failed to establish a new connection: [Errno 11001] getaddrinfo failed'))\n"
     ]
    },
    {
     "name": "stdout",
     "output_type": "stream",
     "text": [
      "RequestException fetching data for ZION: HTTPSConnectionPool(host='query2.finance.yahoo.com', port=443): Max retries exceeded with url: /v10/finance/quoteSummary/ZION?modules=financialData%2CquoteType%2CdefaultKeyStatistics%2CassetProfile%2CsummaryDetail&corsDomain=finance.yahoo.com&formatted=false&symbol=ZION&crumb=2rPm363PiS. (Caused by NewConnectionError('<urllib3.connection.HTTPSConnection object at 0x0000026B6E4E7940>: Failed to establish a new connection: [Errno 11001] getaddrinfo failed'))\n",
      "RequestException fetching data for ZTS: HTTPSConnectionPool(host='query2.finance.yahoo.com', port=443): Max retries exceeded with url: /v10/finance/quoteSummary/ZTS?modules=financialData%2CquoteType%2CdefaultKeyStatistics%2CassetProfile%2CsummaryDetail&corsDomain=finance.yahoo.com&formatted=false&symbol=ZTS&crumb=2rPm363PiS. (Caused by NewConnectionError('<urllib3.connection.HTTPSConnection object at 0x0000026B6E4E7FD0>: Failed to establish a new connection: [Errno 11001] getaddrinfo failed'))\n",
      "    Ticker  Stock Price Market Capitalization Number of Shares to Buy\n",
      "0        A      131.250           38293630976                     N/A\n",
      "1      AAL       11.305            7417097216                     N/A\n",
      "2      AAP       62.720            3739510784                     N/A\n",
      "3     AAPL      214.860         3294684774400                     N/A\n",
      "4     ABBV      169.400          299138351104                     N/A\n",
      "..     ...          ...                   ...                     ...\n",
      "367    RSG      195.200           61474725888                     N/A\n",
      "368    RTX      100.485          133595815936                     N/A\n",
      "369   SBAC      196.375           21099118592                     N/A\n",
      "370   SBUX       78.070           88429887488                     N/A\n",
      "371   SCHW       74.000          135284580352                     N/A\n",
      "\n",
      "[372 rows x 4 columns]\n"
     ]
    }
   ],
   "source": [
    "import requests\n",
    "import pandas as pd\n",
    "import yfinance as yf\n",
    "\n",
    "def get_yahoo_cookie():\n",
    "    user_agent_key = \"User-Agent\"\n",
    "    user_agent_value = \"Mozilla/5.0 (Windows NT 6.1; Win64; x64) AppleWebKit/537.36 (KHTML, like Gecko) Chrome/58.0.3029.110 Safari/537.36\"\n",
    "\n",
    "    headers = {user_agent_key: user_agent_value}\n",
    "    response = requests.get(\"https://fc.yahoo.com\", headers=headers, allow_redirects=True)\n",
    "\n",
    "    if not response.cookies:\n",
    "        raise Exception(\"Failed to obtain Yahoo auth cookie.\")\n",
    "\n",
    "    cookie = list(response.cookies)[0]\n",
    "    return cookie\n",
    "\n",
    "def get_yahoo_crumb(cookie):\n",
    "    user_agent_key = \"User-Agent\"\n",
    "    user_agent_value = \"Mozilla/5.0 (Windows NT 6.1; Win64; x64) AppleWebKit/537.36 (KHTML, like Gecko) Chrome/58.0.3029.110 Safari/537.36\"\n",
    "\n",
    "    headers = {user_agent_key: user_agent_value}\n",
    "\n",
    "    crumb_response = requests.get(\n",
    "        \"https://query1.finance.yahoo.com/v1/test/getcrumb\",\n",
    "        headers=headers,\n",
    "        cookies={cookie.name: cookie.value},\n",
    "        allow_redirects=True,\n",
    "    )\n",
    "    crumb = crumb_response.text\n",
    "\n",
    "    if not crumb:\n",
    "        raise Exception(\"Failed to retrieve Yahoo crumb.\")\n",
    "\n",
    "    return crumb\n",
    "\n",
    "def fetch_stock_data(stock, cookie, crumb):\n",
    "    user_agent_key = \"User-Agent\"\n",
    "    user_agent_value = \"Mozilla/5.0 (Windows NT 6.1; Win64; x64) AppleWebKit/537.36 (KHTML, like Gecko) Chrome/58.0.3029.110 Safari/537.36\"\n",
    "    headers = {user_agent_key: user_agent_value}\n",
    "    url = f\"https://query2.finance.yahoo.com/v10/finance/quoteSummary/{stock}?modules=financialData,quoteType,defaultKeyStatistics,assetProfile,summaryDetail&crumb={crumb}\"\n",
    "\n",
    "    response = requests.get(url, headers=headers, cookies={cookie.name: cookie.value})\n",
    "    if response.status_code != 200:\n",
    "        raise Exception(f\"Failed to fetch data for {stock}: {response.status_code} {response.reason}\")\n",
    "    \n",
    "    return response.json()\n",
    "\n",
    "def main():\n",
    "    my_columns = ['Ticker', 'Current Price', 'Market Cap', 'Other Info']\n",
    "    final_dataframe = pd.DataFrame(columns=my_columns)\n",
    "    stocks = pd.DataFrame({'Ticker': ['ABC', 'ADI', 'ALXN', 'ANTM', 'ATVI', 'BF.B', 'BLL', 'BRK.B', 'CERN', 'COG', 'CTL', 'CTXS', 'CXO', 'DISCA', 'DISCK', 'DISH', 'DRE', 'ETFC', 'FB', 'FBHS', 'FISV', 'FLIR', 'FLT', 'FRC', 'HFC', 'INFO', 'KSU', 'MXIM', 'MYL', 'NBL', 'NLOK', 'NLSN', 'PBCT', 'PEAK']})\n",
    "\n",
    "    cookie = get_yahoo_cookie()\n",
    "    crumb = get_yahoo_crumb(cookie)\n",
    "\n",
    "    for stock in stocks['Ticker']:\n",
    "        try:\n",
    "            data = fetch_stock_data(stock, cookie, crumb)\n",
    "            stock_info = data['quoteSummary']['result'][0]\n",
    "            \n",
    "            if 'currentPrice' in stock_info['financialData'] and 'marketCap' in stock_info['defaultKeyStatistics']:\n",
    "                new_row = pd.DataFrame([[\n",
    "                    stock,\n",
    "                    stock_info['financialData']['currentPrice']['raw'],\n",
    "                    stock_info['defaultKeyStatistics']['marketCap']['raw'],\n",
    "                    'N/A'\n",
    "                ]], columns=my_columns)\n",
    "                final_dataframe = pd.concat([final_dataframe, new_row], ignore_index=True)\n",
    "            else:\n",
    "                print(f\"Missing data for {stock}: 'currentPrice' or 'marketCap' not found.\")\n",
    "        except requests.exceptions.HTTPError as e:\n",
    "            print(f\"HTTPError fetching data for {stock}: {e}\")\n",
    "        except Exception as e:\n",
    "            print(f\"Error fetching data for {stock}: {e}\")\n",
    "\n",
    "    print(final_dataframe)\n"
   ]
  },
  {
   "cell_type": "markdown",
   "metadata": {},
   "source": [
    "## Using Batch API Calls to Improve Performance\n",
    "\n",
    "Batch API calls are one of the easiest ways to improve the performance of your code.\n",
    "\n",
    "This is because HTTP requests are typically one of the slowest components of a script.\n",
    "\n",
    "Also, API providers will often give you discounted rates for using batch API calls since they are easier for the API provider to respond to.\n",
    "\n",
    "IEX Cloud limits their batch API calls to 100 tickers per request. Still, this reduces the number of API calls we'll make in this section from 500 to 5 - huge improvement! In this section, we'll split our list of stocks into groups of 100 and then make a batch API call for each group."
   ]
  },
  {
   "cell_type": "code",
   "execution_count": null,
   "metadata": {},
   "outputs": [],
   "source": []
  },
  {
   "cell_type": "code",
   "execution_count": null,
   "metadata": {},
   "outputs": [],
   "source": []
  },
  {
   "cell_type": "markdown",
   "metadata": {},
   "source": [
    "## Calculating the Number of Shares to Buy\n",
    "\n",
    "As you can see in the DataFrame above, we stil haven't calculated the number of shares of each stock to buy.\n",
    "\n",
    "We'll do that next."
   ]
  },
  {
   "cell_type": "code",
   "execution_count": null,
   "metadata": {},
   "outputs": [],
   "source": []
  },
  {
   "cell_type": "code",
   "execution_count": null,
   "metadata": {},
   "outputs": [],
   "source": []
  },
  {
   "cell_type": "markdown",
   "metadata": {},
   "source": [
    "## Formatting Our Excel Output\n",
    "\n",
    "We will be using the XlsxWriter library for Python to create nicely-formatted Excel files.\n",
    "\n",
    "XlsxWriter is an excellent package and offers tons of customization. However, the tradeoff for this is that the library can seem very complicated to new users. Accordingly, this section will be fairly long because I want to do a good job of explaining how XlsxWriter works.\n",
    "\n",
    "### Initializing our XlsxWriter Object"
   ]
  },
  {
   "cell_type": "code",
   "execution_count": null,
   "metadata": {},
   "outputs": [],
   "source": []
  },
  {
   "cell_type": "markdown",
   "metadata": {},
   "source": [
    "### Creating the Formats We'll Need For Our `.xlsx` File\n",
    "\n",
    "Formats include colors, fonts, and also symbols like `%` and `$`. We'll need four main formats for our Excel document:\n",
    "* String format for tickers\n",
    "* \\\\$XX.XX format for stock prices\n",
    "* \\\\$XX,XXX format for market capitalization\n",
    "* Integer format for the number of shares to purchase"
   ]
  },
  {
   "cell_type": "code",
   "execution_count": null,
   "metadata": {},
   "outputs": [],
   "source": []
  },
  {
   "cell_type": "markdown",
   "metadata": {},
   "source": [
    "### Applying the Formats to the Columns of Our `.xlsx` File\n",
    "\n",
    "We can use the `set_column` method applied to the `writer.sheets['Recommended Trades']` object to apply formats to specific columns of our spreadsheets.\n",
    "\n",
    "Here's an example:\n",
    "\n",
    "```python\n",
    "writer.sheets['Recommended Trades'].set_column('B:B', #This tells the method to apply the format to column B\n",
    "                     18, #This tells the method to apply a column width of 18 pixels\n",
    "                     string_template #This applies the format 'string_template' to the column\n",
    "                    )\n",
    "```"
   ]
  },
  {
   "cell_type": "code",
   "execution_count": null,
   "metadata": {},
   "outputs": [],
   "source": []
  },
  {
   "cell_type": "markdown",
   "metadata": {},
   "source": [
    "This code works, but it violates the software principle of \"Don't Repeat Yourself\". \n",
    "\n",
    "Let's simplify this by putting it in 2 loops:"
   ]
  },
  {
   "cell_type": "code",
   "execution_count": null,
   "metadata": {},
   "outputs": [],
   "source": []
  },
  {
   "cell_type": "markdown",
   "metadata": {},
   "source": [
    "## Saving Our Excel Output\n",
    "\n",
    "Saving our Excel file is very easy:"
   ]
  },
  {
   "cell_type": "code",
   "execution_count": null,
   "metadata": {},
   "outputs": [],
   "source": []
  },
  {
   "cell_type": "markdown",
   "metadata": {},
   "source": [
    "## Yahoo Finance info\n",
    "\n",
    "Here are the key fields present in the provided data:\n",
    "\n",
    "1. **Company Information:**\n",
    "   - `address1`: Company address.\n",
    "   - `city`: City of the company.\n",
    "   - `state`: State of the company.\n",
    "   - `zip`: Zip code of the company.\n",
    "   - `country`: Country of the company.\n",
    "   - `phone`: Company phone number.\n",
    "   - `website`: Company website URL.\n",
    "   - `industry`: Industry the company operates in.\n",
    "   - `industryKey`: Key for the industry.\n",
    "   - `industryDisp`: Display name for the industry.\n",
    "   - `sector`: Sector the company belongs to.\n",
    "   - `sectorKey`: Key for the sector.\n",
    "   - `sectorDisp`: Display name for the sector.\n",
    "   - `longBusinessSummary`: Detailed summary of the company's business.\n",
    "   - `fullTimeEmployees`: Number of full-time employees.\n",
    "   - `companyOfficers`: List of company officers with details such as name, age, title, and pay.\n",
    "\n",
    "2. **Risk Metrics:**\n",
    "   - `auditRisk`: Risk associated with audit.\n",
    "   - `boardRisk`: Risk associated with the board.\n",
    "   - `compensationRisk`: Risk associated with compensation.\n",
    "   - `shareHolderRightsRisk`: Risk associated with shareholder rights.\n",
    "   - `overallRisk`: Overall risk assessment.\n",
    "\n",
    "3. **Governance and Dates:**\n",
    "   - `governanceEpochDate`: Epoch date for governance.\n",
    "   - `compensationAsOfEpochDate`: Epoch date for compensation.\n",
    "   - `irWebsite`: Investor relations website URL.\n",
    "   - `maxAge`: Maximum age of the data.\n",
    "\n",
    "4. **Stock Information:**\n",
    "   - `priceHint`: Price hint for the stock.\n",
    "   - `previousClose`: Previous closing price.\n",
    "   - `open`: Opening price.\n",
    "   - `dayLow`: Lowest price of the day.\n",
    "   - `dayHigh`: Highest price of the day.\n",
    "   - `regularMarketPreviousClose`: Previous closing price in regular market.\n",
    "   - `regularMarketOpen`: Opening price in regular market.\n",
    "   - `regularMarketDayLow`: Lowest price of the day in regular market.\n",
    "   - `regularMarketDayHigh`: Highest price of the day in regular market.\n",
    "   - `dividendRate`: Dividend rate.\n",
    "   - `dividendYield`: Dividend yield.\n",
    "   - `exDividendDate`: Ex-dividend date.\n",
    "   - `payoutRatio`: Payout ratio.\n",
    "   - `fiveYearAvgDividendYield`: Five-year average dividend yield.\n",
    "   - `beta`: Beta value.\n",
    "   - `trailingPE`: Trailing price-to-earnings ratio.\n",
    "   - `forwardPE`: Forward price-to-earnings ratio.\n",
    "   - `volume`: Trading volume.\n",
    "   - `regularMarketVolume`: Trading volume in regular market.\n",
    "   - `averageVolume`: Average trading volume.\n",
    "   - `averageVolume10days`: Average trading volume over 10 days.\n",
    "   - `averageDailyVolume10Day`: Average daily trading volume over 10 days.\n",
    "   - `bid`: Bid price.\n",
    "   - `ask`: Ask price.\n",
    "   - `bidSize`: Bid size.\n",
    "   - `askSize`: Ask size.\n",
    "   - `marketCap`: Market capitalization.\n",
    "   - `fiftyTwoWeekLow`: 52-week low price.\n",
    "   - `fiftyTwoWeekHigh`: 52-week high price.\n",
    "   - `priceToSalesTrailing12Months`: Price-to-sales ratio over the trailing 12 months.\n",
    "   - `fiftyDayAverage`: 50-day moving average.\n",
    "   - `twoHundredDayAverage`: 200-day moving average.\n",
    "   - `trailingAnnualDividendRate`: Trailing annual dividend rate.\n",
    "   - `trailingAnnualDividendYield`: Trailing annual dividend yield.\n",
    "   - `currency`: Currency of the stock.\n",
    "   - `enterpriseValue`: Enterprise value.\n",
    "   - `profitMargins`: Profit margins.\n",
    "   - `floatShares`: Number of shares available for trading.\n",
    "   - `sharesOutstanding`: Number of shares outstanding.\n",
    "   - `sharesShort`: Number of shares shorted.\n",
    "   - `sharesShortPriorMonth`: Number of shares shorted in the prior month.\n",
    "   - `sharesShortPreviousMonthDate`: Date of the previous month's short interest.\n",
    "   - `dateShortInterest`: Date of the short interest.\n",
    "   - `sharesPercentSharesOut`: Percentage of shares outstanding that are shorted.\n",
    "   - `heldPercentInsiders`: Percentage of shares held by insiders.\n",
    "   - `heldPercentInstitutions`: Percentage of shares held by institutions.\n",
    "   - `shortRatio`: Short ratio.\n",
    "   - `shortPercentOfFloat`: Percentage of float that is shorted.\n",
    "   - `impliedSharesOutstanding`: Implied number of shares outstanding.\n",
    "   - `bookValue`: Book value.\n",
    "   - `priceToBook`: Price-to-book ratio.\n",
    "   - `lastFiscalYearEnd`: Last fiscal year end date.\n",
    "   - `nextFiscalYearEnd`: Next fiscal year end date.\n",
    "   - `mostRecentQuarter`: Most recent quarter date.\n",
    "   - `earningsQuarterlyGrowth`: Quarterly earnings growth.\n",
    "   - `netIncomeToCommon`: Net income to common shareholders.\n",
    "   - `trailingEps`: Trailing earnings per share.\n",
    "   - `forwardEps`: Forward earnings per share.\n",
    "   - `pegRatio`: Price/earnings to growth ratio.\n",
    "   - `lastSplitFactor`: Last stock split factor.\n",
    "   - `lastSplitDate`: Last stock split date.\n",
    "   - `enterpriseToRevenue`: Enterprise value to revenue ratio.\n",
    "   - `enterpriseToEbitda`: Enterprise value to EBITDA ratio.\n",
    "   - `52WeekChange`: 52-week price change.\n",
    "   - `SandP52WeekChange`: S&P 52-week price change.\n",
    "   - `lastDividendValue`: Last dividend value.\n",
    "   - `lastDividendDate`: Last dividend date.\n",
    "   - `exchange`: Stock exchange.\n",
    "   - `quoteType`: Type of quote.\n",
    "   - `symbol`: Stock symbol.\n",
    "   - `underlyingSymbol`: Underlying symbol.\n",
    "   - `shortName`: Short name of the company.\n",
    "   - `longName`: Long name of the company.\n",
    "   - `firstTradeDateEpochUtc`: First trade date in epoch UTC.\n",
    "   - `timeZoneFullName`: Full name of the time zone.\n",
    "   - `timeZoneShortName`: Short name of the time zone.\n",
    "   - `uuid`: Unique identifier.\n",
    "   - `messageBoardId`: Message board ID.\n",
    "   - `gmtOffSetMilliseconds`: GMT offset in milliseconds.\n",
    "   - `currentPrice`: Current price.\n",
    "   - `targetHighPrice`: Target high price.\n",
    "   - `targetLowPrice`: Target low price.\n",
    "   - `targetMeanPrice`: Target mean price.\n",
    "   - `targetMedianPrice`: Target median price.\n",
    "   - `recommendationMean`: Mean recommendation.\n",
    "   - `recommendationKey`: Recommendation key.\n",
    "   - `numberOfAnalystOpinions`: Number of analyst opinions.\n",
    "   - `totalCash`: Total cash.\n",
    "   - `totalCashPerShare`: Total cash per share.\n",
    "   - `ebitda`: Earnings before interest, taxes, depreciation, and amortization.\n",
    "   - `totalDebt`: Total debt.\n",
    "   - `quickRatio`: Quick ratio.\n",
    "   - `currentRatio`: Current ratio.\n",
    "   - `totalRevenue`: Total revenue.\n",
    "   - `debtToEquity`: Debt-to-equity ratio.\n",
    "   - `revenuePerShare`: Revenue per share.\n",
    "   - `returnOnAssets`: Return on assets.\n",
    "   - `returnOnEquity`: Return on equity.\n",
    "   - `freeCashflow`: Free cash flow.\n",
    "   - `operatingCashflow`: Operating cash flow.\n",
    "   - `earningsGrowth`: Earnings growth.\n",
    "   - `revenueGrowth`: Revenue growth.\n",
    "   - `grossMargins`: Gross margins.\n",
    "   - `ebitdaMargins`: EBITDA margins.\n",
    "   - `operatingMargins`: Operating margins.\n",
    "   - `financialCurrency`: Financial currency.\n",
    "   - `trailingPegRatio`: Trailing price/earnings to growth ratio."
   ]
  },
  {
   "cell_type": "markdown",
   "metadata": {},
   "source": [
    "## **Key Fields in Financial Modeling Prep's Company Profile API Response:**\n",
    "\n",
    "**Company Identification and Basic Information:**\n",
    "\n",
    "* **symbol:** The stock ticker symbol (e.g., AAPL, GOOGL, TSLA).\n",
    "* **companyName:** The full legal name of the company.\n",
    "* **currency:** The currency in which the stock is traded (e.g., USD, EUR, JPY).\n",
    "* **cik:** Central Index Key, a unique identifier assigned to companies by the U.S. Securities and Exchange Commission (SEC).\n",
    "* **isin:** International Securities Identification Number, a unique global identifier for securities.\n",
    "* **cusip:** Committee on Uniform Security Identification Procedures number, a unique identifier for North American securities.\n",
    "* **exchange:** The stock exchange where the company is listed (e.g., NASDAQ, NYSE, LSE).\n",
    "* **exchangeShortName:** A shorter name for the exchange.\n",
    "* **industry:** The industry sector the company belongs to (e.g., Technology, Healthcare, Finance).\n",
    "* **website:** The company's official website.\n",
    "* **description:** A brief overview of the company's business activities and products.\n",
    "* **ceo:** The name of the Chief Executive Officer.\n",
    "* **sector:** A broader classification of the company's industry.\n",
    "* **country:** The country where the company is headquartered.\n",
    "* **fullTimeEmployees:** The number of full-time employees.\n",
    "* **phone:** The company's phone number.\n",
    "* **address:** The company's headquarters address.\n",
    "* **city, state, zip:** The city, state, and ZIP code of the headquarters (if applicable).\n",
    "* **image:** A URL to the company's logo image.\n",
    "* **ipoDate:** The date of the company's Initial Public Offering (IPO) (if applicable).\n",
    "* **isEtf, isActivelyTrading, isAdr, isFund:** Boolean flags indicating whether the security is an ETF, actively traded, an ADR, or a fund.\n",
    "\n",
    "**Financial and Market Data:**\n",
    "\n",
    "* **price:** The current stock price.\n",
    "* **beta:** A measure of the stock's volatility compared to the overall market. A beta of 1 means the stock moves in line with the market, while a beta greater than 1 indicates higher volatility, and less than 1 indicates lower volatility.\n",
    "* **volAvg:** The average trading volume (number of shares traded per day).\n",
    "* **mktCap:** The market capitalization, calculated as the stock price multiplied by the number of outstanding shares.\n",
    "* **lastDiv:** The amount of the most recent dividend paid per share (if applicable).\n",
    "* **range:** The 52-week price range (low-high).\n",
    "* **changes:** The change in price from the previous day's close.\n",
    "\n",
    "**Other Information:**\n",
    "\n",
    "* **dcfDiff, dcf:** Discounted Cash Flow (DCF) related data. DCF is a valuation method that estimates the value of an investment based on its expected future cash flows.\n",
    "* **defaultImage:** Indicates if the image is a default one or specific to the company.\n",
    "* **governanceEpochDate, compensationAsOfEpochDate:** Dates related to corporate governance and executive compensation data.\n",
    "* **irWebsite:** URL of the company's investor relations website.\n",
    "* **maxAge:** Indicates how long the data is considered valid (usually in seconds).\n"
   ]
  }
 ],
 "metadata": {
  "kernelspec": {
   "display_name": "Python 3 (ipykernel)",
   "language": "python",
   "name": "python3"
  },
  "language_info": {
   "codemirror_mode": {
    "name": "ipython",
    "version": 3
   },
   "file_extension": ".py",
   "mimetype": "text/x-python",
   "name": "python",
   "nbconvert_exporter": "python",
   "pygments_lexer": "ipython3",
   "version": "3.9.13"
  }
 },
 "nbformat": 4,
 "nbformat_minor": 4
}
