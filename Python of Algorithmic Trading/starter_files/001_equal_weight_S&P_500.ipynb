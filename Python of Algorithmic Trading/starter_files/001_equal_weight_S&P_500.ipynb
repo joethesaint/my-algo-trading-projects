{
 "cells": [
  {
   "cell_type": "code",
   "execution_count": null,
   "metadata": {},
   "outputs": [],
   "source": [
    "# GitHub update\n",
    "!git add . && git commit -m \"switch to yfinance\" && git push"
   ]
  },
  {
   "cell_type": "markdown",
   "metadata": {},
   "source": [
    "# Equal-Weight S&P 500 Index Fund\n",
    "\n",
    "## Introduction & Library Imports\n",
    "\n",
    "The S&P 500 is the world's most popular stock market index. The largest fund that is benchmarked to this index is the SPDR® S&P 500® ETF Trust. It has more than US$250 billion of assets under management.\n",
    "\n",
    "The goal of this section of the course is to create a Python script that will accept the value of your portfolio and tell you how many shares of each S&P 500 constituent you should purchase to get an equal-weight version of the index fund.\n",
    "\n",
    "## Library Imports\n",
    "\n",
    "The first thing we need to do is import the open-source software libraries that we'll be using in this tutorial."
   ]
  },
  {
   "cell_type": "code",
   "execution_count": 1,
   "metadata": {},
   "outputs": [],
   "source": [
    "# %pip install -r requirements.txt\n",
    "\n",
    "import numpy as np\n",
    "import pandas as pd\n",
    "import requests  # HTTP Requests for API interaction\n",
    "import xlsxwriter\n",
    "import math"
   ]
  },
  {
   "cell_type": "markdown",
   "metadata": {},
   "source": [
    "So apparently, the tutorial is outdated due to IEX Cloud data provider having to change their policies over the years\n",
    "and it is affecting the continuation of the course\n",
    "\n",
    "To all those who are referring the course in 2024, following might help :\n",
    "\n",
    "\n",
    "instead of IEX we can use yfinance library \n",
    "\n",
    "\n",
    "```\n",
    "import yfinance as yf\n",
    "tickerSymbol = 'AAPL'\n",
    "tickerData = yf.Ticker(tickerSymbol)\n",
    "\n",
    "# Get the historical prices for this ticker\n",
    "tickerDf = tickerData.history(period='1d', start='2024-05-09', end='2024-05-10')\n",
    "marketCap= tickerData.info['marketCap']\n",
    "\n",
    "\n",
    "price= tickerDf['Open']\n",
    "\n",
    "and also these prices are the live market value prices.\n",
    "```"
   ]
  },
  {
   "cell_type": "code",
   "execution_count": 9,
   "metadata": {},
   "outputs": [],
   "source": [
    "import yfinance as yf\n",
    "from datetime import datetime, timedelta"
   ]
  },
  {
   "cell_type": "markdown",
   "metadata": {},
   "source": [
    "## Importing Our List of Stocks\n",
    "\n",
    "The next thing we need to do is import the constituents of the S&P 500.\n",
    "\n",
    "These constituents change over time, so in an ideal world you would connect directly to the index provider (Standard & Poor's) and pull their real-time constituents on a regular basis.\n",
    "\n",
    "Paying for access to the index provider's API is outside of the scope of this course. \n",
    "\n",
    "There's a static version of the S&P 500 constituents available here. [Click this link to download them now](https://drive.google.com/file/d/1ZJSpbY69DVckVZlO9cC6KkgfSufybcHN/view?usp=sharing). Move this file into the `starter-files` folder so it can be accessed by other files in that directory.\n",
    "\n",
    "Now it's time to import these stocks to our Jupyter Notebook file."
   ]
  },
  {
   "cell_type": "code",
   "execution_count": 3,
   "metadata": {},
   "outputs": [
    {
     "data": {
      "text/html": [
       "<div>\n",
       "<style scoped>\n",
       "    .dataframe tbody tr th:only-of-type {\n",
       "        vertical-align: middle;\n",
       "    }\n",
       "\n",
       "    .dataframe tbody tr th {\n",
       "        vertical-align: top;\n",
       "    }\n",
       "\n",
       "    .dataframe thead th {\n",
       "        text-align: right;\n",
       "    }\n",
       "</style>\n",
       "<table border=\"1\" class=\"dataframe\">\n",
       "  <thead>\n",
       "    <tr style=\"text-align: right;\">\n",
       "      <th></th>\n",
       "      <th>Ticker</th>\n",
       "    </tr>\n",
       "  </thead>\n",
       "  <tbody>\n",
       "    <tr>\n",
       "      <th>0</th>\n",
       "      <td>A</td>\n",
       "    </tr>\n",
       "    <tr>\n",
       "      <th>1</th>\n",
       "      <td>AAL</td>\n",
       "    </tr>\n",
       "    <tr>\n",
       "      <th>2</th>\n",
       "      <td>AAP</td>\n",
       "    </tr>\n",
       "    <tr>\n",
       "      <th>3</th>\n",
       "      <td>AAPL</td>\n",
       "    </tr>\n",
       "    <tr>\n",
       "      <th>4</th>\n",
       "      <td>ABBV</td>\n",
       "    </tr>\n",
       "    <tr>\n",
       "      <th>...</th>\n",
       "      <td>...</td>\n",
       "    </tr>\n",
       "    <tr>\n",
       "      <th>500</th>\n",
       "      <td>YUM</td>\n",
       "    </tr>\n",
       "    <tr>\n",
       "      <th>501</th>\n",
       "      <td>ZBH</td>\n",
       "    </tr>\n",
       "    <tr>\n",
       "      <th>502</th>\n",
       "      <td>ZBRA</td>\n",
       "    </tr>\n",
       "    <tr>\n",
       "      <th>503</th>\n",
       "      <td>ZION</td>\n",
       "    </tr>\n",
       "    <tr>\n",
       "      <th>504</th>\n",
       "      <td>ZTS</td>\n",
       "    </tr>\n",
       "  </tbody>\n",
       "</table>\n",
       "<p>505 rows × 1 columns</p>\n",
       "</div>"
      ],
      "text/plain": [
       "    Ticker\n",
       "0        A\n",
       "1      AAL\n",
       "2      AAP\n",
       "3     AAPL\n",
       "4     ABBV\n",
       "..     ...\n",
       "500    YUM\n",
       "501    ZBH\n",
       "502   ZBRA\n",
       "503   ZION\n",
       "504    ZTS\n",
       "\n",
       "[505 rows x 1 columns]"
      ]
     },
     "execution_count": 3,
     "metadata": {},
     "output_type": "execute_result"
    }
   ],
   "source": [
    "stocks = pd.read_csv('sp_500_stocks.csv')\n",
    "type(stocks)\n",
    "stocks"
   ]
  },
  {
   "cell_type": "markdown",
   "metadata": {},
   "source": [
    "## Acquiring an API Token\n",
    "\n",
    "Now it's time to import our IEX Cloud API token. This is the data provider that we will be using throughout this course.\n",
    "\n",
    "API tokens (and other sensitive information) should be stored in a `secrets.py` file that doesn't get pushed to your local Git repository. We'll be using a sandbox API token in this course, which means that the data we'll use is randomly-generated and (more importantly) has no cost associated with it.\n",
    "\n",
    "[Click here](http://nickmccullum.com/algorithmic-trading-python/secrets.py) to download your `secrets.py` file. Move the file into the same directory as this Jupyter Notebook before proceeding."
   ]
  },
  {
   "cell_type": "code",
   "execution_count": 17,
   "metadata": {},
   "outputs": [],
   "source": [
    "from secrets_0x01 import IEX_CLOUD_API_TOKEN\n",
    "\n",
    "# there is no need for this anymore"
   ]
  },
  {
   "cell_type": "markdown",
   "metadata": {},
   "source": [
    "## Making Our First API Call\n",
    "\n",
    "Now it's time to structure our API calls to IEX cloud. \n",
    "\n",
    "We need the following information from the API:\n",
    "\n",
    "* Market capitalization for each stock\n",
    "* Price of each stock\n",
    "\n"
   ]
  },
  {
   "cell_type": "code",
   "execution_count": null,
   "metadata": {},
   "outputs": [],
   "source": [
    "# symbol = 'AAPL'\n",
    "# api_url = f'https://sandbox.iexapis.com/stable/stock/{symbol}/quote/?token={IEX_CLOUD_API_TOKEN}'\n",
    "# print(api_url)\n",
    "# data = requests.get(api_url)\n",
    "# # data = requests.get(api_url).json()\n",
    "# # print(data.status_code)\n",
    "# print(data)"
   ]
  },
  {
   "cell_type": "code",
   "execution_count": 39,
   "metadata": {
    "scrolled": true
   },
   "outputs": [
    {
     "name": "stdout",
     "output_type": "stream",
     "text": [
      "{'address1': 'One Apple Park Way', 'city': 'Cupertino', 'state': 'CA', 'zip': '95014', 'country': 'United States', 'phone': '408 996 1010', 'website': 'https://www.apple.com', 'industry': 'Consumer Electronics', 'industryKey': 'consumer-electronics', 'industryDisp': 'Consumer Electronics', 'sector': 'Technology', 'sectorKey': 'technology', 'sectorDisp': 'Technology', 'longBusinessSummary': 'Apple Inc. designs, manufactures, and markets smartphones, personal computers, tablets, wearables, and accessories worldwide. The company offers iPhone, a line of smartphones; Mac, a line of personal computers; iPad, a line of multi-purpose tablets; and wearables, home, and accessories comprising AirPods, Apple TV, Apple Watch, Beats products, and HomePod. It also provides AppleCare support and cloud services; and operates various platforms, including the App Store that allow customers to discover and download applications and digital content, such as books, music, video, games, and podcasts. In addition, the company offers various services, such as Apple Arcade, a game subscription service; Apple Fitness+, a personalized fitness service; Apple Music, which offers users a curated listening experience with on-demand radio stations; Apple News+, a subscription news and magazine service; Apple TV+, which offers exclusive original content; Apple Card, a co-branded credit card; and Apple Pay, a cashless payment service, as well as licenses its intellectual property. The company serves consumers, and small and mid-sized businesses; and the education, enterprise, and government markets. It distributes third-party applications for its products through the App Store. The company also sells its products through its retail and online stores, and direct sales force; and third-party cellular network carriers, wholesalers, retailers, and resellers. Apple Inc. was founded in 1976 and is headquartered in Cupertino, California.', 'fullTimeEmployees': 150000, 'companyOfficers': [{'maxAge': 1, 'name': 'Mr. Timothy D. Cook', 'age': 62, 'title': 'CEO & Director', 'yearBorn': 1961, 'fiscalYear': 2023, 'totalPay': 16239562, 'exercisedValue': 0, 'unexercisedValue': 0}, {'maxAge': 1, 'name': 'Mr. Luca  Maestri', 'age': 60, 'title': 'CFO & Senior VP', 'yearBorn': 1963, 'fiscalYear': 2023, 'totalPay': 4612242, 'exercisedValue': 0, 'unexercisedValue': 0}, {'maxAge': 1, 'name': 'Mr. Jeffrey E. Williams', 'age': 59, 'title': 'Chief Operating Officer', 'yearBorn': 1964, 'fiscalYear': 2023, 'totalPay': 4637585, 'exercisedValue': 0, 'unexercisedValue': 0}, {'maxAge': 1, 'name': 'Ms. Katherine L. Adams', 'age': 59, 'title': 'Senior VP, General Counsel & Secretary', 'yearBorn': 1964, 'fiscalYear': 2023, 'totalPay': 4618064, 'exercisedValue': 0, 'unexercisedValue': 0}, {'maxAge': 1, 'name': \"Ms. Deirdre  O'Brien\", 'age': 56, 'title': 'Senior Vice President of Retail', 'yearBorn': 1967, 'fiscalYear': 2023, 'totalPay': 4613369, 'exercisedValue': 0, 'unexercisedValue': 0}, {'maxAge': 1, 'name': 'Mr. Chris  Kondo', 'title': 'Senior Director of Corporate Accounting', 'fiscalYear': 2023, 'exercisedValue': 0, 'unexercisedValue': 0}, {'maxAge': 1, 'name': 'Mr. James  Wilson', 'title': 'Chief Technology Officer', 'fiscalYear': 2023, 'exercisedValue': 0, 'unexercisedValue': 0}, {'maxAge': 1, 'name': 'Suhasini  Chandramouli', 'title': 'Director of Investor Relations', 'fiscalYear': 2023, 'exercisedValue': 0, 'unexercisedValue': 0}, {'maxAge': 1, 'name': 'Mr. Greg  Joswiak', 'title': 'Senior Vice President of Worldwide Marketing', 'fiscalYear': 2023, 'exercisedValue': 0, 'unexercisedValue': 0}, {'maxAge': 1, 'name': 'Mr. Adrian  Perica', 'age': 49, 'title': 'Head of Corporate Development', 'yearBorn': 1974, 'fiscalYear': 2023, 'exercisedValue': 0, 'unexercisedValue': 0}], 'auditRisk': 6, 'boardRisk': 1, 'compensationRisk': 2, 'shareHolderRightsRisk': 1, 'overallRisk': 1, 'governanceEpochDate': 1717200000, 'compensationAsOfEpochDate': 1703980800, 'irWebsite': 'http://investor.apple.com/', 'maxAge': 86400, 'priceHint': 2, 'previousClose': 213.25, 'open': 214.63, 'dayLow': 212.35, 'dayHigh': 215.7395, 'regularMarketPreviousClose': 213.25, 'regularMarketOpen': 214.63, 'regularMarketDayLow': 212.35, 'regularMarketDayHigh': 215.7395, 'dividendRate': 1.0, 'dividendYield': 0.0047, 'exDividendDate': 1715299200, 'payoutRatio': 0.14930001, 'fiveYearAvgDividendYield': 0.71, 'beta': 1.25, 'trailingPE': 33.245342, 'forwardPE': 29.369, 'volume': 47819189, 'regularMarketVolume': 47819189, 'averageVolume': 68349616, 'averageVolume10days': 107411900, 'averageDailyVolume10Day': 107411900, 'bid': 213.87, 'ask': 213.95, 'bidSize': 100, 'askSize': 200, 'marketCap': 3283030900736, 'fiftyTwoWeekLow': 164.08, 'fiftyTwoWeekHigh': 220.2, 'priceToSalesTrailing12Months': 8.602812, 'fiftyDayAverage': 188.9354, 'twoHundredDayAverage': 183.35056, 'trailingAnnualDividendRate': 0.96, 'trailingAnnualDividendYield': 0.0045017586, 'currency': 'USD', 'enterpriseValue': 3307433099264, 'profitMargins': 0.26306, 'floatShares': 15308474083, 'sharesOutstanding': 15334099968, 'sharesShort': 153405579, 'sharesShortPriorMonth': 99287450, 'sharesShortPreviousMonthDate': 1715731200, 'dateShortInterest': 1718323200, 'sharesPercentSharesOut': 0.01, 'heldPercentInsiders': 0.052199997, 'heldPercentInstitutions': 0.57608, 'shortRatio': 2.29, 'shortPercentOfFloat': 0.01, 'impliedSharesOutstanding': 15334099968, 'bookValue': 4.837, 'priceToBook': 44.262974, 'lastFiscalYearEnd': 1696032000, 'nextFiscalYearEnd': 1727654400, 'mostRecentQuarter': 1711756800, 'earningsQuarterlyGrowth': -0.022, 'netIncomeToCommon': 100389003264, 'trailingEps': 6.44, 'forwardEps': 7.29, 'pegRatio': 3.08, 'lastSplitFactor': '4:1', 'lastSplitDate': 1598832000, 'enterpriseToRevenue': 8.667, 'enterpriseToEbitda': 25.515, '52WeekChange': 0.124795556, 'SandP52WeekChange': 0.24598539, 'lastDividendValue': 0.25, 'lastDividendDate': 1715299200, 'exchange': 'NMS', 'quoteType': 'EQUITY', 'symbol': 'AAPL', 'underlyingSymbol': 'AAPL', 'shortName': 'Apple Inc.', 'longName': 'Apple Inc.', 'firstTradeDateEpochUtc': 345479400, 'timeZoneFullName': 'America/New_York', 'timeZoneShortName': 'EDT', 'uuid': '8b10e4ae-9eeb-3684-921a-9ab27e4d87aa', 'messageBoardId': 'finmb_24937', 'gmtOffSetMilliseconds': -14400000, 'currentPrice': 214.1, 'targetHighPrice': 275.0, 'targetLowPrice': 164.0, 'targetMeanPrice': 211.8, 'targetMedianPrice': 210.0, 'recommendationMean': 2.0, 'recommendationKey': 'buy', 'numberOfAnalystOpinions': 37, 'totalCash': 67150000128, 'totalCashPerShare': 4.379, 'ebitda': 129629003776, 'totalDebt': 104590000128, 'quickRatio': 0.875, 'currentRatio': 1.037, 'totalRevenue': 381623009280, 'debtToEquity': 140.968, 'revenuePerShare': 24.537, 'returnOnAssets': 0.22073999, 'returnOnEquity': 1.4725, 'freeCashflow': 84726874112, 'operatingCashflow': 110563000320, 'earningsGrowth': 0.007, 'revenueGrowth': -0.043, 'grossMargins': 0.45586, 'ebitdaMargins': 0.33968, 'operatingMargins': 0.30743, 'financialCurrency': 'USD', 'trailingPegRatio': 2.257}\n"
     ]
    }
   ],
   "source": [
    "symbol = 'AAPL'\n",
    "data = yf.Ticker(symbol)\n",
    "\n",
    "# Fetch the quote data\n",
    "quote_data = data.info\n",
    "\n",
    "# Get the historical prices for this ticker\n",
    "tickerDf = data.history(period='1d', start='2024-06-25', end='2024-06-26')\n",
    "marketCap= data.info['marketCap']\n",
    "\n",
    "price= tickerDf['Open']\n",
    "# price = data.info['open']\n",
    "\n",
    "# Print the quote data\n",
    "print(quote_data)\n",
    "# print(marketCap, price)"
   ]
  },
  {
   "cell_type": "markdown",
   "metadata": {},
   "source": [
    "For a more detailed example as to using `yfinance`"
   ]
  },
  {
   "cell_type": "code",
   "execution_count": 10,
   "metadata": {},
   "outputs": [
    {
     "name": "stdout",
     "output_type": "stream",
     "text": [
      "Market Cap: 3274597203968\n",
      "Opening Price on 2024-06-25: 209.14999389648438\n"
     ]
    }
   ],
   "source": [
    "# tickerSymbol = 'AAPL'\n",
    "# tickerData = yf.Ticker(tickerSymbol)\n",
    "\n",
    "# # Get the current date and subtract one day to get a past date\n",
    "# end_date = datetime.now() - timedelta(days=1)\n",
    "# start_date = end_date - timedelta(days=1)\n",
    "\n",
    "# # Format the dates as strings\n",
    "# start_date_str = start_date.strftime('%Y-%m-%d')\n",
    "# end_date_str = end_date.strftime('%Y-%m-%d')\n",
    "\n",
    "# # Get the historical prices for this ticker\n",
    "# tickerDf = tickerData.history(period='1d', start=start_date_str, end=end_date_str)\n",
    "\n",
    "# # Fetch market cap\n",
    "# marketCap = tickerData.info.get('marketCap', 'N/A')\n",
    "\n",
    "# # Get the opening price\n",
    "# price = tickerDf['Open'].iloc[0] if not tickerDf.empty else 'N/A'\n",
    "\n",
    "# print(f\"Market Cap: {marketCap}\")\n",
    "# print(f\"Opening Price on {start_date_str}: {price}\")"
   ]
  },
  {
   "cell_type": "markdown",
   "metadata": {},
   "source": [
    "## Parsing Our API Call\n",
    "\n",
    "The API call that we executed in the last code block contains all of the information required to build our equal-weight S&P 500 strategy. \n",
    "\n",
    "With that said, the data isn't in a proper format yet. We need to parse it first.\n",
    "\n",
    "> **_NOTE:_**  currentPrice is similar to what latestPrice is in IEX Cloud Data."
   ]
  },
  {
   "cell_type": "code",
   "execution_count": 41,
   "metadata": {},
   "outputs": [
    {
     "name": "stdout",
     "output_type": "stream",
     "text": [
      "214.1 3.283030900736\n"
     ]
    }
   ],
   "source": [
    "price = data.info['currentPrice']\n",
    "market_cap = data.info['marketCap']\n",
    "print(price, market_cap/1000000000000)"
   ]
  },
  {
   "cell_type": "markdown",
   "metadata": {},
   "source": [
    "## Adding Our Stocks Data to a Pandas DataFrame\n",
    "\n",
    "The next thing we need to do is add our stock's price and market capitalization to a pandas DataFrame. Think of a DataFrame like the Python version of a spreadsheet. It stores tabular data."
   ]
  },
  {
   "cell_type": "code",
   "execution_count": 50,
   "metadata": {},
   "outputs": [
    {
     "data": {
      "text/html": [
       "<div>\n",
       "<style scoped>\n",
       "    .dataframe tbody tr th:only-of-type {\n",
       "        vertical-align: middle;\n",
       "    }\n",
       "\n",
       "    .dataframe tbody tr th {\n",
       "        vertical-align: top;\n",
       "    }\n",
       "\n",
       "    .dataframe thead th {\n",
       "        text-align: right;\n",
       "    }\n",
       "</style>\n",
       "<table border=\"1\" class=\"dataframe\">\n",
       "  <thead>\n",
       "    <tr style=\"text-align: right;\">\n",
       "      <th></th>\n",
       "      <th>Ticker</th>\n",
       "      <th>Stock Price</th>\n",
       "      <th>Market Capitalization</th>\n",
       "      <th>Number of Shares to Buy</th>\n",
       "    </tr>\n",
       "  </thead>\n",
       "  <tbody>\n",
       "  </tbody>\n",
       "</table>\n",
       "</div>"
      ],
      "text/plain": [
       "Empty DataFrame\n",
       "Columns: [Ticker, Stock Price, Market Capitalization, Number of Shares to Buy]\n",
       "Index: []"
      ]
     },
     "execution_count": 50,
     "metadata": {},
     "output_type": "execute_result"
    }
   ],
   "source": [
    "my_columns = ['Ticker', 'Stock Price', 'Market Capitalization', 'Number of Shares to Buy']\n",
    "final_dataframe = pd.DataFrame(columns = my_columns)\n",
    "# print(final_dataframe)\n",
    "final_dataframe"
   ]
  },
  {
   "cell_type": "code",
   "execution_count": 58,
   "metadata": {},
   "outputs": [
    {
     "name": "stderr",
     "output_type": "stream",
     "text": [
      "C:\\Users\\ADMIN\\AppData\\Local\\Temp\\ipykernel_24048\\1829372518.py:1: FutureWarning: The frame.append method is deprecated and will be removed from pandas in a future version. Use pandas.concat instead.\n",
      "  final_dataframe.append(\n"
     ]
    },
    {
     "data": {
      "text/html": [
       "<div>\n",
       "<style scoped>\n",
       "    .dataframe tbody tr th:only-of-type {\n",
       "        vertical-align: middle;\n",
       "    }\n",
       "\n",
       "    .dataframe tbody tr th {\n",
       "        vertical-align: top;\n",
       "    }\n",
       "\n",
       "    .dataframe thead th {\n",
       "        text-align: right;\n",
       "    }\n",
       "</style>\n",
       "<table border=\"1\" class=\"dataframe\">\n",
       "  <thead>\n",
       "    <tr style=\"text-align: right;\">\n",
       "      <th></th>\n",
       "      <th>Ticker</th>\n",
       "      <th>Stock Price</th>\n",
       "      <th>Market Capitalization</th>\n",
       "      <th>Number of Shares to Buy</th>\n",
       "    </tr>\n",
       "  </thead>\n",
       "  <tbody>\n",
       "    <tr>\n",
       "      <th>0</th>\n",
       "      <td>AAPL</td>\n",
       "      <td>214.1</td>\n",
       "      <td>3283030900736</td>\n",
       "      <td>N/A</td>\n",
       "    </tr>\n",
       "  </tbody>\n",
       "</table>\n",
       "</div>"
      ],
      "text/plain": [
       "  Ticker  Stock Price Market Capitalization Number of Shares to Buy\n",
       "0   AAPL        214.1         3283030900736                     N/A"
      ]
     },
     "execution_count": 58,
     "metadata": {},
     "output_type": "execute_result"
    }
   ],
   "source": [
    "final_dataframe.append(\n",
    "    pd.Series(\n",
    "    [\n",
    "        symbol,\n",
    "        price,\n",
    "        market_cap,\n",
    "        'N/A'\n",
    "    ],\n",
    "    index = my_columns\n",
    "    ),\n",
    "    ignore_index=True\n",
    ")"
   ]
  },
  {
   "cell_type": "markdown",
   "metadata": {},
   "source": [
    "## Looping Through The Tickers in Our List of Stocks\n",
    "\n",
    "Using the same logic that we outlined above, we can pull data for all S&P 500 stocks and store their data in the DataFrame using a `for` loop."
   ]
  },
  {
   "cell_type": "code",
   "execution_count": null,
   "metadata": {},
   "outputs": [
    {
     "name": "stderr",
     "output_type": "stream",
     "text": [
      "404 Client Error: Not Found for url: https://query2.finance.yahoo.com/v10/finance/quoteSummary/ABC?modules=financialData%2CquoteType%2CdefaultKeyStatistics%2CassetProfile%2CsummaryDetail&corsDomain=finance.yahoo.com&formatted=false&symbol=ABC&crumb=2rPm363PiS.\n"
     ]
    },
    {
     "name": "stdout",
     "output_type": "stream",
     "text": [
      "Missing data for ABC: 'currentPrice' or 'marketCap' not found.\n",
      "Missing data for ALXN: 'currentPrice' or 'marketCap' not found.\n",
      "Missing data for ANTM: 'currentPrice' or 'marketCap' not found.\n"
     ]
    },
    {
     "name": "stderr",
     "output_type": "stream",
     "text": [
      "404 Client Error: Not Found for url: https://query2.finance.yahoo.com/v10/finance/quoteSummary/ATVI?modules=financialData%2CquoteType%2CdefaultKeyStatistics%2CassetProfile%2CsummaryDetail&corsDomain=finance.yahoo.com&formatted=false&symbol=ATVI&crumb=2rPm363PiS.\n"
     ]
    },
    {
     "name": "stdout",
     "output_type": "stream",
     "text": [
      "Missing data for ATVI: 'currentPrice' or 'marketCap' not found.\n",
      "Missing data for BF.B: 'currentPrice' or 'marketCap' not found.\n",
      "Missing data for BLL: 'currentPrice' or 'marketCap' not found.\n",
      "Missing data for BRK.B: 'currentPrice' or 'marketCap' not found.\n",
      "Missing data for CERN: 'currentPrice' or 'marketCap' not found.\n",
      "Missing data for COG: 'currentPrice' or 'marketCap' not found.\n",
      "Missing data for CTL: 'currentPrice' or 'marketCap' not found.\n",
      "Missing data for CTXS: 'currentPrice' or 'marketCap' not found.\n",
      "Missing data for CXO: 'currentPrice' or 'marketCap' not found.\n",
      "Missing data for DISCA: 'currentPrice' or 'marketCap' not found.\n",
      "Missing data for DISCK: 'currentPrice' or 'marketCap' not found.\n"
     ]
    },
    {
     "name": "stderr",
     "output_type": "stream",
     "text": [
      "404 Client Error: Not Found for url: https://query2.finance.yahoo.com/v10/finance/quoteSummary/DISH?modules=financialData%2CquoteType%2CdefaultKeyStatistics%2CassetProfile%2CsummaryDetail&corsDomain=finance.yahoo.com&formatted=false&symbol=DISH&crumb=2rPm363PiS.\n"
     ]
    },
    {
     "name": "stdout",
     "output_type": "stream",
     "text": [
      "Missing data for DISH: 'currentPrice' or 'marketCap' not found.\n",
      "Missing data for DRE: 'currentPrice' or 'marketCap' not found.\n",
      "Missing data for ETFC: 'currentPrice' or 'marketCap' not found.\n",
      "Missing data for FB: 'currentPrice' or 'marketCap' not found.\n",
      "Missing data for FBHS: 'currentPrice' or 'marketCap' not found.\n",
      "Missing data for FISV: 'currentPrice' or 'marketCap' not found.\n",
      "Missing data for FLIR: 'currentPrice' or 'marketCap' not found.\n"
     ]
    },
    {
     "name": "stderr",
     "output_type": "stream",
     "text": [
      "404 Client Error: Not Found for url: https://query2.finance.yahoo.com/v10/finance/quoteSummary/FLT?modules=financialData%2CquoteType%2CdefaultKeyStatistics%2CassetProfile%2CsummaryDetail&corsDomain=finance.yahoo.com&formatted=false&symbol=FLT&crumb=2rPm363PiS.\n"
     ]
    },
    {
     "name": "stdout",
     "output_type": "stream",
     "text": [
      "Missing data for FLT: 'currentPrice' or 'marketCap' not found.\n",
      "Missing data for FRC: 'currentPrice' or 'marketCap' not found.\n",
      "Missing data for HFC: 'currentPrice' or 'marketCap' not found.\n",
      "Missing data for INFO: 'currentPrice' or 'marketCap' not found.\n",
      "Missing data for KSU: 'currentPrice' or 'marketCap' not found.\n",
      "Missing data for LB: 'currentPrice' or 'marketCap' not found.\n",
      "Missing data for MXIM: 'currentPrice' or 'marketCap' not found.\n",
      "Missing data for MYL: 'currentPrice' or 'marketCap' not found.\n",
      "Missing data for NBL: 'currentPrice' or 'marketCap' not found.\n",
      "Missing data for NLOK: 'currentPrice' or 'marketCap' not found.\n",
      "Missing data for NLSN: 'currentPrice' or 'marketCap' not found.\n",
      "Missing data for PBCT: 'currentPrice' or 'marketCap' not found.\n"
     ]
    },
    {
     "name": "stderr",
     "output_type": "stream",
     "text": [
      "404 Client Error: Not Found for url: https://query2.finance.yahoo.com/v10/finance/quoteSummary/PEAK?modules=financialData%2CquoteType%2CdefaultKeyStatistics%2CassetProfile%2CsummaryDetail&corsDomain=finance.yahoo.com&formatted=false&symbol=PEAK&crumb=2rPm363PiS.\n"
     ]
    },
    {
     "name": "stdout",
     "output_type": "stream",
     "text": [
      "Missing data for PEAK: 'currentPrice' or 'marketCap' not found.\n",
      "Missing data for PKI: 'currentPrice' or 'marketCap' not found.\n"
     ]
    },
    {
     "name": "stderr",
     "output_type": "stream",
     "text": [
      "404 Client Error: Not Found for url: https://query2.finance.yahoo.com/v10/finance/quoteSummary/RE?modules=financialData%2CquoteType%2CdefaultKeyStatistics%2CassetProfile%2CsummaryDetail&corsDomain=finance.yahoo.com&formatted=false&symbol=RE&crumb=2rPm363PiS.\n"
     ]
    },
    {
     "name": "stdout",
     "output_type": "stream",
     "text": [
      "Missing data for RE: 'currentPrice' or 'marketCap' not found.\n",
      "Missing data for SIVB: 'currentPrice' or 'marketCap' not found.\n"
     ]
    }
   ],
   "source": [
    "# Initialize the final DataFrame\n",
    "final_dataframe = pd.DataFrame(columns=my_columns)\n",
    "\n",
    "for stock in stocks['Ticker']:\n",
    "    try:\n",
    "        data = yf.Ticker(stock)\n",
    "        stock_info = data.info\n",
    "        \n",
    "        # Check if the required keys are present in the info dictionary\n",
    "        if 'currentPrice' in stock_info and 'marketCap' in stock_info:\n",
    "            new_row = pd.DataFrame([[\n",
    "                stock,\n",
    "                stock_info['currentPrice'],\n",
    "                stock_info['marketCap'],\n",
    "                'N/A'\n",
    "            ]], columns=my_columns)\n",
    "            final_dataframe = pd.concat([final_dataframe, new_row], ignore_index=True)\n",
    "        else:\n",
    "            print(f\"Missing data for {stock}: 'currentPrice' or 'marketCap' not found.\")\n",
    "    except requests.exceptions.HTTPError as e:\n",
    "        print(f\"HTTPError fetching data for {stock}: {e}\")\n",
    "    except Exception as e:\n",
    "        print(f\"Error fetching data for {stock}: {e}\")\n",
    "\n",
    "print(final_dataframe)"
   ]
  },
  {
   "cell_type": "markdown",
   "metadata": {},
   "source": [
    "## Using Batch API Calls to Improve Performance\n",
    "\n",
    "Batch API calls are one of the easiest ways to improve the performance of your code.\n",
    "\n",
    "This is because HTTP requests are typically one of the slowest components of a script.\n",
    "\n",
    "Also, API providers will often give you discounted rates for using batch API calls since they are easier for the API provider to respond to.\n",
    "\n",
    "IEX Cloud limits their batch API calls to 100 tickers per request. Still, this reduces the number of API calls we'll make in this section from 500 to 5 - huge improvement! In this section, we'll split our list of stocks into groups of 100 and then make a batch API call for each group."
   ]
  },
  {
   "cell_type": "code",
   "execution_count": null,
   "metadata": {},
   "outputs": [],
   "source": []
  },
  {
   "cell_type": "code",
   "execution_count": null,
   "metadata": {},
   "outputs": [],
   "source": []
  },
  {
   "cell_type": "markdown",
   "metadata": {},
   "source": [
    "## Calculating the Number of Shares to Buy\n",
    "\n",
    "As you can see in the DataFrame above, we stil haven't calculated the number of shares of each stock to buy.\n",
    "\n",
    "We'll do that next."
   ]
  },
  {
   "cell_type": "code",
   "execution_count": null,
   "metadata": {},
   "outputs": [],
   "source": []
  },
  {
   "cell_type": "code",
   "execution_count": null,
   "metadata": {},
   "outputs": [],
   "source": []
  },
  {
   "cell_type": "markdown",
   "metadata": {},
   "source": [
    "## Formatting Our Excel Output\n",
    "\n",
    "We will be using the XlsxWriter library for Python to create nicely-formatted Excel files.\n",
    "\n",
    "XlsxWriter is an excellent package and offers tons of customization. However, the tradeoff for this is that the library can seem very complicated to new users. Accordingly, this section will be fairly long because I want to do a good job of explaining how XlsxWriter works.\n",
    "\n",
    "### Initializing our XlsxWriter Object"
   ]
  },
  {
   "cell_type": "code",
   "execution_count": null,
   "metadata": {},
   "outputs": [],
   "source": []
  },
  {
   "cell_type": "markdown",
   "metadata": {},
   "source": [
    "### Creating the Formats We'll Need For Our `.xlsx` File\n",
    "\n",
    "Formats include colors, fonts, and also symbols like `%` and `$`. We'll need four main formats for our Excel document:\n",
    "* String format for tickers\n",
    "* \\\\$XX.XX format for stock prices\n",
    "* \\\\$XX,XXX format for market capitalization\n",
    "* Integer format for the number of shares to purchase"
   ]
  },
  {
   "cell_type": "code",
   "execution_count": null,
   "metadata": {},
   "outputs": [],
   "source": []
  },
  {
   "cell_type": "markdown",
   "metadata": {},
   "source": [
    "### Applying the Formats to the Columns of Our `.xlsx` File\n",
    "\n",
    "We can use the `set_column` method applied to the `writer.sheets['Recommended Trades']` object to apply formats to specific columns of our spreadsheets.\n",
    "\n",
    "Here's an example:\n",
    "\n",
    "```python\n",
    "writer.sheets['Recommended Trades'].set_column('B:B', #This tells the method to apply the format to column B\n",
    "                     18, #This tells the method to apply a column width of 18 pixels\n",
    "                     string_template #This applies the format 'string_template' to the column\n",
    "                    )\n",
    "```"
   ]
  },
  {
   "cell_type": "code",
   "execution_count": null,
   "metadata": {},
   "outputs": [],
   "source": []
  },
  {
   "cell_type": "markdown",
   "metadata": {},
   "source": [
    "This code works, but it violates the software principle of \"Don't Repeat Yourself\". \n",
    "\n",
    "Let's simplify this by putting it in 2 loops:"
   ]
  },
  {
   "cell_type": "code",
   "execution_count": null,
   "metadata": {},
   "outputs": [],
   "source": []
  },
  {
   "cell_type": "markdown",
   "metadata": {},
   "source": [
    "## Saving Our Excel Output\n",
    "\n",
    "Saving our Excel file is very easy:"
   ]
  },
  {
   "cell_type": "code",
   "execution_count": null,
   "metadata": {},
   "outputs": [],
   "source": []
  },
  {
   "cell_type": "markdown",
   "metadata": {},
   "source": [
    "## Yahoo Finance info\n",
    "\n",
    "Here are the key fields present in the provided data:\n",
    "\n",
    "1. **Company Information:**\n",
    "   - `address1`: Company address.\n",
    "   - `city`: City of the company.\n",
    "   - `state`: State of the company.\n",
    "   - `zip`: Zip code of the company.\n",
    "   - `country`: Country of the company.\n",
    "   - `phone`: Company phone number.\n",
    "   - `website`: Company website URL.\n",
    "   - `industry`: Industry the company operates in.\n",
    "   - `industryKey`: Key for the industry.\n",
    "   - `industryDisp`: Display name for the industry.\n",
    "   - `sector`: Sector the company belongs to.\n",
    "   - `sectorKey`: Key for the sector.\n",
    "   - `sectorDisp`: Display name for the sector.\n",
    "   - `longBusinessSummary`: Detailed summary of the company's business.\n",
    "   - `fullTimeEmployees`: Number of full-time employees.\n",
    "   - `companyOfficers`: List of company officers with details such as name, age, title, and pay.\n",
    "\n",
    "2. **Risk Metrics:**\n",
    "   - `auditRisk`: Risk associated with audit.\n",
    "   - `boardRisk`: Risk associated with the board.\n",
    "   - `compensationRisk`: Risk associated with compensation.\n",
    "   - `shareHolderRightsRisk`: Risk associated with shareholder rights.\n",
    "   - `overallRisk`: Overall risk assessment.\n",
    "\n",
    "3. **Governance and Dates:**\n",
    "   - `governanceEpochDate`: Epoch date for governance.\n",
    "   - `compensationAsOfEpochDate`: Epoch date for compensation.\n",
    "   - `irWebsite`: Investor relations website URL.\n",
    "   - `maxAge`: Maximum age of the data.\n",
    "\n",
    "4. **Stock Information:**\n",
    "   - `priceHint`: Price hint for the stock.\n",
    "   - `previousClose`: Previous closing price.\n",
    "   - `open`: Opening price.\n",
    "   - `dayLow`: Lowest price of the day.\n",
    "   - `dayHigh`: Highest price of the day.\n",
    "   - `regularMarketPreviousClose`: Previous closing price in regular market.\n",
    "   - `regularMarketOpen`: Opening price in regular market.\n",
    "   - `regularMarketDayLow`: Lowest price of the day in regular market.\n",
    "   - `regularMarketDayHigh`: Highest price of the day in regular market.\n",
    "   - `dividendRate`: Dividend rate.\n",
    "   - `dividendYield`: Dividend yield.\n",
    "   - `exDividendDate`: Ex-dividend date.\n",
    "   - `payoutRatio`: Payout ratio.\n",
    "   - `fiveYearAvgDividendYield`: Five-year average dividend yield.\n",
    "   - `beta`: Beta value.\n",
    "   - `trailingPE`: Trailing price-to-earnings ratio.\n",
    "   - `forwardPE`: Forward price-to-earnings ratio.\n",
    "   - `volume`: Trading volume.\n",
    "   - `regularMarketVolume`: Trading volume in regular market.\n",
    "   - `averageVolume`: Average trading volume.\n",
    "   - `averageVolume10days`: Average trading volume over 10 days.\n",
    "   - `averageDailyVolume10Day`: Average daily trading volume over 10 days.\n",
    "   - `bid`: Bid price.\n",
    "   - `ask`: Ask price.\n",
    "   - `bidSize`: Bid size.\n",
    "   - `askSize`: Ask size.\n",
    "   - `marketCap`: Market capitalization.\n",
    "   - `fiftyTwoWeekLow`: 52-week low price.\n",
    "   - `fiftyTwoWeekHigh`: 52-week high price.\n",
    "   - `priceToSalesTrailing12Months`: Price-to-sales ratio over the trailing 12 months.\n",
    "   - `fiftyDayAverage`: 50-day moving average.\n",
    "   - `twoHundredDayAverage`: 200-day moving average.\n",
    "   - `trailingAnnualDividendRate`: Trailing annual dividend rate.\n",
    "   - `trailingAnnualDividendYield`: Trailing annual dividend yield.\n",
    "   - `currency`: Currency of the stock.\n",
    "   - `enterpriseValue`: Enterprise value.\n",
    "   - `profitMargins`: Profit margins.\n",
    "   - `floatShares`: Number of shares available for trading.\n",
    "   - `sharesOutstanding`: Number of shares outstanding.\n",
    "   - `sharesShort`: Number of shares shorted.\n",
    "   - `sharesShortPriorMonth`: Number of shares shorted in the prior month.\n",
    "   - `sharesShortPreviousMonthDate`: Date of the previous month's short interest.\n",
    "   - `dateShortInterest`: Date of the short interest.\n",
    "   - `sharesPercentSharesOut`: Percentage of shares outstanding that are shorted.\n",
    "   - `heldPercentInsiders`: Percentage of shares held by insiders.\n",
    "   - `heldPercentInstitutions`: Percentage of shares held by institutions.\n",
    "   - `shortRatio`: Short ratio.\n",
    "   - `shortPercentOfFloat`: Percentage of float that is shorted.\n",
    "   - `impliedSharesOutstanding`: Implied number of shares outstanding.\n",
    "   - `bookValue`: Book value.\n",
    "   - `priceToBook`: Price-to-book ratio.\n",
    "   - `lastFiscalYearEnd`: Last fiscal year end date.\n",
    "   - `nextFiscalYearEnd`: Next fiscal year end date.\n",
    "   - `mostRecentQuarter`: Most recent quarter date.\n",
    "   - `earningsQuarterlyGrowth`: Quarterly earnings growth.\n",
    "   - `netIncomeToCommon`: Net income to common shareholders.\n",
    "   - `trailingEps`: Trailing earnings per share.\n",
    "   - `forwardEps`: Forward earnings per share.\n",
    "   - `pegRatio`: Price/earnings to growth ratio.\n",
    "   - `lastSplitFactor`: Last stock split factor.\n",
    "   - `lastSplitDate`: Last stock split date.\n",
    "   - `enterpriseToRevenue`: Enterprise value to revenue ratio.\n",
    "   - `enterpriseToEbitda`: Enterprise value to EBITDA ratio.\n",
    "   - `52WeekChange`: 52-week price change.\n",
    "   - `SandP52WeekChange`: S&P 52-week price change.\n",
    "   - `lastDividendValue`: Last dividend value.\n",
    "   - `lastDividendDate`: Last dividend date.\n",
    "   - `exchange`: Stock exchange.\n",
    "   - `quoteType`: Type of quote.\n",
    "   - `symbol`: Stock symbol.\n",
    "   - `underlyingSymbol`: Underlying symbol.\n",
    "   - `shortName`: Short name of the company.\n",
    "   - `longName`: Long name of the company.\n",
    "   - `firstTradeDateEpochUtc`: First trade date in epoch UTC.\n",
    "   - `timeZoneFullName`: Full name of the time zone.\n",
    "   - `timeZoneShortName`: Short name of the time zone.\n",
    "   - `uuid`: Unique identifier.\n",
    "   - `messageBoardId`: Message board ID.\n",
    "   - `gmtOffSetMilliseconds`: GMT offset in milliseconds.\n",
    "   - `currentPrice`: Current price.\n",
    "   - `targetHighPrice`: Target high price.\n",
    "   - `targetLowPrice`: Target low price.\n",
    "   - `targetMeanPrice`: Target mean price.\n",
    "   - `targetMedianPrice`: Target median price.\n",
    "   - `recommendationMean`: Mean recommendation.\n",
    "   - `recommendationKey`: Recommendation key.\n",
    "   - `numberOfAnalystOpinions`: Number of analyst opinions.\n",
    "   - `totalCash`: Total cash.\n",
    "   - `totalCashPerShare`: Total cash per share.\n",
    "   - `ebitda`: Earnings before interest, taxes, depreciation, and amortization.\n",
    "   - `totalDebt`: Total debt.\n",
    "   - `quickRatio`: Quick ratio.\n",
    "   - `currentRatio`: Current ratio.\n",
    "   - `totalRevenue`: Total revenue.\n",
    "   - `debtToEquity`: Debt-to-equity ratio.\n",
    "   - `revenuePerShare`: Revenue per share.\n",
    "   - `returnOnAssets`: Return on assets.\n",
    "   - `returnOnEquity`: Return on equity.\n",
    "   - `freeCashflow`: Free cash flow.\n",
    "   - `operatingCashflow`: Operating cash flow.\n",
    "   - `earningsGrowth`: Earnings growth.\n",
    "   - `revenueGrowth`: Revenue growth.\n",
    "   - `grossMargins`: Gross margins.\n",
    "   - `ebitdaMargins`: EBITDA margins.\n",
    "   - `operatingMargins`: Operating margins.\n",
    "   - `financialCurrency`: Financial currency.\n",
    "   - `trailingPegRatio`: Trailing price/earnings to growth ratio."
   ]
  }
 ],
 "metadata": {
  "kernelspec": {
   "display_name": "Python 3 (ipykernel)",
   "language": "python",
   "name": "python3"
  },
  "language_info": {
   "codemirror_mode": {
    "name": "ipython",
    "version": 3
   },
   "file_extension": ".py",
   "mimetype": "text/x-python",
   "name": "python",
   "nbconvert_exporter": "python",
   "pygments_lexer": "ipython3",
   "version": "3.9.13"
  }
 },
 "nbformat": 4,
 "nbformat_minor": 4
}
